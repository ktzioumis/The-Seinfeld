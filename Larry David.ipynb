{
 "cells": [
  {
   "cell_type": "markdown",
   "metadata": {},
   "source": [
    "# The Larry David Identifier"
   ]
  },
  {
   "cell_type": "markdown",
   "metadata": {},
   "source": [
    " Larry David was by far the show's most prolific writer, credited on a third of the total episodes produced. By using a a Keras Deep Learning Model with Natural Language Processing can we tease out Larry David's signature in the dialogue of Seinfeld?"
   ]
  },
  {
   "cell_type": "markdown",
   "metadata": {},
   "source": [
    "<img src='https://media.giphy.com/media/3ohhwBgENXNtIImU3m/giphy.gif'>"
   ]
  },
  {
   "cell_type": "code",
   "execution_count": null,
   "metadata": {},
   "outputs": [],
   "source": []
  },
  {
   "cell_type": "code",
   "execution_count": 38,
   "metadata": {},
   "outputs": [
    {
     "name": "stderr",
     "output_type": "stream",
     "text": [
      "'matplotlib' is not recognized as an internal or external command,\n",
      "operable program or batch file.\n"
     ]
    }
   ],
   "source": [
    "import keras\n",
    "from keras.preprocessing.sequence import pad_sequences\n",
    "from keras.layers import Input, Dense, LSTM, Embedding, GRU\n",
    "from keras.layers import Dropout, Activation, Bidirectional, GlobalMaxPool1D\n",
    "from keras.models import Model ,Sequential\n",
    "from keras import initializers, regularizers, constraints, optimizers, layers\n",
    "from keras.preprocessing import text, sequence\n",
    "from keras.callbacks import ModelCheckpoint\n",
    "from keras.callbacks import EarlyStopping\n",
    "from sklearn.model_selection import train_test_split\n",
    "import matplotlib.pyplot as plt\n",
    "import numpy as np\n",
    "import pandas as pd\n",
    "!matplotlib inline\n",
    "np.random.seed(0)"
   ]
  },
  {
   "cell_type": "markdown",
   "metadata": {},
   "source": [
    "Cleaned and modified tables are imported to dataframes"
   ]
  },
  {
   "cell_type": "code",
   "execution_count": 39,
   "metadata": {},
   "outputs": [],
   "source": [
    "episodes=pd.read_csv('episodes_cleaned.csv',index_col='Unnamed: 0')\n",
    "scripts=pd.read_csv('scripts_cleaned.csv',index_col='Unnamed: 0')"
   ]
  },
  {
   "cell_type": "markdown",
   "metadata": {},
   "source": [
    "Episodes are labelled by whether 'Larry David' was in the writing credits."
   ]
  },
  {
   "cell_type": "code",
   "execution_count": 40,
   "metadata": {},
   "outputs": [
    {
     "name": "stderr",
     "output_type": "stream",
     "text": [
      "C:\\Users\\kosta\\Anaconda3\\lib\\site-packages\\ipykernel_launcher.py:6: SettingWithCopyWarning: \n",
      "A value is trying to be set on a copy of a slice from a DataFrame\n",
      "\n",
      "See the caveats in the documentation: http://pandas.pydata.org/pandas-docs/stable/indexing.html#indexing-view-versus-copy\n",
      "  \n"
     ]
    }
   ],
   "source": [
    "episodes['Larry']=0\n",
    "for ep in episodes.iterrows():\n",
    "    names=(ep[1][4].replace(' and ',',').split(','))\n",
    "    for name in names:\n",
    "        if 'Larry David' in name:\n",
    "            episodes['Larry'][ep[0]]=1\n",
    "larry_eps=list(episodes.loc[episodes.Larry==1]['SEID'])\n",
    "    "
   ]
  },
  {
   "cell_type": "markdown",
   "metadata": {},
   "source": [
    "The scripts rows are also labelled based on the SEID whether Larry David was credited on that episode"
   ]
  },
  {
   "cell_type": "code",
   "execution_count": 44,
   "metadata": {},
   "outputs": [
    {
     "data": {
      "text/html": [
       "<div>\n",
       "<style scoped>\n",
       "    .dataframe tbody tr th:only-of-type {\n",
       "        vertical-align: middle;\n",
       "    }\n",
       "\n",
       "    .dataframe tbody tr th {\n",
       "        vertical-align: top;\n",
       "    }\n",
       "\n",
       "    .dataframe thead th {\n",
       "        text-align: right;\n",
       "    }\n",
       "</style>\n",
       "<table border=\"1\" class=\"dataframe\">\n",
       "  <thead>\n",
       "    <tr style=\"text-align: right;\">\n",
       "      <th></th>\n",
       "      <th>Dialogue</th>\n",
       "      <th>character_stripped</th>\n",
       "      <th>Larry</th>\n",
       "    </tr>\n",
       "  </thead>\n",
       "  <tbody>\n",
       "    <tr>\n",
       "      <th>0</th>\n",
       "      <td>do you know what this is all about? do you kno...</td>\n",
       "      <td>jerry</td>\n",
       "      <td>1</td>\n",
       "    </tr>\n",
       "    <tr>\n",
       "      <th>1</th>\n",
       "      <td>(pointing at georges shirt) see, to me, that b...</td>\n",
       "      <td>jerry</td>\n",
       "      <td>1</td>\n",
       "    </tr>\n",
       "    <tr>\n",
       "      <th>2</th>\n",
       "      <td>are you through?</td>\n",
       "      <td>george</td>\n",
       "      <td>1</td>\n",
       "    </tr>\n",
       "    <tr>\n",
       "      <th>3</th>\n",
       "      <td>you do of course try on, when you buy?</td>\n",
       "      <td>jerry</td>\n",
       "      <td>1</td>\n",
       "    </tr>\n",
       "    <tr>\n",
       "      <th>4</th>\n",
       "      <td>yes, it was purple, i liked it, i dont actuall...</td>\n",
       "      <td>george</td>\n",
       "      <td>1</td>\n",
       "    </tr>\n",
       "  </tbody>\n",
       "</table>\n",
       "</div>"
      ],
      "text/plain": [
       "                                            Dialogue character_stripped  Larry\n",
       "0  do you know what this is all about? do you kno...              jerry      1\n",
       "1  (pointing at georges shirt) see, to me, that b...              jerry      1\n",
       "2                                   are you through?             george      1\n",
       "3             you do of course try on, when you buy?              jerry      1\n",
       "4  yes, it was purple, i liked it, i dont actuall...             george      1"
      ]
     },
     "execution_count": 44,
     "metadata": {},
     "output_type": "execute_result"
    }
   ],
   "source": [
    "scripts['Larry']=0\n",
    "for ep in larry_eps:\n",
    "    scripts.loc[scripts['SEID']==ep,'Larry']=1\n",
    "scripts[['Dialogue','character_stripped','Larry']].head()"
   ]
  },
  {
   "cell_type": "markdown",
   "metadata": {},
   "source": [
    "The individual snippets of dialogue are tokenized and converted to uniform length padded sequences"
   ]
  },
  {
   "cell_type": "code",
   "execution_count": 6,
   "metadata": {},
   "outputs": [],
   "source": [
    "tokenizer = text.Tokenizer(num_words=20000)\n",
    "tokenizer.fit_on_texts(list(scripts['Dialogue'].values))\n",
    "list_tokenized_train = tokenizer.texts_to_sequences(scripts.Dialogue.values)\n",
    "X_t = pad_sequences(list_tokenized_train,maxlen=100)\n",
    "y=scripts.Larry.values"
   ]
  },
  {
   "cell_type": "markdown",
   "metadata": {},
   "source": [
    "To address the data imbalance, the dataset is resampled using Synthetic Minority Oversampling TEchnique to give an even distribution"
   ]
  },
  {
   "cell_type": "code",
   "execution_count": 7,
   "metadata": {},
   "outputs": [],
   "source": [
    "from imblearn.over_sampling import RandomOverSampler, SMOTE\n",
    "X_resampled, y_resampled = SMOTE().fit_sample(X_t, y) "
   ]
  },
  {
   "cell_type": "markdown",
   "metadata": {},
   "source": [
    "Dataset is split into train and test sets, the testing set will comprise 25% of the data. "
   ]
  },
  {
   "cell_type": "code",
   "execution_count": 8,
   "metadata": {},
   "outputs": [],
   "source": [
    "X_r_train, X_r_test, y_r_train, y_r_test = train_test_split(X_resampled,y_resampled)"
   ]
  },
  {
   "cell_type": "markdown",
   "metadata": {},
   "source": [
    "# Keras Deep Learning Models\n",
    "\n",
    "An iterative approach is it taken to model constuction. Each model starts with an Embedding layer and outputs to a single Densely connected node with sigmoid activation. Models are fit for 4 or 5 epochs with batch size of 32 and validation split of 0.1. The lowest validation loss generally occurs after the second epoch and the saved model will reflect this optimization."
   ]
  },
  {
   "cell_type": "markdown",
   "metadata": {},
   "source": [
    "Long Short Term Memory (50 nodes) and Dropout (0.5)"
   ]
  },
  {
   "cell_type": "code",
   "execution_count": 27,
   "metadata": {},
   "outputs": [
    {
     "name": "stdout",
     "output_type": "stream",
     "text": [
      "Train on 48714 samples, validate on 5413 samples\n",
      "Epoch 1/5\n",
      "48714/48714 [==============================] - 236s 5ms/step - loss: 0.6663 - acc: 0.5794 - val_loss: 0.6178 - val_acc: 0.6375\n",
      "\n",
      "Epoch 00001: val_loss improved from inf to 0.61776, saving model to lstm_weights_base.best.hdf5\n",
      "Epoch 2/5\n",
      "48714/48714 [==============================] - 236s 5ms/step - loss: 0.5542 - acc: 0.6999 - val_loss: 0.5923 - val_acc: 0.6606\n",
      "\n",
      "Epoch 00002: val_loss improved from 0.61776 to 0.59230, saving model to lstm_weights_base.best.hdf5\n",
      "Epoch 3/5\n",
      "48714/48714 [==============================] - 228s 5ms/step - loss: 0.4653 - acc: 0.7544 - val_loss: 0.6210 - val_acc: 0.6588\n",
      "\n",
      "Epoch 00003: val_loss did not improve from 0.59230\n",
      "Epoch 4/5\n",
      "48714/48714 [==============================] - 225s 5ms/step - loss: 0.4080 - acc: 0.7840 - val_loss: 0.6628 - val_acc: 0.6723\n",
      "\n",
      "Epoch 00004: val_loss did not improve from 0.59230\n",
      "Epoch 5/5\n",
      "48714/48714 [==============================] - 225s 5ms/step - loss: 0.3704 - acc: 0.8015 - val_loss: 0.7363 - val_acc: 0.6647\n",
      "\n",
      "Epoch 00005: val_loss did not improve from 0.59230\n"
     ]
    }
   ],
   "source": [
    "lstm_model = Sequential()\n",
    "lstm_model.add(Embedding(20000,128))\n",
    "lstm_model.add(LSTM(50, return_sequences=True))\n",
    "lstm_model.add(GlobalMaxPool1D())\n",
    "lstm_model.add(Dropout(0.5))\n",
    "lstm_model.add(Dense(1, activation='sigmoid'))\n",
    "\n",
    "lstm_model.compile(loss='binary_crossentropy',\n",
    "                  optimizer='adam',\n",
    "                  metrics=['accuracy'])\n",
    "\n",
    "checkpoints_path = 'lstm_weights_base.best.hdf5'\n",
    "checkpoint = [ModelCheckpoint(checkpoints_path, monitor='val_loss', verbose=1, save_best_only=True, mode='min')]\n",
    "\n",
    "lstm_history=lstm_model.fit(X_r_train,y_r_train,batch_size=32,epochs=5,validation_split=0.1, callbacks=checkpoint)"
   ]
  },
  {
   "cell_type": "markdown",
   "metadata": {},
   "source": [
    "Bidirectional Long Short Term Memory (50 nodes) and Dropout (0.5)"
   ]
  },
  {
   "cell_type": "code",
   "execution_count": 31,
   "metadata": {},
   "outputs": [
    {
     "name": "stdout",
     "output_type": "stream",
     "text": [
      "Train on 48714 samples, validate on 5413 samples\n",
      "Epoch 1/5\n",
      "48714/48714 [==============================] - 392s 8ms/step - loss: 0.6581 - acc: 0.5932 - val_loss: 0.6080 - val_acc: 0.6477\n",
      "\n",
      "Epoch 00001: val_loss improved from inf to 0.60798, saving model to lstm_bi_weights_base.best.hdf5\n",
      "Epoch 2/5\n",
      "48714/48714 [==============================] - 389s 8ms/step - loss: 0.5342 - acc: 0.7170 - val_loss: 0.5997 - val_acc: 0.6651\n",
      "\n",
      "Epoch 00002: val_loss improved from 0.60798 to 0.59973, saving model to lstm_bi_weights_base.best.hdf5\n",
      "Epoch 3/5\n",
      "48714/48714 [==============================] - 367s 8ms/step - loss: 0.4426 - acc: 0.7685 - val_loss: 0.6212 - val_acc: 0.6662\n",
      "\n",
      "Epoch 00003: val_loss did not improve from 0.59973\n",
      "Epoch 4/5\n",
      "48714/48714 [==============================] - 376s 8ms/step - loss: 0.3860 - acc: 0.7963 - val_loss: 0.6912 - val_acc: 0.6656\n",
      "\n",
      "Epoch 00004: val_loss did not improve from 0.59973\n",
      "Epoch 5/5\n",
      "48714/48714 [==============================] - 355s 7ms/step - loss: 0.3453 - acc: 0.8162 - val_loss: 0.7398 - val_acc: 0.6704\n",
      "\n",
      "Epoch 00005: val_loss did not improve from 0.59973\n"
     ]
    }
   ],
   "source": [
    "lstm_bi_model = Sequential()\n",
    "lstm_bi_model.add(Embedding(20000,128))\n",
    "lstm_bi_model.add(Bidirectional(LSTM(50, return_sequences=True)))\n",
    "lstm_bi_model.add(GlobalMaxPool1D())\n",
    "lstm_bi_model.add(Dropout(0.5))\n",
    "lstm_bi_model.add(Dense(1, activation='sigmoid'))\n",
    "\n",
    "lstm_bi_model.compile(loss='binary_crossentropy',\n",
    "                  optimizer='adam',\n",
    "                  metrics=['accuracy'])\n",
    "\n",
    "checkpoints_path = 'lstm_bi_weights_base.best.hdf5'\n",
    "checkpoint = [ModelCheckpoint(checkpoints_path, monitor='val_loss', verbose=1, save_best_only=True, mode='min')]\n",
    "\n",
    "lstm_bi_history=lstm_bi_model.fit(X_r_train,y_r_train,batch_size=32,epochs=5,validation_split=0.1, callbacks=checkpoint)"
   ]
  },
  {
   "cell_type": "markdown",
   "metadata": {},
   "source": [
    "Gated Recurrent Unit (50 nodes) and Dropout (0.5)"
   ]
  },
  {
   "cell_type": "code",
   "execution_count": 28,
   "metadata": {},
   "outputs": [
    {
     "name": "stdout",
     "output_type": "stream",
     "text": [
      "Train on 48714 samples, validate on 5413 samples\n",
      "Epoch 1/5\n",
      "48714/48714 [==============================] - 199s 4ms/step - loss: 0.6625 - acc: 0.5855 - val_loss: 0.6139 - val_acc: 0.6447\n",
      "\n",
      "Epoch 00001: val_loss improved from inf to 0.61387, saving model to gru_weights_base.best.hdf5\n",
      "Epoch 2/5\n",
      "48714/48714 [==============================] - 195s 4ms/step - loss: 0.5442 - acc: 0.7084 - val_loss: 0.5835 - val_acc: 0.6693\n",
      "\n",
      "Epoch 00002: val_loss improved from 0.61387 to 0.58347, saving model to gru_weights_base.best.hdf5\n",
      "Epoch 3/5\n",
      "48714/48714 [==============================] - 205s 4ms/step - loss: 0.4491 - acc: 0.7660 - val_loss: 0.6024 - val_acc: 0.6789\n",
      "\n",
      "Epoch 00003: val_loss did not improve from 0.58347\n",
      "Epoch 4/5\n",
      "48714/48714 [==============================] - 218s 4ms/step - loss: 0.3906 - acc: 0.7968 - val_loss: 0.6301 - val_acc: 0.6675\n",
      "\n",
      "Epoch 00004: val_loss did not improve from 0.58347\n",
      "Epoch 5/5\n",
      "48714/48714 [==============================] - 227s 5ms/step - loss: 0.3507 - acc: 0.8155 - val_loss: 0.7169 - val_acc: 0.6798\n",
      "\n",
      "Epoch 00005: val_loss did not improve from 0.58347\n"
     ]
    }
   ],
   "source": [
    "gru_model = Sequential()\n",
    "gru_model.add(Embedding(20000,128))\n",
    "gru_model.add(GRU(50, return_sequences=True))\n",
    "gru_model.add(GlobalMaxPool1D())\n",
    "gru_model.add(Dropout(0.5))\n",
    "gru_model.add(Dense(1, activation='sigmoid'))\n",
    "\n",
    "gru_model.compile(loss='binary_crossentropy',\n",
    "                  optimizer='adam',\n",
    "                  metrics=['accuracy'])\n",
    "\n",
    "checkpoints_path = 'gru_weights_base.best.hdf5'\n",
    "checkpoint = [ModelCheckpoint(checkpoints_path, monitor='val_loss', verbose=1, save_best_only=True, mode='min')]\n",
    "\n",
    "gru_history=gru_model.fit(X_r_train,y_r_train,batch_size=32,epochs=5,validation_split=0.1, callbacks=checkpoint)"
   ]
  },
  {
   "cell_type": "markdown",
   "metadata": {},
   "source": [
    "Bidirectional Gated Recurrent Unit (50 nodes) and Dropout (0.5)"
   ]
  },
  {
   "cell_type": "code",
   "execution_count": 28,
   "metadata": {},
   "outputs": [
    {
     "name": "stdout",
     "output_type": "stream",
     "text": [
      "Train on 48714 samples, validate on 5413 samples\n",
      "Epoch 1/5\n",
      "48714/48714 [==============================] - 168s 3ms/step - loss: 0.6522 - acc: 0.6048 - val_loss: 0.5934 - val_acc: 0.6710\n",
      "\n",
      "Epoch 00001: val_loss improved from inf to 0.59343, saving model to gru_bi_weights_base.best.hdf5\n",
      "Epoch 2/5\n",
      "48714/48714 [==============================] - 170s 3ms/step - loss: 0.5261 - acc: 0.7242 - val_loss: 0.5585 - val_acc: 0.6928\n",
      "\n",
      "Epoch 00002: val_loss improved from 0.59343 to 0.55855, saving model to gru_bi_weights_base.best.hdf5\n",
      "Epoch 3/5\n",
      "48714/48714 [==============================] - 172s 4ms/step - loss: 0.4326 - acc: 0.7752 - val_loss: 0.5835 - val_acc: 0.6946\n",
      "\n",
      "Epoch 00003: val_loss did not improve from 0.55855\n",
      "Epoch 4/5\n",
      "48714/48714 [==============================] - 171s 4ms/step - loss: 0.3700 - acc: 0.8060 - val_loss: 0.6199 - val_acc: 0.6885\n",
      "\n",
      "Epoch 00004: val_loss did not improve from 0.55855\n",
      "Epoch 5/5\n",
      "48714/48714 [==============================] - 169s 3ms/step - loss: 0.3274 - acc: 0.8266 - val_loss: 0.6749 - val_acc: 0.6837\n",
      "\n",
      "Epoch 00005: val_loss did not improve from 0.55855\n"
     ]
    }
   ],
   "source": [
    "gru_bi_model = Sequential()\n",
    "gru_bi_model.add(Embedding(20000,128))\n",
    "gru_bi_model.add(Bidirectional(GRU(50, return_sequences=True)))\n",
    "gru_bi_model.add(GlobalMaxPool1D())\n",
    "gru_bi_model.add(Dropout(0.5))\n",
    "gru_bi_model.add(Dense(1, activation='sigmoid'))\n",
    "\n",
    "gru_bi_model.compile(loss='binary_crossentropy',\n",
    "                  optimizer='adam',\n",
    "                  metrics=['accuracy'])\n",
    "\n",
    "checkpoints_path = 'gru_bi_weights_base.best.hdf5'\n",
    "checkpoint = [ModelCheckpoint(checkpoints_path, monitor='val_loss', verbose=1, save_best_only=True, mode='min')]\n",
    "\n",
    "gru_bi_history=gru_bi_model.fit(X_r_train,y_r_train,batch_size=32,epochs=5,validation_split=0.1, callbacks=checkpoint)"
   ]
  },
  {
   "cell_type": "markdown",
   "metadata": {},
   "source": [
    "Bidirectional GRU is the best of these shallow tests, further testing will be done on larger, deeper models."
   ]
  },
  {
   "cell_type": "markdown",
   "metadata": {},
   "source": [
    "Bidirectional Gated Recurrent Unit (50 nodes) and Dense layer (50 nodes)"
   ]
  },
  {
   "cell_type": "code",
   "execution_count": 35,
   "metadata": {},
   "outputs": [
    {
     "name": "stdout",
     "output_type": "stream",
     "text": [
      "Train on 48714 samples, validate on 5413 samples\n",
      "Epoch 1/5\n",
      "48714/48714 [==============================] - 313s 6ms/step - loss: 0.6409 - acc: 0.6096 - val_loss: 0.5868 - val_acc: 0.6688\n",
      "\n",
      "Epoch 00001: val_loss improved from inf to 0.58677, saving model to gru_bi2_weights_base.best.hdf5\n",
      "Epoch 2/5\n",
      "48714/48714 [==============================] - 314s 6ms/step - loss: 0.4915 - acc: 0.7423 - val_loss: 0.5794 - val_acc: 0.6762\n",
      "\n",
      "Epoch 00002: val_loss improved from 0.58677 to 0.57943, saving model to gru_bi2_weights_base.best.hdf5\n",
      "Epoch 3/5\n",
      "48714/48714 [==============================] - 295s 6ms/step - loss: 0.3845 - acc: 0.8023 - val_loss: 0.6614 - val_acc: 0.6715\n",
      "\n",
      "Epoch 00003: val_loss did not improve from 0.57943\n",
      "Epoch 4/5\n",
      "48714/48714 [==============================] - 322s 7ms/step - loss: 0.3186 - acc: 0.8316 - val_loss: 0.7555 - val_acc: 0.6680\n",
      "\n",
      "Epoch 00004: val_loss did not improve from 0.57943\n",
      "Epoch 5/5\n",
      "48714/48714 [==============================] - 317s 7ms/step - loss: 0.2722 - acc: 0.8555 - val_loss: 0.8422 - val_acc: 0.6771\n",
      "\n",
      "Epoch 00005: val_loss did not improve from 0.57943\n"
     ]
    }
   ],
   "source": [
    "gru_bi2_model = Sequential()\n",
    "gru_bi2_model.add(Embedding(20000,128))\n",
    "gru_bi2_model.add(Bidirectional(GRU(50, return_sequences=True)))\n",
    "gru_bi2_model.add(GlobalMaxPool1D())\n",
    "gru_bi2_model.add(Dense(50,activation='relu'))\n",
    "gru_bi2_model.add(Dense(1, activation='sigmoid'))\n",
    "\n",
    "gru_bi2_model.compile(loss='binary_crossentropy',\n",
    "                  optimizer='adam',\n",
    "                  metrics=['accuracy'])\n",
    "\n",
    "checkpoints_path = 'gru_bi2_weights_base.best.hdf5'\n",
    "checkpoint = [ModelCheckpoint(checkpoints_path, monitor='val_loss', verbose=1, save_best_only=True, mode='min')]\n",
    "\n",
    "gru_bi2_history=gru_bi2_model.fit(X_r_train,y_r_train,batch_size=32,epochs=5,validation_split=0.1, callbacks=checkpoint)"
   ]
  },
  {
   "cell_type": "markdown",
   "metadata": {},
   "source": [
    "Bidirectional Gated Recurrent Unit (50 nodes) and Dense layer (50 nodes) and dropout (0.2)"
   ]
  },
  {
   "cell_type": "code",
   "execution_count": 36,
   "metadata": {},
   "outputs": [
    {
     "name": "stdout",
     "output_type": "stream",
     "text": [
      "Train on 48714 samples, validate on 5413 samples\n",
      "Epoch 1/4\n",
      "48714/48714 [==============================] - 299s 6ms/step - loss: 0.6444 - acc: 0.6105 - val_loss: 0.5961 - val_acc: 0.6608\n",
      "\n",
      "Epoch 00001: val_loss improved from inf to 0.59606, saving model to gru_bi2d_weights_base.best.hdf5\n",
      "Epoch 2/4\n",
      "48714/48714 [==============================] - 305s 6ms/step - loss: 0.5011 - acc: 0.7373 - val_loss: 0.5708 - val_acc: 0.6828\n",
      "\n",
      "Epoch 00002: val_loss improved from 0.59606 to 0.57078, saving model to gru_bi2d_weights_base.best.hdf5\n",
      "Epoch 3/4\n",
      "48714/48714 [==============================] - 298s 6ms/step - loss: 0.3962 - acc: 0.7944 - val_loss: 0.6305 - val_acc: 0.6763\n",
      "\n",
      "Epoch 00003: val_loss did not improve from 0.57078\n",
      "Epoch 4/4\n",
      "48714/48714 [==============================] - 300s 6ms/step - loss: 0.3273 - acc: 0.8258 - val_loss: 0.6768 - val_acc: 0.6854\n",
      "\n",
      "Epoch 00004: val_loss did not improve from 0.57078\n"
     ]
    }
   ],
   "source": [
    "gru_bi2d_model = Sequential()\n",
    "gru_bi2d_model.add(Embedding(20000,128))\n",
    "gru_bi2d_model.add(Bidirectional(GRU(50, return_sequences=True)))\n",
    "gru_bi2d_model.add(GlobalMaxPool1D())\n",
    "gru_bi2d_model.add(Dense(50,activation='relu'))\n",
    "gru_bi2d_model.add(Dropout(0.2))\n",
    "gru_bi2d_model.add(Dense(1, activation='sigmoid'))\n",
    "\n",
    "gru_bi2d_model.compile(loss='binary_crossentropy',\n",
    "                  optimizer='adam',\n",
    "                  metrics=['accuracy'])\n",
    "\n",
    "checkpoints_path = 'gru_bi2d_weights_base.best.hdf5'\n",
    "checkpoint = [ModelCheckpoint(checkpoints_path, monitor='val_loss', verbose=1, save_best_only=True, mode='min')]\n",
    "\n",
    "gru_bi2d_history=gru_bi2d_model.fit(X_r_train,y_r_train,batch_size=32,epochs=4,validation_split=0.1, callbacks=checkpoint)"
   ]
  },
  {
   "cell_type": "code",
   "execution_count": null,
   "metadata": {},
   "outputs": [],
   "source": [
    "Bidirectional Gated Recurrent Unit (100 nodes) and two Dense layers (100 & 50 nodes) and dropout (0.2)"
   ]
  },
  {
   "cell_type": "code",
   "execution_count": 37,
   "metadata": {},
   "outputs": [
    {
     "name": "stdout",
     "output_type": "stream",
     "text": [
      "Train on 48714 samples, validate on 5413 samples\n",
      "Epoch 1/4\n",
      "48714/48714 [==============================] - 448s 9ms/step - loss: 0.6459 - acc: 0.6075 - val_loss: 0.5831 - val_acc: 0.6762\n",
      "\n",
      "Epoch 00001: val_loss improved from inf to 0.58311, saving model to gru_bi2d_weights_base.best.hdf5\n",
      "Epoch 2/4\n",
      "48714/48714 [==============================] - 412s 8ms/step - loss: 0.5007 - acc: 0.7354 - val_loss: 0.5849 - val_acc: 0.6887\n",
      "\n",
      "Epoch 00002: val_loss did not improve from 0.58311\n",
      "Epoch 3/4\n",
      "48714/48714 [==============================] - 393s 8ms/step - loss: 0.3957 - acc: 0.7911 - val_loss: 0.6475 - val_acc: 0.6786\n",
      "\n",
      "Epoch 00003: val_loss did not improve from 0.58311\n",
      "Epoch 4/4\n",
      "48714/48714 [==============================] - 400s 8ms/step - loss: 0.3269 - acc: 0.8251 - val_loss: 0.7372 - val_acc: 0.6852\n",
      "\n",
      "Epoch 00004: val_loss did not improve from 0.58311\n"
     ]
    }
   ],
   "source": [
    "gru_bi2d_model = Sequential()\n",
    "gru_bi2d_model.add(Embedding(20000,128))\n",
    "gru_bi2d_model.add(Bidirectional(GRU(100, return_sequences=True)))\n",
    "gru_bi2d_model.add(GlobalMaxPool1D())\n",
    "gru_bi2d_model.add(Dense(100,activation='relu'))\n",
    "gru_bi2d_model.add(Dropout(0.2))\n",
    "gru_bi2d_model.add(Dense(50,activation='relu'))\n",
    "gru_bi2d_model.add(Dropout(0.2))\n",
    "gru_bi2d_model.add(Dense(1, activation='sigmoid'))\n",
    "\n",
    "gru_bi2d_model.compile(loss='binary_crossentropy',\n",
    "                  optimizer='adam',\n",
    "                  metrics=['accuracy'])\n",
    "\n",
    "checkpoints_path = 'gru_bi2d_weights_base.best.hdf5'\n",
    "checkpoint = [ModelCheckpoint(checkpoints_path, monitor='val_loss', verbose=1, save_best_only=True, mode='min')]\n",
    "\n",
    "gru_bi2d_history=gru_bi2d_model.fit(X_r_train,y_r_train,batch_size=32,epochs=4,validation_split=0.1, callbacks=checkpoint)"
   ]
  },
  {
   "cell_type": "markdown",
   "metadata": {},
   "source": [
    "## Best Model\n",
    "Bidirectional Gated Recurrent Unit (200 nodes) and three Dense layers (200, 100, 50 nodes) and dropout (0.2)"
   ]
  },
  {
   "cell_type": "code",
   "execution_count": 30,
   "metadata": {},
   "outputs": [
    {
     "name": "stdout",
     "output_type": "stream",
     "text": [
      "Train on 48714 samples, validate on 5413 samples\n",
      "Epoch 1/4\n",
      "48714/48714 [==============================] - 309s 6ms/step - loss: 0.6648 - acc: 0.5820 - val_loss: 0.6078 - val_acc: 0.6508\n",
      "\n",
      "Epoch 00001: val_loss improved from inf to 0.60777, saving model to gru_3l_bi2d_weights_base.best.hdf5\n",
      "Epoch 2/4\n",
      "48714/48714 [==============================] - 306s 6ms/step - loss: 0.5241 - acc: 0.7221 - val_loss: 0.5452 - val_acc: 0.7046\n",
      "\n",
      "Epoch 00002: val_loss improved from 0.60777 to 0.54521, saving model to gru_3l_bi2d_weights_base.best.hdf5\n",
      "Epoch 3/4\n",
      "48714/48714 [==============================] - 301s 6ms/step - loss: 0.4153 - acc: 0.7839 - val_loss: 0.5863 - val_acc: 0.6983\n",
      "\n",
      "Epoch 00003: val_loss did not improve from 0.54521\n",
      "Epoch 4/4\n",
      "48714/48714 [==============================] - 331s 7ms/step - loss: 0.3455 - acc: 0.8162 - val_loss: 0.6134 - val_acc: 0.6893\n",
      "\n",
      "Epoch 00004: val_loss did not improve from 0.54521\n"
     ]
    }
   ],
   "source": [
    "gru_3l_bi2d_model = Sequential()\n",
    "gru_3l_bi2d_model.add(Embedding(20000,128))\n",
    "gru_3l_bi2d_model.add(Bidirectional(GRU(200, return_sequences=True)))\n",
    "gru_3l_bi2d_model.add(GlobalMaxPool1D())\n",
    "gru_3l_bi2d_model.add(Dense(200,activation='relu'))\n",
    "gru_3l_bi2d_model.add(Dropout(0.2))\n",
    "gru_3l_bi2d_model.add(Dense(100,activation='relu'))\n",
    "gru_3l_bi2d_model.add(Dropout(0.2))\n",
    "gru_3l_bi2d_model.add(Dense(50,activation='relu'))\n",
    "gru_3l_bi2d_model.add(Dropout(0.2))\n",
    "gru_3l_bi2d_model.add(Dense(1, activation='sigmoid'))\n",
    "\n",
    "gru_3l_bi2d_model.compile(loss='binary_crossentropy',\n",
    "                  optimizer='adam',\n",
    "                  metrics=['accuracy'])\n",
    "\n",
    "checkpoints_path = 'gru_3l_bi2d_weights_base.best.hdf5'\n",
    "checkpoint = [ModelCheckpoint(checkpoints_path, monitor='val_loss', verbose=1, save_best_only=True, mode='min')]\n",
    "\n",
    "gru_3l_bi2d_history=gru_3l_bi2d_model.fit(X_r_train,y_r_train,batch_size=32,epochs=4,validation_split=0.1, callbacks=checkpoint)"
   ]
  },
  {
   "cell_type": "code",
   "execution_count": 31,
   "metadata": {},
   "outputs": [
    {
     "data": {
      "image/png": "[encoded data removed]",
      "text/plain": [
       "<Figure size 432x288 with 1 Axes>"
      ]
     },
     "metadata": {
      "needs_background": "light"
     },
     "output_type": "display_data"
    },
    {
     "data": {
      "image/png": "[encoded data removed]",
      "text/plain": [
       "<Figure size 432x288 with 1 Axes>"
      ]
     },
     "metadata": {
      "needs_background": "light"
     },
     "output_type": "display_data"
    }
   ],
   "source": [
    "acc = gru_3l_bi2d_history.history['acc']\n",
    "val_acc = gru_3l_bi2d_history.history['val_acc']\n",
    "loss = gru_3l_bi2d_history.history['loss']\n",
    "val_loss = gru_3l_bi2d_history.history['val_loss']\n",
    "epochs = range(len(acc))\n",
    "plt.plot(epochs, acc, 'bo', label='Training acc')\n",
    "plt.plot(epochs, val_acc, 'b', label='Validation acc')\n",
    "plt.title('Training and validation accuracy')\n",
    "plt.legend()\n",
    "plt.figure()\n",
    "plt.plot(epochs, loss, 'bo', label='Training loss')\n",
    "plt.plot(epochs, val_loss, 'b', label='Validation loss')\n",
    "plt.title('Training and validation loss')\n",
    "plt.legend()\n",
    "plt.show()"
   ]
  },
  {
   "cell_type": "markdown",
   "metadata": {},
   "source": [
    "Further training after the second epoch continues to improve the training loss and accuracy but has a detrimental effect on the validation loss and accuracy. After the second epoch the model is being <b>overfit</b> to training data."
   ]
  },
  {
   "cell_type": "markdown",
   "metadata": {},
   "source": [
    "Further attemps to  improve the validation loss by increasing the Dropout rate and by including L1 regularization loss were not successful."
   ]
  },
  {
   "cell_type": "markdown",
   "metadata": {},
   "source": [
    "Bidirectional Gated Recurrent Unit (200 nodes) and three Dense layers (200, 100, 50 nodes) and dropout (0.5)"
   ]
  },
  {
   "cell_type": "code",
   "execution_count": 44,
   "metadata": {},
   "outputs": [
    {
     "name": "stdout",
     "output_type": "stream",
     "text": [
      "Train on 48714 samples, validate on 5413 samples\n",
      "Epoch 1/4\n",
      "48714/48714 [==============================] - 765s 16ms/step - loss: 0.6922 - acc: 0.5249 - val_loss: 0.6782 - val_acc: 0.5930\n",
      "\n",
      "Epoch 00001: val_loss improved from inf to 0.67824, saving model to gru_3l_bi2d5_weights_base.best.hdf5\n",
      "Epoch 2/4\n",
      "48714/48714 [==============================] - 751s 15ms/step - loss: 0.6113 - acc: 0.6627 - val_loss: 0.5802 - val_acc: 0.6773\n",
      "\n",
      "Epoch 00002: val_loss improved from 0.67824 to 0.58018, saving model to gru_3l_bi2d5_weights_base.best.hdf5\n",
      "Epoch 3/4\n",
      "48714/48714 [==============================] - 779s 16ms/step - loss: 0.4849 - acc: 0.7518 - val_loss: 0.5824 - val_acc: 0.6835\n",
      "\n",
      "Epoch 00003: val_loss did not improve from 0.58018\n",
      "Epoch 4/4\n",
      "48714/48714 [==============================] - 783s 16ms/step - loss: 0.3999 - acc: 0.7940 - val_loss: 0.6566 - val_acc: 0.6717\n",
      "\n",
      "Epoch 00004: val_loss did not improve from 0.58018\n"
     ]
    }
   ],
   "source": [
    "gru_3l_bi2d5_model = Sequential()\n",
    "gru_3l_bi2d5_model.add(Embedding(20000,128))\n",
    "gru_3l_bi2d5_model.add(Bidirectional(GRU(200, return_sequences=True)))\n",
    "gru_3l_bi2d5_model.add(GlobalMaxPool1D())\n",
    "gru_3l_bi2d5_model.add(Dense(200,activation='relu'))\n",
    "gru_3l_bi2d5_model.add(Dropout(0.5))\n",
    "gru_3l_bi2d5_model.add(Dense(100,activation='relu'))\n",
    "gru_3l_bi2d5_model.add(Dropout(0.5))\n",
    "gru_3l_bi2d5_model.add(Dense(50,activation='relu'))\n",
    "gru_3l_bi2d5_model.add(Dropout(0.5))\n",
    "gru_3l_bi2d5_model.add(Dense(1, activation='sigmoid'))\n",
    "\n",
    "gru_3l_bi2d5_model.compile(loss='binary_crossentropy',\n",
    "                  optimizer='adam',\n",
    "                  metrics=['accuracy'])\n",
    "\n",
    "checkpoints_path = 'gru_3l_bi2d5_weights_base.best.hdf5'\n",
    "checkpoint = [ModelCheckpoint(checkpoints_path, monitor='val_loss', verbose=1, save_best_only=True, mode='min')]\n",
    "\n",
    "gru_3l_bi2d5_history=gru_3l_bi2d5_model.fit(X_r_train,y_r_train,batch_size=32,epochs=4,validation_split=0.1, callbacks=checkpoint)"
   ]
  },
  {
   "cell_type": "markdown",
   "metadata": {},
   "source": [
    "Bidirectional Gated Recurrent Unit (50 nodes) and Dense layer (50 nodes) and l1 regularization (0.005)"
   ]
  },
  {
   "cell_type": "code",
   "execution_count": 39,
   "metadata": {
    "scrolled": true
   },
   "outputs": [
    {
     "name": "stdout",
     "output_type": "stream",
     "text": [
      "Train on 48714 samples, validate on 5413 samples\n",
      "Epoch 1/4\n",
      "48714/48714 [==============================] - 350s 7ms/step - loss: 0.8098 - acc: 0.5010 - val_loss: 0.6960 - val_acc: 0.5138\n",
      "\n",
      "Epoch 00001: val_loss improved from inf to 0.69602, saving model to gru_bi_l1_weights_base.best.hdf5\n",
      "Epoch 2/4\n",
      "48714/48714 [==============================] - 450s 9ms/step - loss: 0.6961 - acc: 0.4954 - val_loss: 0.6960 - val_acc: 0.5138\n",
      "\n",
      "Epoch 00002: val_loss improved from 0.69602 to 0.69602, saving model to gru_bi_l1_weights_base.best.hdf5\n",
      "Epoch 3/4\n",
      "48714/48714 [==============================] - 449s 9ms/step - loss: 0.6961 - acc: 0.4997 - val_loss: 0.6959 - val_acc: 0.5138\n",
      "\n",
      "Epoch 00003: val_loss improved from 0.69602 to 0.69593, saving model to gru_bi_l1_weights_base.best.hdf5\n",
      "Epoch 4/4\n",
      "48714/48714 [==============================] - 363s 7ms/step - loss: 0.6961 - acc: 0.5009 - val_loss: 0.6961 - val_acc: 0.4862\n",
      "\n",
      "Epoch 00004: val_loss did not improve from 0.69593\n"
     ]
    }
   ],
   "source": [
    "gru_bi_l1_model = Sequential()\n",
    "gru_bi_l1_model.add(Embedding(20000,128))\n",
    "gru_bi_l1_model.add(Bidirectional(GRU(50, return_sequences=True)))\n",
    "gru_bi_l1_model.add(GlobalMaxPool1D())\n",
    "gru_bi_l1_model.add(Dense(50,activation='relu',kernel_regularizer=regularizers.l1(0.005)))\n",
    "gru_bi_l1_model.add(Dense(1, activation='sigmoid'))\n",
    "\n",
    "gru_bi_l1_model.compile(loss='binary_crossentropy',\n",
    "                  optimizer='adam',\n",
    "                  metrics=['accuracy'])\n",
    "\n",
    "checkpoints_path = 'gru_bi_l1_weights_base.best.hdf5'\n",
    "checkpoint = [ModelCheckpoint(checkpoints_path, monitor='val_loss', verbose=1, save_best_only=True, mode='min')]\n",
    "\n",
    "gru_bi_l1_history=gru_bi_l1_model.fit(X_r_train,y_r_train,batch_size=32,epochs=4,validation_split=0.1, callbacks=checkpoint)"
   ]
  },
  {
   "cell_type": "markdown",
   "metadata": {},
   "source": [
    "Bidirectional Gated Recurrent Unit (200 nodes) and three Dense layers (200, 100, 50 nodes) and l1 regularization (0.005)"
   ]
  },
  {
   "cell_type": "code",
   "execution_count": null,
   "metadata": {},
   "outputs": [
    {
     "name": "stdout",
     "output_type": "stream",
     "text": [
      "Train on 48714 samples, validate on 5413 samples\n",
      "Epoch 1/4\n",
      "48714/48714 [==============================] - 979s 20ms/step - loss: 1.5565 - acc: 0.4964 - val_loss: 0.7584 - val_acc: 0.5138\n",
      "\n",
      "Epoch 00001: val_loss improved from inf to 0.75835, saving model to gru_3l1_bi_weights_base.best.hdf5\n",
      "Epoch 2/4\n",
      "48714/48714 [==============================] - 1007s 21ms/step - loss: 0.7588 - acc: 0.5029 - val_loss: 0.7589 - val_acc: 0.5138\n",
      "\n",
      "Epoch 00002: val_loss did not improve from 0.75835\n",
      "Epoch 3/4\n",
      " 1472/48714 [..............................] - ETA: 20:24 - loss: 0.7588 - acc: 0.4993"
     ]
    }
   ],
   "source": [
    "gru_3l1_bi_model = Sequential()\n",
    "gru_3l1_bi_model.add(Embedding(20000,128))\n",
    "gru_3l1_bi_model.add(Bidirectional(GRU(200, return_sequences=True)))\n",
    "gru_3l1_bi_model.add(GlobalMaxPool1D())\n",
    "gru_3l1_bi_model.add(Dense(200,activation='relu',kernel_regularizer=regularizers.l1(0.005)))\n",
    "gru_3l1_bi_model.add(Dense(100,activation='relu',kernel_regularizer=regularizers.l1(0.005)))\n",
    "gru_3l1_bi_model.add(Dense(50,activation='relu',kernel_regularizer=regularizers.l1(0.005)))\n",
    "gru_3l1_bi_model.add(Dense(1, activation='sigmoid'))\n",
    "\n",
    "gru_3l1_bi_model.compile(loss='binary_crossentropy',\n",
    "                  optimizer='adam',\n",
    "                  metrics=['accuracy'])\n",
    "\n",
    "checkpoints_path = 'gru_3l1_bi_weights_base.best.hdf5'\n",
    "checkpoint = [ModelCheckpoint(checkpoints_path, monitor='val_loss', verbose=1, save_best_only=True, mode='min')]\n",
    "\n",
    "gru_3l1_bi_history=gru_3l1_bi_model.fit(X_r_train,y_r_train,batch_size=32,epochs=4,validation_split=0.1, callbacks=checkpoint)"
   ]
  },
  {
   "cell_type": "markdown",
   "metadata": {},
   "source": [
    "# Reload Best Model\n",
    "The later adaptations fail to produce any improvements. The best model has been reloaded for evaluation on the test sample.\n",
    "Bidirectional Gated Recurrent Unit (200 nodes) and three Dense layers (200, 100, 50 nodes) and dropout (0.2) trained for 2 epochs"
   ]
  },
  {
   "cell_type": "code",
   "execution_count": 32,
   "metadata": {},
   "outputs": [],
   "source": [
    "model=keras.models.load_model('gru_3l_bi2d_weights_base.best.hdf5')"
   ]
  },
  {
   "cell_type": "code",
   "execution_count": 33,
   "metadata": {},
   "outputs": [
    {
     "name": "stdout",
     "output_type": "stream",
     "text": [
      "18043/18043 [==============================] - 21s 1ms/step\n"
     ]
    },
    {
     "data": {
      "text/plain": [
       "[0.5557038038795608, 0.6966136451677427]"
      ]
     },
     "execution_count": 33,
     "metadata": {},
     "output_type": "execute_result"
    }
   ],
   "source": [
    "model.evaluate(X_r_test,y_r_test,batch_size=32)"
   ]
  },
  {
   "cell_type": "markdown",
   "metadata": {},
   "source": [
    "Model is ~70% accurate on testing data with a loss function of 0.56"
   ]
  },
  {
   "cell_type": "code",
   "execution_count": 34,
   "metadata": {},
   "outputs": [],
   "source": [
    "y_predict=model.predict_classes(X_r_test,batch_size=32)"
   ]
  },
  {
   "cell_type": "code",
   "execution_count": 35,
   "metadata": {},
   "outputs": [
    {
     "data": {
      "text/plain": [
       "<matplotlib.colorbar.Colorbar at 0x1aab39abe80>"
      ]
     },
     "execution_count": 35,
     "metadata": {},
     "output_type": "execute_result"
    },
    {
     "data": {
      "image/png": "[encoded data removed]",
      "text/plain": [
       "<Figure size 432x288 with 2 Axes>"
      ]
     },
     "metadata": {
      "needs_background": "light"
     },
     "output_type": "display_data"
    }
   ],
   "source": [
    "from sklearn.metrics import confusion_matrix\n",
    "import itertools\n",
    "\n",
    "cnf_matrix = confusion_matrix(y_predict, y_r_test) #create confusion matrix\n",
    "\n",
    "plt.imshow(cnf_matrix,  cmap=plt.cm.Blues) #Create the basic matrix.\n",
    "\n",
    "#Add title and Axis Labels\n",
    "plt.title('Confusion Matrix')\n",
    "plt.ylabel('True label')\n",
    "plt.xlabel('Predicted label')\n",
    "\n",
    "#Add appropriate Axis Scales\n",
    "class_names = ['Not Larry David','Larry David'] #Get class labels to add to matrix\n",
    "tick_marks = np.arange(len(class_names))\n",
    "plt.xticks(tick_marks, class_names, rotation=45)\n",
    "plt.yticks(tick_marks, class_names)\n",
    "\n",
    "#Add Labels to Each Cell\n",
    "thresh = cnf_matrix.max() / 2. #Used for text coloring below\n",
    "#Here we iterate through the confusion matrix and append labels to our visualization.\n",
    "for i, j in itertools.product(range(cnf_matrix.shape[0]), range(cnf_matrix.shape[1])):\n",
    "        plt.text(j, i, cnf_matrix[i, j],\n",
    "                 horizontalalignment=\"center\",\n",
    "                 color=\"white\" if cnf_matrix[i, j] > thresh else \"black\")\n",
    "\n",
    "#Add a Side Bar Legend Showing Colors\n",
    "plt.colorbar()"
   ]
  },
  {
   "cell_type": "code",
   "execution_count": 36,
   "metadata": {},
   "outputs": [
    {
     "name": "stdout",
     "output_type": "stream",
     "text": [
      "Model Peformance Metrics:\n",
      "Precision: 0.7425886712546321\n",
      "Recall: 0.6138949671772429\n",
      "Accuracy: 0.6966136451809566\n",
      "F1-Score: 0.6721370388116915\n"
     ]
    }
   ],
   "source": [
    "from sklearn.metrics import precision_score, recall_score, accuracy_score, f1_score\n",
    "print('Model Peformance Metrics:')\n",
    "print('Precision: {}'.format(precision_score(y_r_test, y_predict)))\n",
    "print('Recall: {}'.format(recall_score(y_r_test, y_predict)))\n",
    "print('Accuracy: {}'.format(accuracy_score(y_r_test, y_predict)))\n",
    "print('F1-Score: {}'.format(f1_score(y_r_test, y_predict)))"
   ]
  },
  {
   "cell_type": "markdown",
   "metadata": {},
   "source": [
    "# The Conclusions\n",
    "The model is successful at determining the whether or not the writer of the dialogue was Larry David. There is, however, room for improvement"
   ]
  },
  {
   "cell_type": "markdown",
   "metadata": {},
   "source": [
    "# Future Work\n",
    "1. More data could potentially be obtained from other shows that Larry David has written for such as Saturday Night Live or Curb Your Enthusiasm.\n",
    "2. Short, simple phrases such as basic greetings could be eliminated from the dataset. Overly simple language is unlikely to have much distinctiveness to it, by using only longer dialogue lines the model is not stumped by a 'hello' that could be written by anyone. This, however, would result in less data to train the model on.\n",
    "3. Using whole episodes as text corpora for a deeper Larry David understanding. \n",
    "4. Making use of the Character speaking as a training feature. Only the text of the dialogue is considered in this model but the stylistic nuances of Larry David are most likely unique to the character being written for\n"
   ]
  },
  {
   "cell_type": "markdown",
   "metadata": {},
   "source": [
    "# Business Recommendations\n",
    "\n",
    "## The Brand\n",
    "'Seinfeld' is global brand, [From Elasticity](https://goelastic.com/three-immutable-branding-lessons-that-seinfeld-taught-us/)\n",
    ">Seinfeld still runs on 90 percent of TV markets across the country and ranks among American adults’ top five favorite shows. It’s earned more than $3 billion (with a “b”) after its network run ended. And every weeknight, no fewer than one million people tune in to watch reruns.\n",
    "\n",
    "\n",
    "This year there have been multiple 30th anniversary celebrations and shows such as the ['Seinfeld Experience'](https://deadline.com/2019/06/seinfeld-experience-sets-real-and-spectacular-opening-this-fall-in-new-york-1202638328/) \n",
    ">Part retail shop and part immersive show promotion, the ticketed attraction in the city’s Gramercy neighborhood will operate seven days a week. Tickets through February 2020<br>\n",
    ">(Deadline.com)\n",
    "\n",
    "There is huge scope for machine learning based products to utilize the Seinfeld name and brand. This notebook will introduce a learning model based on the identifying the writing of Larry David. This basic idea can be extrapolated and built from to create numerous writing and language based tie ins to the Seinfeld brand. For instance a \"write like Larry David\" teaching tool fro aspiring sit-com writers or a Seinfeld based adventure game.    \n",
    "\n",
    "## The Fraud Prevention\n",
    "Beyond Seinfeld, this type of application can be generalized to the field of fraud prevention. Training a deep learning model on writing samples from an individual the same way that has been done here could be used as part of a fraud prevention device designed to detect imposters in things like business and email correspondence\n",
    "\n",
    "### The CEO Fraud\n",
    "CEO fraud is a perfect candidate for this kind of implementation. \n",
    ">CEO Fraud is a scam in which cybercriminals spoof company email accounts and impersonate executives to try and fool an employee in accounting or HR into executing unauthorized wire transfers, or sending out confidential tax information.<br>\n",
    "[source](https://www.knowbe4.com/ceo-fraud)\n",
    "\n",
    "The FBI estimated the cost of impersonation fraud in the US alone at over $12 Billion in 2018 ([source](https://www.ic3.gov/media/2018/180712.aspx)) and this kind of scam is only becoming increasingly prevalent at an alarming rate:\n",
    "> ...impersonation attacks increased almost 70 percent (67%) in comparison to the results in last year’s report – with 73 percent of those organizations impacted by impersonation attacks having experienced a direct loss.<br>\n",
    "[source](https://www.globenewswire.com/news-release/2019/05/29/1854599/0/en/Mimecast-Global-Research-Finds-Loss-of-Customers-Finances-and-Data-Due-to-Rise-in-Impersonation-Attacks.html)\n",
    "\n",
    "By training a similar model to the one above on business correspondence provided by the company, the writing styles of C-Level executives could be identified and tool created that would flag correspondence by potential impersonators for further scrutiny.\n",
    "\n"
   ]
  },
  {
   "cell_type": "code",
   "execution_count": null,
   "metadata": {},
   "outputs": [],
   "source": []
  }
 ],
 "metadata": {
  "kernelspec": {
   "display_name": "Python 3",
   "language": "python",
   "name": "python3"
  },
  "language_info": {
   "codemirror_mode": {
    "name": "ipython",
    "version": 3
   },
   "file_extension": ".py",
   "mimetype": "text/x-python",
   "name": "python",
   "nbconvert_exporter": "python",
   "pygments_lexer": "ipython3",
   "version": "3.7.0"
  }
 },
 "nbformat": 4,
 "nbformat_minor": 2
}
