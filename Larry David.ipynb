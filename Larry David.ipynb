{
 "cells": [
  {
   "cell_type": "code",
   "execution_count": 23,
   "metadata": {},
   "outputs": [
    {
     "name": "stderr",
     "output_type": "stream",
     "text": [
      "'matplotlib' is not recognized as an internal or external command,\n",
      "operable program or batch file.\n"
     ]
    }
   ],
   "source": [
    "import keras\n",
    "from keras.preprocessing.sequence import pad_sequences\n",
    "from keras.layers import Input, Dense, LSTM, Embedding, GRU\n",
    "from keras.layers import Dropout, Activation, Bidirectional, GlobalMaxPool1D\n",
    "from keras.models import Model ,Sequential\n",
    "from keras import initializers, regularizers, constraints, optimizers, layers\n",
    "from keras.preprocessing import text, sequence\n",
    "from keras.callbacks import ModelCheckpoint\n",
    "from keras.callbacks import EarlyStopping\n",
    "from sklearn.model_selection import train_test_split\n",
    "import matplotlib.pyplot as plt\n",
    "import numpy as np\n",
    "import pandas as pd\n",
    "!matplotlib inline\n",
    "np.random.seed(0)"
   ]
  },
  {
   "cell_type": "code",
   "execution_count": 2,
   "metadata": {},
   "outputs": [],
   "source": [
    "episodes=pd.read_csv('episodes_cleaned.csv',index_col='Unnamed: 0')\n",
    "scripts=pd.read_csv('scripts_cleaned.csv',index_col='Unnamed: 0')"
   ]
  },
  {
   "cell_type": "code",
   "execution_count": 3,
   "metadata": {},
   "outputs": [
    {
     "name": "stderr",
     "output_type": "stream",
     "text": [
      "C:\\kosta\\Anaconda3\\lib\\site-packages\\ipykernel_launcher.py:6: SettingWithCopyWarning: \n",
      "A value is trying to be set on a copy of a slice from a DataFrame\n",
      "\n",
      "See the caveats in the documentation: http://pandas.pydata.org/pandas-docs/stable/indexing.html#indexing-view-versus-copy\n",
      "  \n"
     ]
    }
   ],
   "source": [
    "episodes['Larry']=0\n",
    "for ep in episodes.iterrows():\n",
    "    names=(ep[1][4].replace(' and ',',').split(','))\n",
    "    for name in names:\n",
    "        if 'Larry David' in name:\n",
    "            episodes['Larry'][ep[0]]=1\n",
    "larry_eps=list(episodes.loc[episodes.Larry==1]['SEID'])\n",
    "    "
   ]
  },
  {
   "cell_type": "code",
   "execution_count": 4,
   "metadata": {},
   "outputs": [
    {
     "data": {
      "text/plain": [
       "58"
      ]
     },
     "execution_count": 4,
     "metadata": {},
     "output_type": "execute_result"
    }
   ],
   "source": [
    "episodes.Larry.sum()"
   ]
  },
  {
   "cell_type": "code",
   "execution_count": 5,
   "metadata": {},
   "outputs": [
    {
     "data": {
      "text/html": [
       "<div>\n",
       "<style scoped>\n",
       "    .dataframe tbody tr th:only-of-type {\n",
       "        vertical-align: middle;\n",
       "    }\n",
       "\n",
       "    .dataframe tbody tr th {\n",
       "        vertical-align: top;\n",
       "    }\n",
       "\n",
       "    .dataframe thead th {\n",
       "        text-align: right;\n",
       "    }\n",
       "</style>\n",
       "<table border=\"1\" class=\"dataframe\">\n",
       "  <thead>\n",
       "    <tr style=\"text-align: right;\">\n",
       "      <th></th>\n",
       "      <th>Character</th>\n",
       "      <th>Dialogue</th>\n",
       "      <th>EpisodeNo</th>\n",
       "      <th>SEID</th>\n",
       "      <th>Season</th>\n",
       "      <th>character_stripped</th>\n",
       "      <th>Larry</th>\n",
       "    </tr>\n",
       "  </thead>\n",
       "  <tbody>\n",
       "    <tr>\n",
       "      <th>0</th>\n",
       "      <td>jerry</td>\n",
       "      <td>do you know what this is all about? do you kno...</td>\n",
       "      <td>0.0</td>\n",
       "      <td>S01E00</td>\n",
       "      <td>1.0</td>\n",
       "      <td>jerry</td>\n",
       "      <td>1</td>\n",
       "    </tr>\n",
       "    <tr>\n",
       "      <th>1</th>\n",
       "      <td>jerry</td>\n",
       "      <td>(pointing at georges shirt) see, to me, that b...</td>\n",
       "      <td>0.0</td>\n",
       "      <td>S01E00</td>\n",
       "      <td>1.0</td>\n",
       "      <td>jerry</td>\n",
       "      <td>1</td>\n",
       "    </tr>\n",
       "    <tr>\n",
       "      <th>2</th>\n",
       "      <td>george</td>\n",
       "      <td>are you through?</td>\n",
       "      <td>0.0</td>\n",
       "      <td>S01E00</td>\n",
       "      <td>1.0</td>\n",
       "      <td>george</td>\n",
       "      <td>1</td>\n",
       "    </tr>\n",
       "    <tr>\n",
       "      <th>3</th>\n",
       "      <td>jerry</td>\n",
       "      <td>you do of course try on, when you buy?</td>\n",
       "      <td>0.0</td>\n",
       "      <td>S01E00</td>\n",
       "      <td>1.0</td>\n",
       "      <td>jerry</td>\n",
       "      <td>1</td>\n",
       "    </tr>\n",
       "    <tr>\n",
       "      <th>4</th>\n",
       "      <td>george</td>\n",
       "      <td>yes, it was purple, i liked it, i dont actuall...</td>\n",
       "      <td>0.0</td>\n",
       "      <td>S01E00</td>\n",
       "      <td>1.0</td>\n",
       "      <td>george</td>\n",
       "      <td>1</td>\n",
       "    </tr>\n",
       "  </tbody>\n",
       "</table>\n",
       "</div>"
      ],
      "text/plain": [
       "  Character                                           Dialogue  EpisodeNo  \\\n",
       "0     jerry  do you know what this is all about? do you kno...        0.0   \n",
       "1     jerry  (pointing at georges shirt) see, to me, that b...        0.0   \n",
       "2    george                                   are you through?        0.0   \n",
       "3     jerry             you do of course try on, when you buy?        0.0   \n",
       "4    george  yes, it was purple, i liked it, i dont actuall...        0.0   \n",
       "\n",
       "     SEID  Season character_stripped  Larry  \n",
       "0  S01E00     1.0              jerry      1  \n",
       "1  S01E00     1.0              jerry      1  \n",
       "2  S01E00     1.0             george      1  \n",
       "3  S01E00     1.0              jerry      1  \n",
       "4  S01E00     1.0             george      1  "
      ]
     },
     "execution_count": 5,
     "metadata": {},
     "output_type": "execute_result"
    }
   ],
   "source": [
    "scripts['Larry']=0\n",
    "for ep in larry_eps:\n",
    "    scripts.loc[scripts['SEID']==ep,'Larry']=1\n",
    "scripts.head()"
   ]
  },
  {
   "cell_type": "code",
   "execution_count": 6,
   "metadata": {},
   "outputs": [],
   "source": [
    "tokenizer = text.Tokenizer(num_words=20000)\n",
    "tokenizer.fit_on_texts(list(scripts['Dialogue'].values))\n",
    "list_tokenized_train = tokenizer.texts_to_sequences(scripts.Dialogue.values)\n",
    "X_t = pad_sequences(list_tokenized_train,maxlen=100)\n",
    "y=scripts.Larry.values"
   ]
  },
  {
   "cell_type": "code",
   "execution_count": 14,
   "metadata": {},
   "outputs": [],
   "source": [
    "from imblearn.over_sampling import RandomOverSampler, SMOTE\n",
    "X_resampled, y_resampled = SMOTE().fit_sample(X_t, y) "
   ]
  },
  {
   "cell_type": "code",
   "execution_count": 15,
   "metadata": {},
   "outputs": [],
   "source": [
    "X_r_train, X_r_test, y_r_train, y_r_test = train_test_split(X_resampled,y_resampled)"
   ]
  },
  {
   "cell_type": "code",
   "execution_count": 19,
   "metadata": {},
   "outputs": [
    {
     "name": "stdout",
     "output_type": "stream",
     "text": [
      "Train on 48714 samples, validate on 5413 samples\n",
      "Epoch 1/5\n",
      "48714/48714 [==============================] - 844s 17ms/step - loss: 0.6729 - acc: 0.5690 - val_loss: 0.6284 - val_acc: 0.6519\n",
      "\n",
      "Epoch 00001: val_loss improved from inf to 0.62844, saving model to weights_base.best.hdf5\n",
      "Epoch 2/5\n",
      "48714/48714 [==============================] - 853s 18ms/step - loss: 0.5469 - acc: 0.7137 - val_loss: 0.5649 - val_acc: 0.6841\n",
      "\n",
      "Epoch 00002: val_loss improved from 0.62844 to 0.56493, saving model to weights_base.best.hdf5\n",
      "Epoch 3/5\n",
      "48714/48714 [==============================] - 865s 18ms/step - loss: 0.4405 - acc: 0.7728 - val_loss: 0.6217 - val_acc: 0.6767\n",
      "\n",
      "Epoch 00003: val_loss did not improve from 0.56493\n",
      "Epoch 4/5\n",
      "48714/48714 [==============================] - 849s 17ms/step - loss: 0.3726 - acc: 0.8045 - val_loss: 0.6861 - val_acc: 0.6758\n",
      "\n",
      "Epoch 00004: val_loss did not improve from 0.56493\n",
      "Epoch 5/5\n",
      "48714/48714 [==============================] - 848s 17ms/step - loss: 0.3303 - acc: 0.8237 - val_loss: 0.7329 - val_acc: 0.6767\n",
      "\n",
      "Epoch 00005: val_loss did not improve from 0.56493\n"
     ]
    }
   ],
   "source": [
    "embedding_size = 128\n",
    "input_ = Input(shape=(100,))\n",
    "x = Embedding(20000,embedding_size)(input_)\n",
    "x = Bidirectional(GRU(200,return_sequences=True))(x)\n",
    "x = GlobalMaxPool1D()(x)\n",
    "x = Dropout(0.5)(x)\n",
    "x = Dense(200,activation='relu')(x)\n",
    "x = Dropout(0.5)(x)\n",
    "x = Dense(100,activation='relu')(x)\n",
    "x = Dropout(0.5)(x)\n",
    "x = Dense(1,activation='sigmoid')(x)\n",
    "\n",
    "model2 = Model(inputs=input_,outputs=x)\n",
    "model2.compile(loss='binary_crossentropy',optimizer='adam',metrics=['accuracy'])\n",
    "\n",
    "checkpoints_path = 'weights_base.best.hdf5'\n",
    "checkpoint = [ModelCheckpoint(checkpoints_path, monitor='val_loss', verbose=1, save_best_only=True, mode='min')]\n",
    "\n",
    "history2=model2.fit(X_r_train,y_r_train,batch_size=32,epochs=5,validation_split=0.1, callbacks=checkpoint)"
   ]
  },
  {
   "cell_type": "code",
   "execution_count": 21,
   "metadata": {},
   "outputs": [
    {
     "data": {
      "image/png": "[encoded data removed]",
      "text/plain": [
       "<Figure size 432x288 with 1 Axes>"
      ]
     },
     "metadata": {
      "needs_background": "light"
     },
     "output_type": "display_data"
    },
    {
     "data": {
      "image/png": "[encoded data removed]",
      "text/plain": [
       "<Figure size 432x288 with 1 Axes>"
      ]
     },
     "metadata": {
      "needs_background": "light"
     },
     "output_type": "display_data"
    }
   ],
   "source": [
    "train_acc = history2.history['acc']\n",
    "val_acc = history2.history['val_acc']\n",
    "train_loss = history2.history['loss']\n",
    "val_loss = history2.history['val_loss']\n",
    "epch = range(1, len(train_acc) + 1)\n",
    "plt.plot(epch, train_acc, 'g.', label='Training Accuracy')\n",
    "plt.plot(epch, val_acc, 'g', label='Validation acc')\n",
    "plt.title('Accuracy')\n",
    "plt.legend()\n",
    "plt.xlabel('Epoch')\n",
    "plt.figure()\n",
    "plt.plot(epch, train_loss, 'r.', label='Training loss')\n",
    "plt.plot(epch, val_loss, 'r', label='Validation loss')\n",
    "plt.title('Loss')\n",
    "plt.xlabel('Epoch')\n",
    "plt.legend()\n",
    "plt.show()"
   ]
  },
  {
   "cell_type": "code",
   "execution_count": 20,
   "metadata": {},
   "outputs": [
    {
     "name": "stdout",
     "output_type": "stream",
     "text": [
      "18043/18043 [==============================] - 68s 4ms/step\n"
     ]
    },
    {
     "data": {
      "text/plain": [
       "[0.6840890984422107, 0.688244748652685]"
      ]
     },
     "execution_count": 20,
     "metadata": {},
     "output_type": "execute_result"
    }
   ],
   "source": [
    "model2.evaluate(X_r_test,y_r_test)"
   ]
  },
  {
   "cell_type": "code",
   "execution_count": 27,
   "metadata": {},
   "outputs": [
    {
     "name": "stdout",
     "output_type": "stream",
     "text": [
      "Train on 48714 samples, validate on 5413 samples\n",
      "Epoch 1/5\n",
      "48714/48714 [==============================] - 236s 5ms/step - loss: 0.6663 - acc: 0.5794 - val_loss: 0.6178 - val_acc: 0.6375\n",
      "\n",
      "Epoch 00001: val_loss improved from inf to 0.61776, saving model to lstm_weights_base.best.hdf5\n",
      "Epoch 2/5\n",
      "48714/48714 [==============================] - 236s 5ms/step - loss: 0.5542 - acc: 0.6999 - val_loss: 0.5923 - val_acc: 0.6606\n",
      "\n",
      "Epoch 00002: val_loss improved from 0.61776 to 0.59230, saving model to lstm_weights_base.best.hdf5\n",
      "Epoch 3/5\n",
      "48714/48714 [==============================] - 228s 5ms/step - loss: 0.4653 - acc: 0.7544 - val_loss: 0.6210 - val_acc: 0.6588\n",
      "\n",
      "Epoch 00003: val_loss did not improve from 0.59230\n",
      "Epoch 4/5\n",
      "48714/48714 [==============================] - 225s 5ms/step - loss: 0.4080 - acc: 0.7840 - val_loss: 0.6628 - val_acc: 0.6723\n",
      "\n",
      "Epoch 00004: val_loss did not improve from 0.59230\n",
      "Epoch 5/5\n",
      "48714/48714 [==============================] - 225s 5ms/step - loss: 0.3704 - acc: 0.8015 - val_loss: 0.7363 - val_acc: 0.6647\n",
      "\n",
      "Epoch 00005: val_loss did not improve from 0.59230\n"
     ]
    }
   ],
   "source": [
    "lstm_model = Sequential()\n",
    "lstm_model.add(Embedding(20000,128))\n",
    "lstm_model.add(LSTM(50, return_sequences=True))\n",
    "lstm_model.add(GlobalMaxPool1D())\n",
    "lstm_model.add(Dropout(0.5))\n",
    "lstm_model.add(Dense(1, activation='sigmoid'))\n",
    "\n",
    "lstm_model.compile(loss='binary_crossentropy',\n",
    "                  optimizer='adam',\n",
    "                  metrics=['accuracy'])\n",
    "\n",
    "checkpoints_path = 'lstm_weights_base.best.hdf5'\n",
    "checkpoint = [ModelCheckpoint(checkpoints_path, monitor='val_loss', verbose=1, save_best_only=True, mode='min')]\n",
    "\n",
    "lstm_history=lstm_model.fit(X_r_train,y_r_train,batch_size=32,epochs=5,validation_split=0.1, callbacks=checkpoint)"
   ]
  },
  {
   "cell_type": "code",
   "execution_count": 31,
   "metadata": {},
   "outputs": [
    {
     "name": "stdout",
     "output_type": "stream",
     "text": [
      "Train on 48714 samples, validate on 5413 samples\n",
      "Epoch 1/5\n",
      "48714/48714 [==============================] - 392s 8ms/step - loss: 0.6581 - acc: 0.5932 - val_loss: 0.6080 - val_acc: 0.6477\n",
      "\n",
      "Epoch 00001: val_loss improved from inf to 0.60798, saving model to lstm_bi_weights_base.best.hdf5\n",
      "Epoch 2/5\n",
      "48714/48714 [==============================] - 389s 8ms/step - loss: 0.5342 - acc: 0.7170 - val_loss: 0.5997 - val_acc: 0.6651\n",
      "\n",
      "Epoch 00002: val_loss improved from 0.60798 to 0.59973, saving model to lstm_bi_weights_base.best.hdf5\n",
      "Epoch 3/5\n",
      "48714/48714 [==============================] - 367s 8ms/step - loss: 0.4426 - acc: 0.7685 - val_loss: 0.6212 - val_acc: 0.6662\n",
      "\n",
      "Epoch 00003: val_loss did not improve from 0.59973\n",
      "Epoch 4/5\n",
      "48714/48714 [==============================] - 376s 8ms/step - loss: 0.3860 - acc: 0.7963 - val_loss: 0.6912 - val_acc: 0.6656\n",
      "\n",
      "Epoch 00004: val_loss did not improve from 0.59973\n",
      "Epoch 5/5\n",
      "48714/48714 [==============================] - 355s 7ms/step - loss: 0.3453 - acc: 0.8162 - val_loss: 0.7398 - val_acc: 0.6704\n",
      "\n",
      "Epoch 00005: val_loss did not improve from 0.59973\n"
     ]
    }
   ],
   "source": [
    "lstm_bi_model = Sequential()\n",
    "lstm_bi_model.add(Embedding(20000,128))\n",
    "lstm_bi_model.add(Bidirectional(LSTM(50, return_sequences=True)))\n",
    "lstm_bi_model.add(GlobalMaxPool1D())\n",
    "lstm_bi_model.add(Dropout(0.5))\n",
    "lstm_bi_model.add(Dense(1, activation='sigmoid'))\n",
    "\n",
    "lstm_bi_model.compile(loss='binary_crossentropy',\n",
    "                  optimizer='adam',\n",
    "                  metrics=['accuracy'])\n",
    "\n",
    "checkpoints_path = 'lstm_bi_weights_base.best.hdf5'\n",
    "checkpoint = [ModelCheckpoint(checkpoints_path, monitor='val_loss', verbose=1, save_best_only=True, mode='min')]\n",
    "\n",
    "lstm_bi_history=lstm_bi_model.fit(X_r_train,y_r_train,batch_size=32,epochs=5,validation_split=0.1, callbacks=checkpoint)"
   ]
  },
  {
   "cell_type": "code",
   "execution_count": 28,
   "metadata": {},
   "outputs": [
    {
     "name": "stdout",
     "output_type": "stream",
     "text": [
      "Train on 48714 samples, validate on 5413 samples\n",
      "Epoch 1/5\n",
      "48714/48714 [==============================] - 199s 4ms/step - loss: 0.6625 - acc: 0.5855 - val_loss: 0.6139 - val_acc: 0.6447\n",
      "\n",
      "Epoch 00001: val_loss improved from inf to 0.61387, saving model to gru_weights_base.best.hdf5\n",
      "Epoch 2/5\n",
      "48714/48714 [==============================] - 195s 4ms/step - loss: 0.5442 - acc: 0.7084 - val_loss: 0.5835 - val_acc: 0.6693\n",
      "\n",
      "Epoch 00002: val_loss improved from 0.61387 to 0.58347, saving model to gru_weights_base.best.hdf5\n",
      "Epoch 3/5\n",
      "48714/48714 [==============================] - 205s 4ms/step - loss: 0.4491 - acc: 0.7660 - val_loss: 0.6024 - val_acc: 0.6789\n",
      "\n",
      "Epoch 00003: val_loss did not improve from 0.58347\n",
      "Epoch 4/5\n",
      "48714/48714 [==============================] - 218s 4ms/step - loss: 0.3906 - acc: 0.7968 - val_loss: 0.6301 - val_acc: 0.6675\n",
      "\n",
      "Epoch 00004: val_loss did not improve from 0.58347\n",
      "Epoch 5/5\n",
      "48714/48714 [==============================] - 227s 5ms/step - loss: 0.3507 - acc: 0.8155 - val_loss: 0.7169 - val_acc: 0.6798\n",
      "\n",
      "Epoch 00005: val_loss did not improve from 0.58347\n"
     ]
    }
   ],
   "source": [
    "gru_model = Sequential()\n",
    "gru_model.add(Embedding(20000,128))\n",
    "gru_model.add(GRU(50, return_sequences=True))\n",
    "gru_model.add(GlobalMaxPool1D())\n",
    "gru_model.add(Dropout(0.5))\n",
    "gru_model.add(Dense(1, activation='sigmoid'))\n",
    "\n",
    "gru_model.compile(loss='binary_crossentropy',\n",
    "                  optimizer='adam',\n",
    "                  metrics=['accuracy'])\n",
    "\n",
    "checkpoints_path = 'gru_weights_base.best.hdf5'\n",
    "checkpoint = [ModelCheckpoint(checkpoints_path, monitor='val_loss', verbose=1, save_best_only=True, mode='min')]\n",
    "\n",
    "gru_history=gru_model.fit(X_r_train,y_r_train,batch_size=32,epochs=5,validation_split=0.1, callbacks=checkpoint)"
   ]
  },
  {
   "cell_type": "code",
   "execution_count": 33,
   "metadata": {},
   "outputs": [
    {
     "name": "stdout",
     "output_type": "stream",
     "text": [
      "Train on 48714 samples, validate on 5413 samples\n",
      "Epoch 1/5\n",
      "48714/48714 [==============================] - 318s 7ms/step - loss: 0.6567 - acc: 0.5928 - val_loss: 0.6021 - val_acc: 0.6649\n",
      "\n",
      "Epoch 00001: val_loss improved from inf to 0.60212, saving model to gru_bi_weights_base.best.hdf5\n",
      "Epoch 2/5\n",
      "48714/48714 [==============================] - 319s 7ms/step - loss: 0.5299 - acc: 0.7199 - val_loss: 0.5968 - val_acc: 0.6669\n",
      "\n",
      "Epoch 00002: val_loss improved from 0.60212 to 0.59681, saving model to gru_bi_weights_base.best.hdf5\n",
      "Epoch 3/5\n",
      "48714/48714 [==============================] - 321s 7ms/step - loss: 0.4321 - acc: 0.7781 - val_loss: 0.6147 - val_acc: 0.6706\n",
      "\n",
      "Epoch 00003: val_loss did not improve from 0.59681\n",
      "Epoch 4/5\n",
      "48714/48714 [==============================] - 320s 7ms/step - loss: 0.3701 - acc: 0.8088 - val_loss: 0.6411 - val_acc: 0.6863\n",
      "\n",
      "Epoch 00004: val_loss did not improve from 0.59681\n",
      "Epoch 5/5\n",
      "48714/48714 [==============================] - 339s 7ms/step - loss: 0.3266 - acc: 0.8299 - val_loss: 0.7200 - val_acc: 0.6819\n",
      "\n",
      "Epoch 00005: val_loss did not improve from 0.59681\n"
     ]
    }
   ],
   "source": [
    "gru_bi_model = Sequential()\n",
    "gru_bi_model.add(Embedding(20000,128))\n",
    "gru_bi_model.add(Bidirectional(GRU(50, return_sequences=True)))\n",
    "gru_bi_model.add(GlobalMaxPool1D())\n",
    "gru_bi_model.add(Dropout(0.5))\n",
    "gru_bi_model.add(Dense(1, activation='sigmoid'))\n",
    "\n",
    "gru_bi_model.compile(loss='binary_crossentropy',\n",
    "                  optimizer='adam',\n",
    "                  metrics=['accuracy'])\n",
    "\n",
    "checkpoints_path = 'gru_bi_weights_base.best.hdf5'\n",
    "checkpoint = [ModelCheckpoint(checkpoints_path, monitor='val_loss', verbose=1, save_best_only=True, mode='min')]\n",
    "\n",
    "gru_bi_history=gru_bi_model.fit(X_r_train,y_r_train,batch_size=32,epochs=5,validation_split=0.1, callbacks=checkpoint)"
   ]
  },
  {
   "cell_type": "code",
   "execution_count": 35,
   "metadata": {},
   "outputs": [
    {
     "name": "stdout",
     "output_type": "stream",
     "text": [
      "Train on 48714 samples, validate on 5413 samples\n",
      "Epoch 1/5\n",
      "48714/48714 [==============================] - 313s 6ms/step - loss: 0.6409 - acc: 0.6096 - val_loss: 0.5868 - val_acc: 0.6688\n",
      "\n",
      "Epoch 00001: val_loss improved from inf to 0.58677, saving model to gru_bi2_weights_base.best.hdf5\n",
      "Epoch 2/5\n",
      "48714/48714 [==============================] - 314s 6ms/step - loss: 0.4915 - acc: 0.7423 - val_loss: 0.5794 - val_acc: 0.6762\n",
      "\n",
      "Epoch 00002: val_loss improved from 0.58677 to 0.57943, saving model to gru_bi2_weights_base.best.hdf5\n",
      "Epoch 3/5\n",
      "48714/48714 [==============================] - 295s 6ms/step - loss: 0.3845 - acc: 0.8023 - val_loss: 0.6614 - val_acc: 0.6715\n",
      "\n",
      "Epoch 00003: val_loss did not improve from 0.57943\n",
      "Epoch 4/5\n",
      "48714/48714 [==============================] - 322s 7ms/step - loss: 0.3186 - acc: 0.8316 - val_loss: 0.7555 - val_acc: 0.6680\n",
      "\n",
      "Epoch 00004: val_loss did not improve from 0.57943\n",
      "Epoch 5/5\n",
      "48714/48714 [==============================] - 317s 7ms/step - loss: 0.2722 - acc: 0.8555 - val_loss: 0.8422 - val_acc: 0.6771\n",
      "\n",
      "Epoch 00005: val_loss did not improve from 0.57943\n"
     ]
    }
   ],
   "source": [
    "gru_bi2_model = Sequential()\n",
    "gru_bi2_model.add(Embedding(20000,128))\n",
    "gru_bi2_model.add(Bidirectional(GRU(50, return_sequences=True)))\n",
    "gru_bi2_model.add(GlobalMaxPool1D())\n",
    "gru_bi2_model.add(Dense(50,activation='relu'))\n",
    "gru_bi2_model.add(Dense(1, activation='sigmoid'))\n",
    "\n",
    "gru_bi2_model.compile(loss='binary_crossentropy',\n",
    "                  optimizer='adam',\n",
    "                  metrics=['accuracy'])\n",
    "\n",
    "checkpoints_path = 'gru_bi2_weights_base.best.hdf5'\n",
    "checkpoint = [ModelCheckpoint(checkpoints_path, monitor='val_loss', verbose=1, save_best_only=True, mode='min')]\n",
    "\n",
    "gru_bi2_history=gru_bi2_model.fit(X_r_train,y_r_train,batch_size=32,epochs=5,validation_split=0.1, callbacks=checkpoint)"
   ]
  },
  {
   "cell_type": "code",
   "execution_count": 36,
   "metadata": {},
   "outputs": [
    {
     "name": "stdout",
     "output_type": "stream",
     "text": [
      "Train on 48714 samples, validate on 5413 samples\n",
      "Epoch 1/4\n",
      "48714/48714 [==============================] - 299s 6ms/step - loss: 0.6444 - acc: 0.6105 - val_loss: 0.5961 - val_acc: 0.6608\n",
      "\n",
      "Epoch 00001: val_loss improved from inf to 0.59606, saving model to gru_bi2d_weights_base.best.hdf5\n",
      "Epoch 2/4\n",
      "48714/48714 [==============================] - 305s 6ms/step - loss: 0.5011 - acc: 0.7373 - val_loss: 0.5708 - val_acc: 0.6828\n",
      "\n",
      "Epoch 00002: val_loss improved from 0.59606 to 0.57078, saving model to gru_bi2d_weights_base.best.hdf5\n",
      "Epoch 3/4\n",
      "48714/48714 [==============================] - 298s 6ms/step - loss: 0.3962 - acc: 0.7944 - val_loss: 0.6305 - val_acc: 0.6763\n",
      "\n",
      "Epoch 00003: val_loss did not improve from 0.57078\n",
      "Epoch 4/4\n",
      "48714/48714 [==============================] - 300s 6ms/step - loss: 0.3273 - acc: 0.8258 - val_loss: 0.6768 - val_acc: 0.6854\n",
      "\n",
      "Epoch 00004: val_loss did not improve from 0.57078\n"
     ]
    }
   ],
   "source": [
    "gru_bi2d_model = Sequential()\n",
    "gru_bi2d_model.add(Embedding(20000,128))\n",
    "gru_bi2d_model.add(Bidirectional(GRU(50, return_sequences=True)))\n",
    "gru_bi2d_model.add(GlobalMaxPool1D())\n",
    "gru_bi2d_model.add(Dense(50,activation='relu'))\n",
    "gru_bi2d_model.add(Dropout(0.2))\n",
    "gru_bi2d_model.add(Dense(1, activation='sigmoid'))\n",
    "\n",
    "gru_bi2d_model.compile(loss='binary_crossentropy',\n",
    "                  optimizer='adam',\n",
    "                  metrics=['accuracy'])\n",
    "\n",
    "checkpoints_path = 'gru_bi2d_weights_base.best.hdf5'\n",
    "checkpoint = [ModelCheckpoint(checkpoints_path, monitor='val_loss', verbose=1, save_best_only=True, mode='min')]\n",
    "\n",
    "gru_bi2d_history=gru_bi2d_model.fit(X_r_train,y_r_train,batch_size=32,epochs=4,validation_split=0.1, callbacks=checkpoint)"
   ]
  },
  {
   "cell_type": "code",
   "execution_count": 37,
   "metadata": {},
   "outputs": [
    {
     "name": "stdout",
     "output_type": "stream",
     "text": [
      "Train on 48714 samples, validate on 5413 samples\n",
      "Epoch 1/4\n",
      "48714/48714 [==============================] - 448s 9ms/step - loss: 0.6459 - acc: 0.6075 - val_loss: 0.5831 - val_acc: 0.6762\n",
      "\n",
      "Epoch 00001: val_loss improved from inf to 0.58311, saving model to gru_bi2d_weights_base.best.hdf5\n",
      "Epoch 2/4\n",
      "48714/48714 [==============================] - 412s 8ms/step - loss: 0.5007 - acc: 0.7354 - val_loss: 0.5849 - val_acc: 0.6887\n",
      "\n",
      "Epoch 00002: val_loss did not improve from 0.58311\n",
      "Epoch 3/4\n",
      "48714/48714 [==============================] - 393s 8ms/step - loss: 0.3957 - acc: 0.7911 - val_loss: 0.6475 - val_acc: 0.6786\n",
      "\n",
      "Epoch 00003: val_loss did not improve from 0.58311\n",
      "Epoch 4/4\n",
      "48714/48714 [==============================] - 400s 8ms/step - loss: 0.3269 - acc: 0.8251 - val_loss: 0.7372 - val_acc: 0.6852\n",
      "\n",
      "Epoch 00004: val_loss did not improve from 0.58311\n"
     ]
    }
   ],
   "source": [
    "gru_bi2d_model = Sequential()\n",
    "gru_bi2d_model.add(Embedding(20000,128))\n",
    "gru_bi2d_model.add(Bidirectional(GRU(100, return_sequences=True)))\n",
    "gru_bi2d_model.add(GlobalMaxPool1D())\n",
    "gru_bi2d_model.add(Dense(100,activation='relu'))\n",
    "gru_bi2d_model.add(Dropout(0.2))\n",
    "gru_bi2d_model.add(Dense(50,activation='relu'))\n",
    "gru_bi2d_model.add(Dropout(0.2))\n",
    "gru_bi2d_model.add(Dense(1, activation='sigmoid'))\n",
    "\n",
    "gru_bi2d_model.compile(loss='binary_crossentropy',\n",
    "                  optimizer='adam',\n",
    "                  metrics=['accuracy'])\n",
    "\n",
    "checkpoints_path = 'gru_bi2d_weights_base.best.hdf5'\n",
    "checkpoint = [ModelCheckpoint(checkpoints_path, monitor='val_loss', verbose=1, save_best_only=True, mode='min')]\n",
    "\n",
    "gru_bi2d_history=gru_bi2d_model.fit(X_r_train,y_r_train,batch_size=32,epochs=4,validation_split=0.1, callbacks=checkpoint)"
   ]
  },
  {
   "cell_type": "code",
   "execution_count": 38,
   "metadata": {},
   "outputs": [
    {
     "name": "stdout",
     "output_type": "stream",
     "text": [
      "Train on 48714 samples, validate on 5413 samples\n",
      "Epoch 1/4\n",
      "48714/48714 [==============================] - 800s 16ms/step - loss: 0.6569 - acc: 0.5864 - val_loss: 0.5913 - val_acc: 0.6669\n",
      "\n",
      "Epoch 00001: val_loss improved from inf to 0.59128, saving model to gru_3l_bi2d_weights_base.best.hdf5\n",
      "Epoch 2/4\n",
      "48714/48714 [==============================] - 762s 16ms/step - loss: 0.5149 - acc: 0.7262 - val_loss: 0.5694 - val_acc: 0.6804\n",
      "\n",
      "Epoch 00002: val_loss improved from 0.59128 to 0.56938, saving model to gru_3l_bi2d_weights_base.best.hdf5\n",
      "Epoch 3/4\n",
      "48714/48714 [==============================] - 788s 16ms/step - loss: 0.4100 - acc: 0.7856 - val_loss: 0.6255 - val_acc: 0.6837\n",
      "\n",
      "Epoch 00003: val_loss did not improve from 0.56938\n",
      "Epoch 4/4\n",
      "48714/48714 [==============================] - 800s 16ms/step - loss: 0.3410 - acc: 0.8187 - val_loss: 0.6906 - val_acc: 0.6830\n",
      "\n",
      "Epoch 00004: val_loss did not improve from 0.56938\n"
     ]
    }
   ],
   "source": [
    "gru_3l_bi2d_model = Sequential()\n",
    "gru_3l_bi2d_model.add(Embedding(20000,128))\n",
    "gru_3l_bi2d_model.add(Bidirectional(GRU(200, return_sequences=True)))\n",
    "gru_3l_bi2d_model.add(GlobalMaxPool1D())\n",
    "gru_3l_bi2d_model.add(Dense(200,activation='relu'))\n",
    "gru_3l_bi2d_model.add(Dropout(0.2))\n",
    "gru_3l_bi2d_model.add(Dense(100,activation='relu'))\n",
    "gru_3l_bi2d_model.add(Dropout(0.2))\n",
    "gru_3l_bi2d_model.add(Dense(50,activation='relu'))\n",
    "gru_3l_bi2d_model.add(Dropout(0.2))\n",
    "gru_3l_bi2d_model.add(Dense(1, activation='sigmoid'))\n",
    "\n",
    "gru_3l_bi2d_model.compile(loss='binary_crossentropy',\n",
    "                  optimizer='adam',\n",
    "                  metrics=['accuracy'])\n",
    "\n",
    "checkpoints_path = 'gru_3l_bi2d_weights_base.best.hdf5'\n",
    "checkpoint = [ModelCheckpoint(checkpoints_path, monitor='val_loss', verbose=1, save_best_only=True, mode='min')]\n",
    "\n",
    "gru_3l_bi2d_history=gru_3l_bi2d_model.fit(X_r_train,y_r_train,batch_size=32,epochs=4,validation_split=0.1, callbacks=checkpoint)"
   ]
  },
  {
   "cell_type": "code",
   "execution_count": 39,
   "metadata": {},
   "outputs": [
    {
     "name": "stdout",
     "output_type": "stream",
     "text": [
      "Train on 48714 samples, validate on 5413 samples\n",
      "Epoch 1/4\n",
      "48714/48714 [==============================] - 350s 7ms/step - loss: 0.8098 - acc: 0.5010 - val_loss: 0.6960 - val_acc: 0.5138\n",
      "\n",
      "Epoch 00001: val_loss improved from inf to 0.69602, saving model to gru_bi_l1_weights_base.best.hdf5\n",
      "Epoch 2/4\n",
      "48714/48714 [==============================] - 450s 9ms/step - loss: 0.6961 - acc: 0.4954 - val_loss: 0.6960 - val_acc: 0.5138\n",
      "\n",
      "Epoch 00002: val_loss improved from 0.69602 to 0.69602, saving model to gru_bi_l1_weights_base.best.hdf5\n",
      "Epoch 3/4\n",
      "48714/48714 [==============================] - 449s 9ms/step - loss: 0.6961 - acc: 0.4997 - val_loss: 0.6959 - val_acc: 0.5138\n",
      "\n",
      "Epoch 00003: val_loss improved from 0.69602 to 0.69593, saving model to gru_bi_l1_weights_base.best.hdf5\n",
      "Epoch 4/4\n",
      "48714/48714 [==============================] - 363s 7ms/step - loss: 0.6961 - acc: 0.5009 - val_loss: 0.6961 - val_acc: 0.4862\n",
      "\n",
      "Epoch 00004: val_loss did not improve from 0.69593\n"
     ]
    }
   ],
   "source": [
    "gru_bi_l1_model = Sequential()\n",
    "gru_bi_l1_model.add(Embedding(20000,128))\n",
    "gru_bi_l1_model.add(Bidirectional(GRU(50, return_sequences=True)))\n",
    "gru_bi_l1_model.add(GlobalMaxPool1D())\n",
    "gru_bi_l1_model.add(Dense(50,activation='relu',kernel_regularizer=regularizers.l1(0.005)))\n",
    "gru_bi_l1_model.add(Dense(1, activation='sigmoid'))\n",
    "\n",
    "gru_bi_l1_model.compile(loss='binary_crossentropy',\n",
    "                  optimizer='adam',\n",
    "                  metrics=['accuracy'])\n",
    "\n",
    "checkpoints_path = 'gru_bi_l1_weights_base.best.hdf5'\n",
    "checkpoint = [ModelCheckpoint(checkpoints_path, monitor='val_loss', verbose=1, save_best_only=True, mode='min')]\n",
    "\n",
    "gru_bi_l1_history=gru_bi_l1_model.fit(X_r_train,y_r_train,batch_size=32,epochs=4,validation_split=0.1, callbacks=checkpoint)"
   ]
  },
  {
   "cell_type": "code",
   "execution_count": 40,
   "metadata": {},
   "outputs": [
    {
     "name": "stdout",
     "output_type": "stream",
     "text": [
      "Train on 48714 samples, validate on 5413 samples\n",
      "Epoch 1/4\n",
      "48714/48714 [==============================] - 1313s 27ms/step - loss: 1.5539 - acc: 0.5027 - val_loss: 0.7589 - val_acc: 0.4862\n",
      "\n",
      "Epoch 00001: val_loss improved from inf to 0.75892, saving model to gru_3l1_bi2d_weights_base.best.hdf5\n",
      "Epoch 2/4\n",
      "48714/48714 [==============================] - 1458s 30ms/step - loss: 0.7588 - acc: 0.4986 - val_loss: 0.7592 - val_acc: 0.4862\n",
      "\n",
      "Epoch 00002: val_loss did not improve from 0.75892\n",
      "Epoch 3/4\n",
      "48714/48714 [==============================] - 1015s 21ms/step - loss: 0.7588 - acc: 0.4968 - val_loss: 0.7586 - val_acc: 0.4862\n",
      "\n",
      "Epoch 00003: val_loss improved from 0.75892 to 0.75862, saving model to gru_3l1_bi2d_weights_base.best.hdf5\n",
      "Epoch 4/4\n",
      " 1056/48714 [..............................] - ETA: 16:16 - loss: 0.7587 - acc: 0.5104"
     ]
    },
    {
     "ename": "KeyboardInterrupt",
     "evalue": "",
     "output_type": "error",
     "traceback": [
      "\u001b[1;31m---------------------------------------------------------------------------\u001b[0m",
      "\u001b[1;31mKeyboardInterrupt\u001b[0m                         Traceback (most recent call last)",
      "\u001b[1;32m<ipython-input-40-c1fd23a6f539>\u001b[0m in \u001b[0;36m<module>\u001b[1;34m\u001b[0m\n\u001b[0;32m     18\u001b[0m \u001b[0mcheckpoint\u001b[0m \u001b[1;33m=\u001b[0m \u001b[1;33m[\u001b[0m\u001b[0mModelCheckpoint\u001b[0m\u001b[1;33m(\u001b[0m\u001b[0mcheckpoints_path\u001b[0m\u001b[1;33m,\u001b[0m \u001b[0mmonitor\u001b[0m\u001b[1;33m=\u001b[0m\u001b[1;34m'val_loss'\u001b[0m\u001b[1;33m,\u001b[0m \u001b[0mverbose\u001b[0m\u001b[1;33m=\u001b[0m\u001b[1;36m1\u001b[0m\u001b[1;33m,\u001b[0m \u001b[0msave_best_only\u001b[0m\u001b[1;33m=\u001b[0m\u001b[1;32mTrue\u001b[0m\u001b[1;33m,\u001b[0m \u001b[0mmode\u001b[0m\u001b[1;33m=\u001b[0m\u001b[1;34m'min'\u001b[0m\u001b[1;33m)\u001b[0m\u001b[1;33m]\u001b[0m\u001b[1;33m\u001b[0m\u001b[1;33m\u001b[0m\u001b[0m\n\u001b[0;32m     19\u001b[0m \u001b[1;33m\u001b[0m\u001b[0m\n\u001b[1;32m---> 20\u001b[1;33m \u001b[0mgru_3l1_bi2d_history\u001b[0m\u001b[1;33m=\u001b[0m\u001b[0mgru_3l1_bi2d_model\u001b[0m\u001b[1;33m.\u001b[0m\u001b[0mfit\u001b[0m\u001b[1;33m(\u001b[0m\u001b[0mX_r_train\u001b[0m\u001b[1;33m,\u001b[0m\u001b[0my_r_train\u001b[0m\u001b[1;33m,\u001b[0m\u001b[0mbatch_size\u001b[0m\u001b[1;33m=\u001b[0m\u001b[1;36m32\u001b[0m\u001b[1;33m,\u001b[0m\u001b[0mepochs\u001b[0m\u001b[1;33m=\u001b[0m\u001b[1;36m4\u001b[0m\u001b[1;33m,\u001b[0m\u001b[0mvalidation_split\u001b[0m\u001b[1;33m=\u001b[0m\u001b[1;36m0.1\u001b[0m\u001b[1;33m,\u001b[0m \u001b[0mcallbacks\u001b[0m\u001b[1;33m=\u001b[0m\u001b[0mcheckpoint\u001b[0m\u001b[1;33m)\u001b[0m\u001b[1;33m\u001b[0m\u001b[1;33m\u001b[0m\u001b[0m\n\u001b[0m",
      "\u001b[1;32mC:\\kosta\\Anaconda3\\lib\\site-packages\\keras\\engine\\training.py\u001b[0m in \u001b[0;36mfit\u001b[1;34m(self, x, y, batch_size, epochs, verbose, callbacks, validation_split, validation_data, shuffle, class_weight, sample_weight, initial_epoch, steps_per_epoch, validation_steps, **kwargs)\u001b[0m\n\u001b[0;32m   1037\u001b[0m                                         \u001b[0minitial_epoch\u001b[0m\u001b[1;33m=\u001b[0m\u001b[0minitial_epoch\u001b[0m\u001b[1;33m,\u001b[0m\u001b[1;33m\u001b[0m\u001b[1;33m\u001b[0m\u001b[0m\n\u001b[0;32m   1038\u001b[0m                                         \u001b[0msteps_per_epoch\u001b[0m\u001b[1;33m=\u001b[0m\u001b[0msteps_per_epoch\u001b[0m\u001b[1;33m,\u001b[0m\u001b[1;33m\u001b[0m\u001b[1;33m\u001b[0m\u001b[0m\n\u001b[1;32m-> 1039\u001b[1;33m                                         validation_steps=validation_steps)\n\u001b[0m\u001b[0;32m   1040\u001b[0m \u001b[1;33m\u001b[0m\u001b[0m\n\u001b[0;32m   1041\u001b[0m     def evaluate(self, x=None, y=None,\n",
      "\u001b[1;32mC:\\kosta\\Anaconda3\\lib\\site-packages\\keras\\engine\\training_arrays.py\u001b[0m in \u001b[0;36mfit_loop\u001b[1;34m(model, f, ins, out_labels, batch_size, epochs, verbose, callbacks, val_f, val_ins, shuffle, callback_metrics, initial_epoch, steps_per_epoch, validation_steps)\u001b[0m\n\u001b[0;32m    197\u001b[0m                     \u001b[0mins_batch\u001b[0m\u001b[1;33m[\u001b[0m\u001b[0mi\u001b[0m\u001b[1;33m]\u001b[0m \u001b[1;33m=\u001b[0m \u001b[0mins_batch\u001b[0m\u001b[1;33m[\u001b[0m\u001b[0mi\u001b[0m\u001b[1;33m]\u001b[0m\u001b[1;33m.\u001b[0m\u001b[0mtoarray\u001b[0m\u001b[1;33m(\u001b[0m\u001b[1;33m)\u001b[0m\u001b[1;33m\u001b[0m\u001b[1;33m\u001b[0m\u001b[0m\n\u001b[0;32m    198\u001b[0m \u001b[1;33m\u001b[0m\u001b[0m\n\u001b[1;32m--> 199\u001b[1;33m                 \u001b[0mouts\u001b[0m \u001b[1;33m=\u001b[0m \u001b[0mf\u001b[0m\u001b[1;33m(\u001b[0m\u001b[0mins_batch\u001b[0m\u001b[1;33m)\u001b[0m\u001b[1;33m\u001b[0m\u001b[1;33m\u001b[0m\u001b[0m\n\u001b[0m\u001b[0;32m    200\u001b[0m                 \u001b[0mouts\u001b[0m \u001b[1;33m=\u001b[0m \u001b[0mto_list\u001b[0m\u001b[1;33m(\u001b[0m\u001b[0mouts\u001b[0m\u001b[1;33m)\u001b[0m\u001b[1;33m\u001b[0m\u001b[1;33m\u001b[0m\u001b[0m\n\u001b[0;32m    201\u001b[0m                 \u001b[1;32mfor\u001b[0m \u001b[0ml\u001b[0m\u001b[1;33m,\u001b[0m \u001b[0mo\u001b[0m \u001b[1;32min\u001b[0m \u001b[0mzip\u001b[0m\u001b[1;33m(\u001b[0m\u001b[0mout_labels\u001b[0m\u001b[1;33m,\u001b[0m \u001b[0mouts\u001b[0m\u001b[1;33m)\u001b[0m\u001b[1;33m:\u001b[0m\u001b[1;33m\u001b[0m\u001b[1;33m\u001b[0m\u001b[0m\n",
      "\u001b[1;32mC:\\kosta\\Anaconda3\\lib\\site-packages\\keras\\backend\\tensorflow_backend.py\u001b[0m in \u001b[0;36m__call__\u001b[1;34m(self, inputs)\u001b[0m\n\u001b[0;32m   2713\u001b[0m                 \u001b[1;32mreturn\u001b[0m \u001b[0mself\u001b[0m\u001b[1;33m.\u001b[0m\u001b[0m_legacy_call\u001b[0m\u001b[1;33m(\u001b[0m\u001b[0minputs\u001b[0m\u001b[1;33m)\u001b[0m\u001b[1;33m\u001b[0m\u001b[1;33m\u001b[0m\u001b[0m\n\u001b[0;32m   2714\u001b[0m \u001b[1;33m\u001b[0m\u001b[0m\n\u001b[1;32m-> 2715\u001b[1;33m             \u001b[1;32mreturn\u001b[0m \u001b[0mself\u001b[0m\u001b[1;33m.\u001b[0m\u001b[0m_call\u001b[0m\u001b[1;33m(\u001b[0m\u001b[0minputs\u001b[0m\u001b[1;33m)\u001b[0m\u001b[1;33m\u001b[0m\u001b[1;33m\u001b[0m\u001b[0m\n\u001b[0m\u001b[0;32m   2716\u001b[0m         \u001b[1;32melse\u001b[0m\u001b[1;33m:\u001b[0m\u001b[1;33m\u001b[0m\u001b[1;33m\u001b[0m\u001b[0m\n\u001b[0;32m   2717\u001b[0m             \u001b[1;32mif\u001b[0m \u001b[0mpy_any\u001b[0m\u001b[1;33m(\u001b[0m\u001b[0mis_tensor\u001b[0m\u001b[1;33m(\u001b[0m\u001b[0mx\u001b[0m\u001b[1;33m)\u001b[0m \u001b[1;32mfor\u001b[0m \u001b[0mx\u001b[0m \u001b[1;32min\u001b[0m \u001b[0minputs\u001b[0m\u001b[1;33m)\u001b[0m\u001b[1;33m:\u001b[0m\u001b[1;33m\u001b[0m\u001b[1;33m\u001b[0m\u001b[0m\n",
      "\u001b[1;32mC:\\kosta\\Anaconda3\\lib\\site-packages\\keras\\backend\\tensorflow_backend.py\u001b[0m in \u001b[0;36m_call\u001b[1;34m(self, inputs)\u001b[0m\n\u001b[0;32m   2673\u001b[0m             \u001b[0mfetched\u001b[0m \u001b[1;33m=\u001b[0m \u001b[0mself\u001b[0m\u001b[1;33m.\u001b[0m\u001b[0m_callable_fn\u001b[0m\u001b[1;33m(\u001b[0m\u001b[1;33m*\u001b[0m\u001b[0marray_vals\u001b[0m\u001b[1;33m,\u001b[0m \u001b[0mrun_metadata\u001b[0m\u001b[1;33m=\u001b[0m\u001b[0mself\u001b[0m\u001b[1;33m.\u001b[0m\u001b[0mrun_metadata\u001b[0m\u001b[1;33m)\u001b[0m\u001b[1;33m\u001b[0m\u001b[1;33m\u001b[0m\u001b[0m\n\u001b[0;32m   2674\u001b[0m         \u001b[1;32melse\u001b[0m\u001b[1;33m:\u001b[0m\u001b[1;33m\u001b[0m\u001b[1;33m\u001b[0m\u001b[0m\n\u001b[1;32m-> 2675\u001b[1;33m             \u001b[0mfetched\u001b[0m \u001b[1;33m=\u001b[0m \u001b[0mself\u001b[0m\u001b[1;33m.\u001b[0m\u001b[0m_callable_fn\u001b[0m\u001b[1;33m(\u001b[0m\u001b[1;33m*\u001b[0m\u001b[0marray_vals\u001b[0m\u001b[1;33m)\u001b[0m\u001b[1;33m\u001b[0m\u001b[1;33m\u001b[0m\u001b[0m\n\u001b[0m\u001b[0;32m   2676\u001b[0m         \u001b[1;32mreturn\u001b[0m \u001b[0mfetched\u001b[0m\u001b[1;33m[\u001b[0m\u001b[1;33m:\u001b[0m\u001b[0mlen\u001b[0m\u001b[1;33m(\u001b[0m\u001b[0mself\u001b[0m\u001b[1;33m.\u001b[0m\u001b[0moutputs\u001b[0m\u001b[1;33m)\u001b[0m\u001b[1;33m]\u001b[0m\u001b[1;33m\u001b[0m\u001b[1;33m\u001b[0m\u001b[0m\n\u001b[0;32m   2677\u001b[0m \u001b[1;33m\u001b[0m\u001b[0m\n",
      "\u001b[1;32mC:\\kosta\\Anaconda3\\lib\\site-packages\\tensorflow\\python\\client\\session.py\u001b[0m in \u001b[0;36m__call__\u001b[1;34m(self, *args, **kwargs)\u001b[0m\n\u001b[0;32m   1437\u001b[0m           ret = tf_session.TF_SessionRunCallable(\n\u001b[0;32m   1438\u001b[0m               \u001b[0mself\u001b[0m\u001b[1;33m.\u001b[0m\u001b[0m_session\u001b[0m\u001b[1;33m.\u001b[0m\u001b[0m_session\u001b[0m\u001b[1;33m,\u001b[0m \u001b[0mself\u001b[0m\u001b[1;33m.\u001b[0m\u001b[0m_handle\u001b[0m\u001b[1;33m,\u001b[0m \u001b[0margs\u001b[0m\u001b[1;33m,\u001b[0m \u001b[0mstatus\u001b[0m\u001b[1;33m,\u001b[0m\u001b[1;33m\u001b[0m\u001b[1;33m\u001b[0m\u001b[0m\n\u001b[1;32m-> 1439\u001b[1;33m               run_metadata_ptr)\n\u001b[0m\u001b[0;32m   1440\u001b[0m         \u001b[1;32mif\u001b[0m \u001b[0mrun_metadata\u001b[0m\u001b[1;33m:\u001b[0m\u001b[1;33m\u001b[0m\u001b[1;33m\u001b[0m\u001b[0m\n\u001b[0;32m   1441\u001b[0m           \u001b[0mproto_data\u001b[0m \u001b[1;33m=\u001b[0m \u001b[0mtf_session\u001b[0m\u001b[1;33m.\u001b[0m\u001b[0mTF_GetBuffer\u001b[0m\u001b[1;33m(\u001b[0m\u001b[0mrun_metadata_ptr\u001b[0m\u001b[1;33m)\u001b[0m\u001b[1;33m\u001b[0m\u001b[1;33m\u001b[0m\u001b[0m\n",
      "\u001b[1;31mKeyboardInterrupt\u001b[0m: "
     ]
    }
   ],
   "source": [
    "gru_3l1_bi2d_model = Sequential()\n",
    "gru_3l1_bi2d_model.add(Embedding(20000,128))\n",
    "gru_3l1_bi2d_model.add(Bidirectional(GRU(200, return_sequences=True)))\n",
    "gru_3l1_bi2d_model.add(GlobalMaxPool1D())\n",
    "gru_3l1_bi2d_model.add(Dense(200,activation='relu',kernel_regularizer=regularizers.l1(0.005)))\n",
    "gru_3l1_bi2d_model.add(Dropout(0.2))\n",
    "gru_3l1_bi2d_model.add(Dense(100,activation='relu',kernel_regularizer=regularizers.l1(0.005)))\n",
    "gru_3l1_bi2d_model.add(Dropout(0.2))\n",
    "gru_3l1_bi2d_model.add(Dense(50,activation='relu',kernel_regularizer=regularizers.l1(0.005)))\n",
    "gru_3l1_bi2d_model.add(Dropout(0.2))\n",
    "gru_3l1_bi2d_model.add(Dense(1, activation='sigmoid'))\n",
    "\n",
    "gru_3l1_bi2d_model.compile(loss='binary_crossentropy',\n",
    "                  optimizer='adam',\n",
    "                  metrics=['accuracy'])\n",
    "\n",
    "checkpoints_path = 'gru_3l1_bi2d_weights_base.best.hdf5'\n",
    "checkpoint = [ModelCheckpoint(checkpoints_path, monitor='val_loss', verbose=1, save_best_only=True, mode='min')]\n",
    "\n",
    "gru_3l1_bi2d_history=gru_3l1_bi2d_model.fit(X_r_train,y_r_train,batch_size=32,epochs=4,validation_split=0.1, callbacks=checkpoint)"
   ]
  },
  {
   "cell_type": "code",
   "execution_count": null,
   "metadata": {},
   "outputs": [
    {
     "name": "stdout",
     "output_type": "stream",
     "text": [
      "Train on 48714 samples, validate on 5413 samples\n",
      "Epoch 1/4\n",
      "48714/48714 [==============================] - 979s 20ms/step - loss: 1.5565 - acc: 0.4964 - val_loss: 0.7584 - val_acc: 0.5138\n",
      "\n",
      "Epoch 00001: val_loss improved from inf to 0.75835, saving model to gru_3l1_bi_weights_base.best.hdf5\n",
      "Epoch 2/4\n",
      "48714/48714 [==============================] - 1007s 21ms/step - loss: 0.7588 - acc: 0.5029 - val_loss: 0.7589 - val_acc: 0.5138\n",
      "\n",
      "Epoch 00002: val_loss did not improve from 0.75835\n",
      "Epoch 3/4\n",
      " 1472/48714 [..............................] - ETA: 20:24 - loss: 0.7588 - acc: 0.4993"
     ]
    }
   ],
   "source": [
    "gru_3l1_bi_model = Sequential()\n",
    "gru_3l1_bi_model.add(Embedding(20000,128))\n",
    "gru_3l1_bi_model.add(Bidirectional(GRU(200, return_sequences=True)))\n",
    "gru_3l1_bi_model.add(GlobalMaxPool1D())\n",
    "gru_3l1_bi_model.add(Dense(200,activation='relu',kernel_regularizer=regularizers.l1(0.005)))\n",
    "gru_3l1_bi_model.add(Dense(100,activation='relu',kernel_regularizer=regularizers.l1(0.005)))\n",
    "gru_3l1_bi_model.add(Dense(50,activation='relu',kernel_regularizer=regularizers.l1(0.005)))\n",
    "gru_3l1_bi_model.add(Dense(1, activation='sigmoid'))\n",
    "\n",
    "gru_3l1_bi_model.compile(loss='binary_crossentropy',\n",
    "                  optimizer='adam',\n",
    "                  metrics=['accuracy'])\n",
    "\n",
    "checkpoints_path = 'gru_3l1_bi_weights_base.best.hdf5'\n",
    "checkpoint = [ModelCheckpoint(checkpoints_path, monitor='val_loss', verbose=1, save_best_only=True, mode='min')]\n",
    "\n",
    "gru_3l1_bi_history=gru_3l1_bi_model.fit(X_r_train,y_r_train,batch_size=32,epochs=4,validation_split=0.1, callbacks=checkpoint)"
   ]
  },
  {
   "cell_type": "code",
   "execution_count": 44,
   "metadata": {},
   "outputs": [
    {
     "name": "stdout",
     "output_type": "stream",
     "text": [
      "Train on 48714 samples, validate on 5413 samples\n",
      "Epoch 1/4\n",
      "48714/48714 [==============================] - 765s 16ms/step - loss: 0.6922 - acc: 0.5249 - val_loss: 0.6782 - val_acc: 0.5930\n",
      "\n",
      "Epoch 00001: val_loss improved from inf to 0.67824, saving model to gru_3l_bi2d5_weights_base.best.hdf5\n",
      "Epoch 2/4\n",
      "48714/48714 [==============================] - 751s 15ms/step - loss: 0.6113 - acc: 0.6627 - val_loss: 0.5802 - val_acc: 0.6773\n",
      "\n",
      "Epoch 00002: val_loss improved from 0.67824 to 0.58018, saving model to gru_3l_bi2d5_weights_base.best.hdf5\n",
      "Epoch 3/4\n",
      "48714/48714 [==============================] - 779s 16ms/step - loss: 0.4849 - acc: 0.7518 - val_loss: 0.5824 - val_acc: 0.6835\n",
      "\n",
      "Epoch 00003: val_loss did not improve from 0.58018\n",
      "Epoch 4/4\n",
      "48714/48714 [==============================] - 783s 16ms/step - loss: 0.3999 - acc: 0.7940 - val_loss: 0.6566 - val_acc: 0.6717\n",
      "\n",
      "Epoch 00004: val_loss did not improve from 0.58018\n"
     ]
    }
   ],
   "source": [
    "gru_3l_bi2d5_model = Sequential()\n",
    "gru_3l_bi2d5_model.add(Embedding(20000,128))\n",
    "gru_3l_bi2d5_model.add(Bidirectional(GRU(200, return_sequences=True)))\n",
    "gru_3l_bi2d5_model.add(GlobalMaxPool1D())\n",
    "gru_3l_bi2d5_model.add(Dense(200,activation='relu'))\n",
    "gru_3l_bi2d5_model.add(Dropout(0.5))\n",
    "gru_3l_bi2d5_model.add(Dense(100,activation='relu'))\n",
    "gru_3l_bi2d5_model.add(Dropout(0.5))\n",
    "gru_3l_bi2d5_model.add(Dense(50,activation='relu'))\n",
    "gru_3l_bi2d5_model.add(Dropout(0.5))\n",
    "gru_3l_bi2d5_model.add(Dense(1, activation='sigmoid'))\n",
    "\n",
    "gru_3l_bi2d5_model.compile(loss='binary_crossentropy',\n",
    "                  optimizer='adam',\n",
    "                  metrics=['accuracy'])\n",
    "\n",
    "checkpoints_path = 'gru_3l_bi2d5_weights_base.best.hdf5'\n",
    "checkpoint = [ModelCheckpoint(checkpoints_path, monitor='val_loss', verbose=1, save_best_only=True, mode='min')]\n",
    "\n",
    "gru_3l_bi2d5_history=gru_3l_bi2d5_model.fit(X_r_train,y_r_train,batch_size=32,epochs=4,validation_split=0.1, callbacks=checkpoint)"
   ]
  },
  {
   "cell_type": "code",
   "execution_count": null,
   "metadata": {},
   "outputs": [],
   "source": []
  }
 ],
 "metadata": {
  "kernelspec": {
   "display_name": "Python 3",
   "language": "python",
   "name": "python3"
  }
 },
 "nbformat": 4,
 "nbformat_minor": 2
}
