{
 "cells": [
  {
   "cell_type": "code",
   "execution_count": 18,
   "metadata": {},
   "outputs": [
    {
     "name": "stderr",
     "output_type": "stream",
     "text": [
      "'matplotlib' is not recognized as an internal or external command,\n",
      "operable program or batch file.\n"
     ]
    }
   ],
   "source": [
    "import keras\n",
    "from keras.preprocessing.sequence import pad_sequences\n",
    "from keras.layers import Input, Dense, LSTM, Embedding, GRU\n",
    "from keras.layers import Dropout, Activation, Bidirectional, GlobalMaxPool1D\n",
    "from keras.models import Model\n",
    "from keras import initializers, regularizers, constraints, optimizers, layers\n",
    "from keras.preprocessing import text, sequence\n",
    "from keras.callbacks import ModelCheckpoint\n",
    "from keras.callbacks import EarlyStopping\n",
    "from sklearn.model_selection import train_test_split\n",
    "import matplotlib.pyplot as plt\n",
    "import numpy as np\n",
    "import pandas as pd\n",
    "!matplotlib inline\n",
    "np.random.seed(0)"
   ]
  },
  {
   "cell_type": "code",
   "execution_count": 2,
   "metadata": {},
   "outputs": [],
   "source": [
    "episodes=pd.read_csv('episodes_cleaned.csv',index_col='Unnamed: 0')\n",
    "scripts=pd.read_csv('scripts_cleaned.csv',index_col='Unnamed: 0')"
   ]
  },
  {
   "cell_type": "code",
   "execution_count": 3,
   "metadata": {},
   "outputs": [
    {
     "name": "stderr",
     "output_type": "stream",
     "text": [
      "C:\\kosta\\Anaconda3\\lib\\site-packages\\ipykernel_launcher.py:6: SettingWithCopyWarning: \n",
      "A value is trying to be set on a copy of a slice from a DataFrame\n",
      "\n",
      "See the caveats in the documentation: http://pandas.pydata.org/pandas-docs/stable/indexing.html#indexing-view-versus-copy\n",
      "  \n"
     ]
    }
   ],
   "source": [
    "episodes['Larry']=0\n",
    "for ep in episodes.iterrows():\n",
    "    names=(ep[1][4].replace(' and ',',').split(','))\n",
    "    for name in names:\n",
    "        if 'Larry David' in name:\n",
    "            episodes['Larry'][ep[0]]=1\n",
    "larry_eps=list(episodes.loc[episodes.Larry==1]['SEID'])\n",
    "    "
   ]
  },
  {
   "cell_type": "code",
   "execution_count": 4,
   "metadata": {},
   "outputs": [
    {
     "data": {
      "text/plain": [
       "58"
      ]
     },
     "execution_count": 4,
     "metadata": {},
     "output_type": "execute_result"
    }
   ],
   "source": [
    "episodes.Larry.sum()"
   ]
  },
  {
   "cell_type": "code",
   "execution_count": 5,
   "metadata": {},
   "outputs": [
    {
     "data": {
      "text/html": [
       "<div>\n",
       "<style scoped>\n",
       "    .dataframe tbody tr th:only-of-type {\n",
       "        vertical-align: middle;\n",
       "    }\n",
       "\n",
       "    .dataframe tbody tr th {\n",
       "        vertical-align: top;\n",
       "    }\n",
       "\n",
       "    .dataframe thead th {\n",
       "        text-align: right;\n",
       "    }\n",
       "</style>\n",
       "<table border=\"1\" class=\"dataframe\">\n",
       "  <thead>\n",
       "    <tr style=\"text-align: right;\">\n",
       "      <th></th>\n",
       "      <th>Character</th>\n",
       "      <th>Dialogue</th>\n",
       "      <th>EpisodeNo</th>\n",
       "      <th>SEID</th>\n",
       "      <th>Season</th>\n",
       "      <th>character_stripped</th>\n",
       "      <th>Larry</th>\n",
       "    </tr>\n",
       "  </thead>\n",
       "  <tbody>\n",
       "    <tr>\n",
       "      <th>0</th>\n",
       "      <td>jerry</td>\n",
       "      <td>do you know what this is all about? do you kno...</td>\n",
       "      <td>0.0</td>\n",
       "      <td>S01E00</td>\n",
       "      <td>1.0</td>\n",
       "      <td>jerry</td>\n",
       "      <td>1</td>\n",
       "    </tr>\n",
       "    <tr>\n",
       "      <th>1</th>\n",
       "      <td>jerry</td>\n",
       "      <td>(pointing at georges shirt) see, to me, that b...</td>\n",
       "      <td>0.0</td>\n",
       "      <td>S01E00</td>\n",
       "      <td>1.0</td>\n",
       "      <td>jerry</td>\n",
       "      <td>1</td>\n",
       "    </tr>\n",
       "    <tr>\n",
       "      <th>2</th>\n",
       "      <td>george</td>\n",
       "      <td>are you through?</td>\n",
       "      <td>0.0</td>\n",
       "      <td>S01E00</td>\n",
       "      <td>1.0</td>\n",
       "      <td>george</td>\n",
       "      <td>1</td>\n",
       "    </tr>\n",
       "    <tr>\n",
       "      <th>3</th>\n",
       "      <td>jerry</td>\n",
       "      <td>you do of course try on, when you buy?</td>\n",
       "      <td>0.0</td>\n",
       "      <td>S01E00</td>\n",
       "      <td>1.0</td>\n",
       "      <td>jerry</td>\n",
       "      <td>1</td>\n",
       "    </tr>\n",
       "    <tr>\n",
       "      <th>4</th>\n",
       "      <td>george</td>\n",
       "      <td>yes, it was purple, i liked it, i dont actuall...</td>\n",
       "      <td>0.0</td>\n",
       "      <td>S01E00</td>\n",
       "      <td>1.0</td>\n",
       "      <td>george</td>\n",
       "      <td>1</td>\n",
       "    </tr>\n",
       "  </tbody>\n",
       "</table>\n",
       "</div>"
      ],
      "text/plain": [
       "  Character                                           Dialogue  EpisodeNo  \\\n",
       "0     jerry  do you know what this is all about? do you kno...        0.0   \n",
       "1     jerry  (pointing at georges shirt) see, to me, that b...        0.0   \n",
       "2    george                                   are you through?        0.0   \n",
       "3     jerry             you do of course try on, when you buy?        0.0   \n",
       "4    george  yes, it was purple, i liked it, i dont actuall...        0.0   \n",
       "\n",
       "     SEID  Season character_stripped  Larry  \n",
       "0  S01E00     1.0              jerry      1  \n",
       "1  S01E00     1.0              jerry      1  \n",
       "2  S01E00     1.0             george      1  \n",
       "3  S01E00     1.0              jerry      1  \n",
       "4  S01E00     1.0             george      1  "
      ]
     },
     "execution_count": 5,
     "metadata": {},
     "output_type": "execute_result"
    }
   ],
   "source": [
    "scripts['Larry']=0\n",
    "for ep in larry_eps:\n",
    "    scripts.loc[scripts['SEID']==ep,'Larry']=1\n",
    "scripts.head()"
   ]
  },
  {
   "cell_type": "code",
   "execution_count": 6,
   "metadata": {},
   "outputs": [],
   "source": [
    "tokenizer = text.Tokenizer(num_words=20000)\n",
    "tokenizer.fit_on_texts(list(scripts['Dialogue'].values))\n",
    "list_tokenized_train = tokenizer.texts_to_sequences(scripts.Dialogue.values)\n",
    "X_t = pad_sequences(list_tokenized_train,maxlen=100)\n",
    "y=scripts.Larry.values"
   ]
  },
  {
   "cell_type": "code",
   "execution_count": 14,
   "metadata": {},
   "outputs": [],
   "source": [
    "from imblearn.over_sampling import RandomOverSampler, SMOTE\n",
    "X_resampled, y_resampled = SMOTE().fit_sample(X_t, y) "
   ]
  },
  {
   "cell_type": "code",
   "execution_count": 15,
   "metadata": {},
   "outputs": [],
   "source": [
    "X_r_train, X_r_test, y_r_train, y_r_test = train_test_split(X_resampled,y_resampled)"
   ]
  },
  {
   "cell_type": "code",
   "execution_count": 19,
   "metadata": {},
   "outputs": [
    {
     "name": "stdout",
     "output_type": "stream",
     "text": [
      "Train on 48714 samples, validate on 5413 samples\n",
      "Epoch 1/5\n",
      "48714/48714 [==============================] - 844s 17ms/step - loss: 0.6729 - acc: 0.5690 - val_loss: 0.6284 - val_acc: 0.6519\n",
      "\n",
      "Epoch 00001: val_loss improved from inf to 0.62844, saving model to weights_base.best.hdf5\n",
      "Epoch 2/5\n",
      "48714/48714 [==============================] - 853s 18ms/step - loss: 0.5469 - acc: 0.7137 - val_loss: 0.5649 - val_acc: 0.6841\n",
      "\n",
      "Epoch 00002: val_loss improved from 0.62844 to 0.56493, saving model to weights_base.best.hdf5\n",
      "Epoch 3/5\n",
      "48714/48714 [==============================] - 865s 18ms/step - loss: 0.4405 - acc: 0.7728 - val_loss: 0.6217 - val_acc: 0.6767\n",
      "\n",
      "Epoch 00003: val_loss did not improve from 0.56493\n",
      "Epoch 4/5\n",
      "48714/48714 [==============================] - 849s 17ms/step - loss: 0.3726 - acc: 0.8045 - val_loss: 0.6861 - val_acc: 0.6758\n",
      "\n",
      "Epoch 00004: val_loss did not improve from 0.56493\n",
      "Epoch 5/5\n",
      "48714/48714 [==============================] - 848s 17ms/step - loss: 0.3303 - acc: 0.8237 - val_loss: 0.7329 - val_acc: 0.6767\n",
      "\n",
      "Epoch 00005: val_loss did not improve from 0.56493\n"
     ]
    }
   ],
   "source": [
    "embedding_size = 128\n",
    "input_ = Input(shape=(100,))\n",
    "x = Embedding(20000,embedding_size)(input_)\n",
    "x = Bidirectional(GRU(200,return_sequences=True))(x)\n",
    "x = GlobalMaxPool1D()(x)\n",
    "x = Dropout(0.5)(x)\n",
    "x = Dense(200,activation='relu')(x)\n",
    "x = Dropout(0.5)(x)\n",
    "x = Dense(100,activation='relu')(x)\n",
    "x = Dropout(0.5)(x)\n",
    "x = Dense(1,activation='sigmoid')(x)\n",
    "\n",
    "model2 = Model(inputs=input_,outputs=x)\n",
    "model2.compile(loss='binary_crossentropy',optimizer='adam',metrics=['accuracy'])\n",
    "\n",
    "checkpoints_path = 'weights_base.best.hdf5'\n",
    "checkpoint = [ModelCheckpoint(checkpoints_path, monitor='val_loss', verbose=1, save_best_only=True, mode='min')]\n",
    "\n",
    "history2=model2.fit(X_r_train,y_r_train,batch_size=32,epochs=5,validation_split=0.1, callbacks=checkpoint)"
   ]
  },
  {
   "cell_type": "code",
   "execution_count": 10,
   "metadata": {},
   "outputs": [
    {
     "data": {
      "image/png": "[encoded data removed]",
      "text/plain": [
       "<Figure size 432x288 with 1 Axes>"
      ]
     },
     "metadata": {
      "needs_background": "light"
     },
     "output_type": "display_data"
    },
    {
     "data": {
      "image/png": "[encoded data removed]",
      "text/plain": [
       "<Figure size 432x288 with 1 Axes>"
      ]
     },
     "metadata": {
      "needs_background": "light"
     },
     "output_type": "display_data"
    }
   ],
   "source": [
    "train_acc = history2.history['acc']\n",
    "val_acc = history2.history['val_acc']\n",
    "train_loss = history2.history['loss']\n",
    "val_loss = history2.history['val_loss']\n",
    "epch = range(1, len(train_acc) + 1)\n",
    "plt.plot(epch, train_acc, 'g.', label='Training Accuracy')\n",
    "plt.plot(epch, val_acc, 'g', label='Validation acc')\n",
    "plt.title('Accuracy')\n",
    "plt.legend()\n",
    "plt.xlabel('Epoch')\n",
    "plt.figure()\n",
    "plt.plot(epch, train_loss, 'r.', label='Training loss')\n",
    "plt.plot(epch, val_loss, 'r', label='Validation loss')\n",
    "plt.title('Loss')\n",
    "plt.xlabel('Epoch')\n",
    "plt.legend()\n",
    "plt.show()"
   ]
  },
  {
   "cell_type": "code",
   "execution_count": null,
   "metadata": {},
   "outputs": [],
   "source": [
    "model2.evaluate(X_r_test,y_r_test)"
   ]
  },
  {
   "cell_type": "code",
   "execution_count": null,
   "metadata": {},
   "outputs": [],
   "source": []
  }
 ],
 "metadata": {
  "kernelspec": {
   "display_name": "Python 3",
   "language": "python",
   "name": "python3"
  },
  "language_info": {
   "codemirror_mode": {
    "name": "ipython",
    "version": 3
   },
   "file_extension": ".py",
   "mimetype": "text/x-python",
   "name": "python",
   "nbconvert_exporter": "python",
   "pygments_lexer": "ipython3",
   "version": "3.7.1"
  }
 },
 "nbformat": 4,
 "nbformat_minor": 2
}
