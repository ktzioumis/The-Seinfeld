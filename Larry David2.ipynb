{
 "cells": [
  {
   "cell_type": "code",
   "execution_count": 1,
   "metadata": {},
   "outputs": [
    {
     "name": "stderr",
     "output_type": "stream",
     "text": [
      "Using TensorFlow backend.\n",
      "'matplotlib' is not recognized as an internal or external command,\n",
      "operable program or batch file.\n"
     ]
    }
   ],
   "source": [
    "import keras\n",
    "from keras.preprocessing.sequence import pad_sequences\n",
    "from keras.layers import Input, Dense, LSTM, Embedding\n",
    "from keras.layers import Dropout, Activation, Bidirectional, GlobalMaxPool1D\n",
    "from keras.models import Model\n",
    "from keras import initializers, regularizers, constraints, optimizers, layers\n",
    "from keras.preprocessing import text, sequence\n",
    "from keras.callbacks import ModelCheckpoint\n",
    "from keras.callbacks import EarlyStopping\n",
    "from sklearn.model_selection import train_test_split\n",
    "from imblearn.over_sampling import RandomOverSampler, SMOTE\n",
    "import matplotlib.pyplot as plt\n",
    "import numpy as np\n",
    "import pandas as pd\n",
    "!matplotlib inline\n",
    "np.random.seed(0)"
   ]
  },
  {
   "cell_type": "code",
   "execution_count": 2,
   "metadata": {},
   "outputs": [
    {
     "name": "stderr",
     "output_type": "stream",
     "text": [
      "C:\\kosta\\Anaconda3\\lib\\site-packages\\ipykernel_launcher.py:9: SettingWithCopyWarning: \n",
      "A value is trying to be set on a copy of a slice from a DataFrame\n",
      "\n",
      "See the caveats in the documentation: http://pandas.pydata.org/pandas-docs/stable/indexing.html#indexing-view-versus-copy\n",
      "  if __name__ == '__main__':\n"
     ]
    }
   ],
   "source": [
    "episodes=pd.read_csv('episodes_cleaned.csv',index_col='Unnamed: 0')\n",
    "scripts=pd.read_csv('scripts_cleaned.csv',index_col='Unnamed: 0')\n",
    "\n",
    "episodes['Larry']=0\n",
    "for ep in episodes.iterrows():\n",
    "    names=(ep[1][4].replace(' and ',',').split(','))\n",
    "    for name in names:\n",
    "        if 'Larry David' in name:\n",
    "            episodes['Larry'][ep[0]]=1\n",
    "larry_eps=list(episodes.loc[episodes.Larry==1]['SEID'])\n",
    "    "
   ]
  },
  {
   "cell_type": "code",
   "execution_count": 5,
   "metadata": {},
   "outputs": [
    {
     "data": {
      "text/plain": [
       "\"so, im on line at the supermarket. two women in front of me. one of them, her total was eight dollars, the other three dollars. they both of course choose to pay by the use of the... cheque. cheque. now, the fact is, if its a woman in front of you thats writing the cheque, you will not be waiting long. i have noticed that women are very fast with cheques, yknow, cause they write out so many cheques. the keys, they can never find in their purse, they dont know where that is, but the cheque book they got that. they never fumble for the cheque book. the cheque book comes out of a holster (jerry draws imaginary book from a holster.) who do i make it out to? theres my id. theres something about a cheque that, to a man, is not masculine. i dont know exactly what it is. i think to a man, a cheque is like a note from your mother that says, i dont have any money, but if youll contact these people, im sure theyll stick up for me... if you just trust me this one time- i dont have any money but i have these. i wrote on these. is this of any value at all? whats that one? coccoon ii the return. i guess they didnt like it up there. maybe they came back for chinese food. yknow maureen stapleton, if she gets a craving, shes probably screamin at those aliens, i gotta have a lo mein! okay, whatre we doing here? i have seen everything. oh yeah? i dont believe youve seen... this. oh, lovely. yeah. what do you think their parents think? so, uh, whats your son doing now, dr. stevens? oh, hes a public fornicator. yes, hes a fine boy... yknow what? this would be a really funny gift for pamelas birthday. pamela? do i know her? yeah, you met her when we were going out. oh yeah, right... you have no idea who im talking about, do you? (quickly) no. blonde hair, remember? glasses? (pause) have you totally blocked out the entire time we were a couple? (a lightbulb goes on in his head) riverside drive. right! in fact... no, never mind... well, what is it? well, a bunch of people are getting together tomorrow night at some bar for her birthday, but... (jerry turns in disgust) you dont want to go to... that... no. wait a second, wait a second. we could work out a little deal here. what little deal? i will go to that, if you go with me to a little family wedding i have on saturday. a wedding? have you lost it, man? yknow, my parents are coming in for this... theyre coming in? yeah, tomorrow. hey, did your father ever get that hair weave? no, no. still doin the big sweep across. why does he do that? doesnt think anyone can tell. so cmon, do we have a deal? a wedding? theres a lot of people to mock... all right, what the hell. great! when youre dead, youre dead. thats it. youre not goin anywhere... cmon lets go... was i supposed to bring something? you could have. i met her one time... it is not necessary. what did you say then? sssshhhhhh!!! hi hi, pamela, you remember jerry. (shakes jerry's hand) yes, we met. hi, happy birthday. thanks, ah, everybody, this is elaine and jerry. hi i didnt bring anything. uh, i put you two right here. oh, okay (turns to rest of table) im sorry, i didnt know what to bring, nobody told me. how big a tip do you think itd take to get him to stop? im in for five... ill supply the hat. (thinking) uh-oh... what do we have here? why dont you relax and take your jacket off? oh, i cant. uh, i have a tendency to get chilly. how masculine. plus im wearing short sleeves, i dont want to expose my tattoos. (vanessa smiles; thinking) shes unbelievable! (to vanessa) hey, this guy says he knows bricker. oh, you know bricker! from where? (thinking) whats going on here? gotta be her boyfriend, shes too good to be alone. whats the difference, i cant maneouver anyway with elaine next to me. (to jerry) how do you know pamela? uh, friend of a friend. and you? we went to law school together. (interrupting jerry's conversation) oh, jerry! (turning to elaine; thinking) oh no, not now. i had this dream last night and you were in it. oh really? (tries turning away in the hopes elaine gets the hint; thinking) oh god, i gotta get out of this. you were you, but, you werent you... no kidding. (thinking) why is this happening? please, make her stop! i think, i think we were in my house where i grew up, and you were standing there, you were looking out the window... (thinking) this is brutal. you turned around and you had these wooden teeth. how do you like that? (tries to turn away again; thinking)can i turn now? is this over? no, i cant, i cant. im stuck. (noticing jerry not wanting to listen; annoyed) jerry? are you listening to me? yes, i heard you. elaine, whats the name of that jewelry store you took me to that time? (thinking) thank you, pamela! (turns to talk to vanessa; to vanessa) so, youre a lawyer... sagman, bennet, robbins, oppenheim and taft. (thinking) sagman, bennet, robbins, oppenheim and taft. sagman, bennet, robbins, oppenheim and taft... (to vanessa) of course, they handled my tattoo removal lawsuit. oh, that was you? imagine, spelling mom with two os. very funny! what do you do? comedian. really? that explains it. (thinking; quickly) sagman, bennet, robbins, oppenheim and taft. sagman, bennet, robbins, oppenheim and taft. are you ready? we gotta run. happy birthday! (thinking) i cant believe it. i got nothing! i dont even know her name! sagman, bennet, robbins, oppenheim and taft. sagman, bennet, robbins, oppen... sagman... sag... that wasnt so bad, really. yknow, um, you could use a little work on your manners. why? what did i do? wel-well, i just dont appreciate these little courtesy responses, like im selling you aluminum siding. i was listening! no! you couldnt wait to get back to your little... conversation. no, you were talking about the, the um, the dream you had. uh-huh... where you had, uh, wooden teeth. no! no! you had wooden teeth! you had wooden teeth! i didnt have wooden teeth, you did! all right, so i had wooden teeth, so what? so nothing! nothing. (annoyed sigh) apparently plato, who came up with the concept of the platonic relationship, was pretty excited about it. he named it after himself. he said, yeah, i got this new thing platonic. my idea, my name, callin it after myself. what i do is, i go out with the girls, i talk with them- dont do anything, and go right home. whatd you think? i think its going to be big! i bet you there were other guys in history that tried to get relationships named after them, but it didnt work. yknow, i bet you there were guys who tried to do it, just went, uh, hi, uh my names rico. would you like to go to bed immediately? hey, its a riconic relationship. hey! ah, there he is! this is what i like, see? you come home and your parents are in your bed! yknow, jerry, we dont have to do this. what are you talkin about? its fine, i love having you here. tomorrow well go to a hotel. ma, will you stop? no, why should we take over your apartment? i dont care. im sleeping next door. your friend kramer doesnt mind? no, hes making a bouillabaisse. so, dad, lemme ask you a question. how many people work at these big law offices? depends on the firm. yeah, but if you called up and described someone, do you think they would know who it was? whats the matter? you need a lawyer? no, i met someone at this party, and i know where she works, but i dont know her name. so why dont you ask someone who was at the party? nah, the only one i could ask is elaine, and i cant ask her. why not? because its complicated. theres some tension there. he used to go with her. which one is she? from maryland. the one who brought you the chocolate covered cherries you didnt like. oh yeah, very alert. warm person. oh yeah, shes great. so, how come nothing materialized there? well, its a tough thing to talk about uh. i dunno... i know what it was. you dont know what it was. so, what was it? well, we fight a lot for some reason. oh, well... and there was a little problem with the physical chemistry. well, i think shes a very attractive girl. oh, she is, she absolutely is. i can see if there was a weight problem... no, its not that. it wasnt all one-sided. you know, you cant be so particular. nobodys perfect. i know, i know... yknow jerry, its a good thing i wasnt so particular. (hits morty) idiot. (to jerry) so whore you looking for, sophia loren? thats got nothin to do with it. how about loni anderson? where do you get loni anderson? why, whats wrong with loni anderson? i like elaine more than loni anderson. what are you two talking about? look, elaine just wasnt the one. and this other ones the one? i dunno, maybe... so ask elaine there for her number. i cant. shell get upset. i never talk about other women with her, especially this one tonight. how could you still see her if your not interested? were friends. doesnt sound like youre friends to me. if you were friends you'd-youd ask her for the number. do you know where this other one works? oh yeah. well, go up to the office. up to her office? go to the building. she goes out to lunch, doesnt she? i guess. so, you stand in the lobby, by the elevator, and wait for her to come down for lunch. you mean stakeout the lobby? morty, thats ridiculous. just ask elaine for the number! he doesnt want to ask elaine for the number. so youve got him standing by the elevator like a dope! what happens when he sees her? he pretends he bumped into her! yknow what? this is not that bad an idea. what does she look like? i dunno. hard to say. what actress does she remind you of? loni anderson. loni anderson?! what, theres something wrong with loni anderson? (pause) hey listen, thanks again for running over here. i appreciate it. yeah, sure. i was showing a condo on 48th street. besides, you think i wanna miss this? (chuckles) im a little nervous. yeah, me too... if i see her, what do i say that im doing here in the building? you came to see me. i work in the building. what do you do? im an architect. youre an architect? im not? i dont see architecture comin from you. (somewhat annoyed) i suppose you could be an architect. i never said that i was the architect. just somethin else. all right, shes not even gonna ask, if we see her, which is remote. well whaddaya want me to say, that i just wandered in here? were having lunch with a friend. he works in the building. what is his name? bert... har... bin... son. bert har-bin-son. bert harbinson? it sounds made up. no good? all right, uh how about art... cor..... art cor... ...velay. corvelay? yeah, right. well, what does he do? hes an importer. just imports, no exports? (annoyed) hes an importer/exporter, okay? (beat) elaine ever call you back? no, i guess shes still mad. i dont understand, you never talk to her about other women? never. (the elevator door opens.) wait a second. thats her. on the right. (anxious) i forgot who i am! who am i?! youre you. were having lunch with art corvelay. vandelay! corvelay! let me be the architect! i can do it! hey, hey. uh pamelas birthday party, didnt i see you there? jerry. sure! hi! uh, this is george. (reaches for her name) im sorry... vanessa. nice to meet you. ah, sagman, bennet, robbins, oppenheim and taft. thats right! yea, whatre you doing here? oh, were meeting a friend of ours for lunch. he works here in the building. yeah, art vandelay. really? which company? (turning to each other) i dont know. hes an importer. importer? ...and exporter. hes an importer/exporter. (clears his throat) im, uh, im an architect. really. what do you design? uh, railroads, uh... i thought engineers do that. they can... yknow im sorry you had to leave so early the other night. oh, me too. my cousin had to go back to boston. oh, that guy was your cousin! (walking in front of george so he gets the picture to leave) yeah, and that woman was your... friend! ill just, uh, get a paper... so, um, do you date uh immature men? almost exclusively... bum bum bum bum... i have no letters... bum bum bum bum... (annoyed) ma, will you go already? bum bum bum bum... what are you doing?! wait, i just want to see something. you cant look in there, were playing! hi. hi. (cleaning his shoes) good evening, mr. kramer! hey morty! (to jerry) salad dressing? look. quo. is that a word? maybe! will you challenge it? ma, you cant look up words in the dictionary! (to morty) dad, shes cheating! quo? thats not a word. (to jerry) youre such a stickler... well put something down, youre taking twenty minutes on this. so is uncle mac and artie, theyre all coming over here before the wedding? theyll be here at two oclock. oh, elaine called. she said shed be here at two-thirty. and she says hope your meeting went well with art vandelay? she said what? just what i said, here. she knows! oh, i am such a jackass. she knows what? she knows the whole stupid thing. vanessa and the elevator... no, no, no, that wont do. he may have a z. so, how did she find out? because, vanessa probably told pamela, and pamela probably told elaine. so, what are you? afraid of her? yes. yes i am! (to helen) what else did she say on the phone? whatever i wrote down. yeah, but what was the tone in her voice? how did she sound? who am i, rich little? well, she cant be too mad. shes still coming to the wedding. yeah, but now im nervous. oh, stop it. quone? ...30...31... quone? no, im afraid that im going to have to challenge that. ...32... no, you dont have to challenge that. thats a word. thats a definite word. i am challenging. quone. to quone something. uh-huh. im not playing with you anymore. quones not a word. no good. sorry. there it is. get it off. (to kramer) why did you make me put that down? nah, we need a medical dictionary! if a patient gets difficult, you quone him. you want some funny material, you oughta come down to where i work, now thats a sitcom! you must have quite a time down there. we got plenty of time. oh, im sorry. im just waiting for someone. watch what you say to this guy. hell put it in his next act! yeah, yeah... jerry, did i tell you that im writing a book? an autobiography. yeah, uncle mac, you mentioned it. its based on all my experiences! thats perfect. could you excuse me one second? im sorry. how do you do? (introducing himself) uh, jerry seinfeld. oh, how do you do? elaine benes. um, do you want to do this now, or do you want to wait until we get in the car? oh no, lets do it now. all right, the whole elevator business, let me just explain- okay. jerry, were you goin with us? no, im gonna take my car. thats why i brought the wagon. why the hell did i bring the wagon? anyway, you know why i didnt ask you, i mean i felt so uncomfortable, and you were so annoyed in the cab. well, jerry, i never saw you flirt with anyone before. it was quite the spectacle. jerry, well see you there. bye, elaine. oh, bye. good to see you. oh, we didnt meet. oh, im sorry. elaine, this is my cousin, artie levine. (correcting jerry) levine. (sarcastically) yeah, levine. and im jerry cougar mellencamp. anyway, i admit it was a fairly ridiculous thing to do, but i mean, i mean, obviously we have a little problem here. yeah, obviously. i mean, if were gonna be friends, we gotta be able to talk about other people. couldnt agree more. good. good. good. great! great? where do you get great? its great to... talk about... other people... ...guys? yeah. uh-huh. yeah. so, anybody specific? no. a general guy. oh really? elaine marie benes... what? no, its not a big deal. no, thats great! thats terrific! no, we just met... doesnt matter. whats the young mans name? i would like to meet him. hmmm, i dont think so. well, what does he do? is he an artisan, a craftsman, a labourer of some sort? wall street. ah, high finance. bulls, bears, people from conneticut. and he happens to be pretty good lookin. (pause) all right, sir. and... hes hilarious. now thats not fair! so where did you meet this guy? i staked out his health club. uh huh. when youre on a stakeout, do you find its better to stand up against the wall, or kinda crouch down behind a big plant? yknow i think that even if youve had a relationship with someone, or lets say, especially if youve had a relationship with someone and you try to become friends afterwards, its very difficult. isnt this? its hard. because, you know each other so well, you know all of each others tricks. its like two magicians, trying to entertain each other. the one goes, look, a rabbit. the other goes, so? i believe this is your card. look, why dont we just saw each other in half and call it a night, okay?\""
      ]
     },
     "execution_count": 5,
     "metadata": {},
     "output_type": "execute_result"
    }
   ],
   "source": [
    "\" \".join(list(scripts.loc[scripts.SEID=='S01E01']['Dialogue']))"
   ]
  },
  {
   "cell_type": "code",
   "execution_count": 24,
   "metadata": {},
   "outputs": [],
   "source": [
    "ep_corpus=dict()\n",
    "for ep in episodes.SEID.values:\n",
    "    ep_corpus[ep]=\" \".join(list(scripts.loc[scripts.SEID==ep]['Dialogue']))\n",
    "# for ep in episodes.SEID.values:\n",
    "#     if ep in larry_eps:\n",
    "#         ep_corpus[ep]['larry']"
   ]
  },
  {
   "cell_type": "code",
   "execution_count": 10,
   "metadata": {},
   "outputs": [
    {
     "data": {
      "text/plain": [
       "dict_keys(['S01E00', 'S01E01', 'S01E02', 'S01E03', 'S01E04', 'S02E01', 'S02E02', 'S02E03', 'S02E04', 'S02E05', 'S02E06', 'S02E07', 'S02E08', 'S02E09', 'S02E10', 'S02E11', 'S02E12', 'S03E01', 'S03E02', 'S03E03', 'S03E04', 'S03E05', 'S03E06', 'S03E07', 'S03E08', 'S03E09', 'S03E10', 'S03E11', 'S03E12', 'S03E13', 'S03E14', 'S03E15', 'S03E16', 'S03E17', 'S03E18', 'S03E19', 'S03E20', 'S03E21', 'S03E22', 'S03E23', 'S04E01', 'S04E02', 'S04E03', 'S04E04', 'S04E05', 'S04E06', 'S04E07', 'S04E08', 'S04E09', 'S04E10', 'S04E11', 'S04E12', 'S04E13', 'S04E14', 'S04E15', 'S04E16', 'S04E17', 'S04E18', 'S04E19', 'S04E20', 'S04E21', 'S04E22', 'S04E23', 'S04E24', 'S05E01', 'S05E02', 'S05E03', 'S05E04', 'S05E05', 'S05E06', 'S05E07', 'S05E08', 'S05E09', 'S05E10', 'S05E11', 'S05E12', 'S05E13', 'S05E14', 'S05E15', 'S05E16', 'S05E17', 'S05E18', 'S05E20', 'S05E21', 'S05E22', 'S06E01', 'S06E02', 'S06E03', 'S06E04', 'S06E05', 'S06E06', 'S06E07', 'S06E08', 'S06E09', 'S06E10', 'S06E11', 'S06E12', 'S06E13', 'S06E16', 'S06E17', 'S06E18', 'S06E19', 'S06E20', 'S06E21', 'S06E22', 'S06E23', 'S06E24', 'S07E01', 'S07E02', 'S07E03', 'S07E04', 'S07E05', 'S07E06', 'S07E07', 'S07E08', 'S07E09', 'S07E10', 'S07E11', 'S07E12', 'S07E13', 'S07E14', 'S07E15', 'S07E16', 'S07E17', 'S07E18', 'S07E19', 'S07E20', 'S07E21', 'S07E22', 'S07E23', 'S07E24', 'S08E01', 'S08E02', 'S08E03', 'S08E04', 'S08E05', 'S08E06', 'S08E07', 'S08E08', 'S08E09', 'S08E10', 'S08E11', 'S08E12', 'S08E13', 'S08E14', 'S08E15', 'S08E16', 'S08E17', 'S08E18', 'S08E19', 'S08E20', 'S08E21', 'S08E22', 'S09E01', 'S09E02', 'S09E03', 'S09E04', 'S09E05', 'S09E06', 'S09E07', 'S09E08', 'S09E09', 'S09E10', 'S09E11', 'S09E12', 'S09E13', 'S09E14', 'S09E15', 'S09E16', 'S09E17', 'S09E18', 'S09E19', 'S09E20', 'S09E23'])"
      ]
     },
     "execution_count": 10,
     "metadata": {},
     "output_type": "execute_result"
    }
   ],
   "source": [
    "ep_corpus.keys()"
   ]
  },
  {
   "cell_type": "code",
   "execution_count": 31,
   "metadata": {},
   "outputs": [
    {
     "data": {
      "text/html": [
       "<div>\n",
       "<style scoped>\n",
       "    .dataframe tbody tr th:only-of-type {\n",
       "        vertical-align: middle;\n",
       "    }\n",
       "\n",
       "    .dataframe tbody tr th {\n",
       "        vertical-align: top;\n",
       "    }\n",
       "\n",
       "    .dataframe thead th {\n",
       "        text-align: right;\n",
       "    }\n",
       "</style>\n",
       "<table border=\"1\" class=\"dataframe\">\n",
       "  <thead>\n",
       "    <tr style=\"text-align: right;\">\n",
       "      <th></th>\n",
       "      <th>SEID</th>\n",
       "      <th>corpus</th>\n",
       "    </tr>\n",
       "  </thead>\n",
       "  <tbody>\n",
       "    <tr>\n",
       "      <th>0</th>\n",
       "      <td>S01E00</td>\n",
       "      <td>do you know what this is all about? do you kno...</td>\n",
       "    </tr>\n",
       "    <tr>\n",
       "      <th>1</th>\n",
       "      <td>S01E01</td>\n",
       "      <td>so, im on line at the supermarket. two women i...</td>\n",
       "    </tr>\n",
       "    <tr>\n",
       "      <th>2</th>\n",
       "      <td>S01E02</td>\n",
       "      <td>so i move into the centre lane, now i get ahea...</td>\n",
       "    </tr>\n",
       "    <tr>\n",
       "      <th>3</th>\n",
       "      <td>S01E03</td>\n",
       "      <td>most men like working on things. tools, object...</td>\n",
       "    </tr>\n",
       "    <tr>\n",
       "      <th>4</th>\n",
       "      <td>S01E04</td>\n",
       "      <td>went out to dinner the other night. check came...</td>\n",
       "    </tr>\n",
       "  </tbody>\n",
       "</table>\n",
       "</div>"
      ],
      "text/plain": [
       "     SEID                                             corpus\n",
       "0  S01E00  do you know what this is all about? do you kno...\n",
       "1  S01E01  so, im on line at the supermarket. two women i...\n",
       "2  S01E02  so i move into the centre lane, now i get ahea...\n",
       "3  S01E03  most men like working on things. tools, object...\n",
       "4  S01E04  went out to dinner the other night. check came..."
      ]
     },
     "execution_count": 31,
     "metadata": {},
     "output_type": "execute_result"
    }
   ],
   "source": [
    "corpus_df=pd.DataFrame([ep_corpus.keys(),ep_corpus.values()])\n",
    "corpus_df=corpus_df.transpose()\n",
    "corpus_df.columns=['SEID','corpus']\n",
    "corpus_df.head()"
   ]
  },
  {
   "cell_type": "code",
   "execution_count": 32,
   "metadata": {},
   "outputs": [
    {
     "data": {
      "text/html": [
       "<div>\n",
       "<style scoped>\n",
       "    .dataframe tbody tr th:only-of-type {\n",
       "        vertical-align: middle;\n",
       "    }\n",
       "\n",
       "    .dataframe tbody tr th {\n",
       "        vertical-align: top;\n",
       "    }\n",
       "\n",
       "    .dataframe thead th {\n",
       "        text-align: right;\n",
       "    }\n",
       "</style>\n",
       "<table border=\"1\" class=\"dataframe\">\n",
       "  <thead>\n",
       "    <tr style=\"text-align: right;\">\n",
       "      <th></th>\n",
       "      <th>SEID</th>\n",
       "      <th>corpus</th>\n",
       "      <th>larry</th>\n",
       "    </tr>\n",
       "  </thead>\n",
       "  <tbody>\n",
       "    <tr>\n",
       "      <th>0</th>\n",
       "      <td>S01E00</td>\n",
       "      <td>do you know what this is all about? do you kno...</td>\n",
       "      <td>1</td>\n",
       "    </tr>\n",
       "    <tr>\n",
       "      <th>1</th>\n",
       "      <td>S01E01</td>\n",
       "      <td>so, im on line at the supermarket. two women i...</td>\n",
       "      <td>1</td>\n",
       "    </tr>\n",
       "    <tr>\n",
       "      <th>2</th>\n",
       "      <td>S01E02</td>\n",
       "      <td>so i move into the centre lane, now i get ahea...</td>\n",
       "      <td>0</td>\n",
       "    </tr>\n",
       "    <tr>\n",
       "      <th>3</th>\n",
       "      <td>S01E03</td>\n",
       "      <td>most men like working on things. tools, object...</td>\n",
       "      <td>1</td>\n",
       "    </tr>\n",
       "    <tr>\n",
       "      <th>4</th>\n",
       "      <td>S01E04</td>\n",
       "      <td>went out to dinner the other night. check came...</td>\n",
       "      <td>1</td>\n",
       "    </tr>\n",
       "  </tbody>\n",
       "</table>\n",
       "</div>"
      ],
      "text/plain": [
       "     SEID                                             corpus  larry\n",
       "0  S01E00  do you know what this is all about? do you kno...      1\n",
       "1  S01E01  so, im on line at the supermarket. two women i...      1\n",
       "2  S01E02  so i move into the centre lane, now i get ahea...      0\n",
       "3  S01E03  most men like working on things. tools, object...      1\n",
       "4  S01E04  went out to dinner the other night. check came...      1"
      ]
     },
     "execution_count": 32,
     "metadata": {},
     "output_type": "execute_result"
    }
   ],
   "source": [
    "corpus_df['larry']=episodes.Larry\n",
    "corpus_df.head()"
   ]
  },
  {
   "cell_type": "code",
   "execution_count": 43,
   "metadata": {},
   "outputs": [
    {
     "data": {
      "text/plain": [
       "18534"
      ]
     },
     "execution_count": 43,
     "metadata": {},
     "output_type": "execute_result"
    }
   ],
   "source": [
    "len(corpus_df.corpus[0])"
   ]
  },
  {
   "cell_type": "code",
   "execution_count": 44,
   "metadata": {},
   "outputs": [],
   "source": [
    "tokenizer = text.Tokenizer(num_words=20000)\n",
    "tokenizer.fit_on_texts(list(corpus_df.corpus.values))\n",
    "list_tokenized_train = tokenizer.texts_to_sequences(corpus_df.corpus.values)\n",
    "X_t = pad_sequences(list_tokenized_train,maxlen=2000)\n",
    "y=corpus_df.larry"
   ]
  },
  {
   "cell_type": "code",
   "execution_count": 45,
   "metadata": {},
   "outputs": [],
   "source": [
    "from imblearn.over_sampling import RandomOverSampler, SMOTE\n",
    "X_resampled, y_resampled = RandomOverSampler().fit_sample(X_t, y) "
   ]
  },
  {
   "cell_type": "code",
   "execution_count": 46,
   "metadata": {
    "scrolled": true
   },
   "outputs": [
    {
     "name": "stdout",
     "output_type": "stream",
     "text": [
      "Train on 208 samples, validate on 24 samples\n",
      "Epoch 1/6\n",
      "208/208 [==============================] - 75s 363ms/step - loss: 0.6904 - acc: 0.5385 - val_loss: 0.7051 - val_acc: 0.0000e+00\n",
      "\n",
      "Epoch 00001: val_loss improved from inf to 0.70507, saving model to weights2_base.best.hdf5\n",
      "Epoch 2/6\n",
      "208/208 [==============================] - 59s 282ms/step - loss: 0.6911 - acc: 0.5096 - val_loss: 0.7330 - val_acc: 0.0000e+00\n",
      "\n",
      "Epoch 00002: val_loss did not improve from 0.70507\n",
      "Epoch 3/6\n",
      "208/208 [==============================] - 60s 287ms/step - loss: 0.6844 - acc: 0.5673 - val_loss: 0.7630 - val_acc: 0.0000e+00\n",
      "\n",
      "Epoch 00003: val_loss did not improve from 0.70507\n",
      "Epoch 4/6\n",
      "208/208 [==============================] - 61s 294ms/step - loss: 0.6828 - acc: 0.5481 - val_loss: 0.7860 - val_acc: 0.0000e+00\n",
      "\n",
      "Epoch 00004: val_loss did not improve from 0.70507\n",
      "Epoch 5/6\n",
      "208/208 [==============================] - 62s 300ms/step - loss: 0.6821 - acc: 0.5721 - val_loss: 0.8043 - val_acc: 0.0000e+00\n",
      "\n",
      "Epoch 00005: val_loss did not improve from 0.70507\n",
      "Epoch 6/6\n",
      "208/208 [==============================] - 54s 262ms/step - loss: 0.6863 - acc: 0.5433 - val_loss: 0.8077 - val_acc: 0.0000e+00\n",
      "\n",
      "Epoch 00006: val_loss did not improve from 0.70507\n"
     ]
    }
   ],
   "source": [
    "embedding_size = 128\n",
    "input_ = Input(shape=(2000,))\n",
    "x = Embedding(20000,embedding_size)(input_)\n",
    "x = Bidirectional(LSTM(50,return_sequences=True))(x)\n",
    "x = GlobalMaxPool1D()(x)\n",
    "x = Dropout(0.5)(x)\n",
    "x = Dense(100,activation='relu')(x)\n",
    "x = Dropout(0.5)(x)\n",
    "x = Dense(50,activation='relu')(x)\n",
    "x = Dropout(0.5)(x)\n",
    "x = Dense(1,activation='sigmoid')(x)\n",
    "\n",
    "model2 = Model(inputs=input_,outputs=x)\n",
    "model2.compile(loss='binary_crossentropy',optimizer='adam',metrics=['accuracy'])\n",
    "\n",
    "checkpoints_path = 'weights2_base.best.hdf5'\n",
    "checkpoint = [ModelCheckpoint(checkpoints_path, monitor='val_loss', verbose=1, save_best_only=True, mode='min')]\n",
    "\n",
    "history2=model2.fit(X_resampled,y_resampled,batch_size=32,epochs=6,validation_split=0.1, callbacks=checkpoint)"
   ]
  },
  {
   "cell_type": "code",
   "execution_count": null,
   "metadata": {},
   "outputs": [],
   "source": []
  }
 ],
 "metadata": {
  "kernelspec": {
   "display_name": "Python 3",
   "language": "python",
   "name": "python3"
  },
  "language_info": {
   "codemirror_mode": {
    "name": "ipython",
    "version": 3
   },
   "file_extension": ".py",
   "mimetype": "text/x-python",
   "name": "python",
   "nbconvert_exporter": "python",
   "pygments_lexer": "ipython3",
   "version": "3.7.1"
  }
 },
 "nbformat": 4,
 "nbformat_minor": 2
}
