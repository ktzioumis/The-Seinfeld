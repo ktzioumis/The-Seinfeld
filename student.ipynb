{
 "cells": [
  {
   "cell_type": "markdown",
   "metadata": {},
   "source": [
    "## Final Project Submission\n",
    "\n",
    "Please fill out:\n",
    "* Student name: \n",
    "* Student pace: self paced / part time / full time\n",
    "* Scheduled project review date/time: \n",
    "* Instructor name: \n",
    "* Blog post URL:\n"
   ]
  },
  {
   "cell_type": "markdown",
   "metadata": {},
   "source": [
    "# Seinfeld!\n",
    "Arguably the greatest sitcom ever made and certainly my most favourite show ever.\n",
    "\n",
    "[From Wikipedia](https://en.wikipedia.org/wiki/Seinfeld):\n",
    "> Seinfeld is an American live-action sitcom created by Larry David and Jerry Seinfeld for NBC. Set predominantly in an apartment building in Manhattan's Upper West Side in New York City, the show features a handful of Jerry Seinfeld's (as a fictionalized version of himself) friends and acquaintances, including best friend George Costanza (Jason Alexander), friend and former girlfriend Elaine Benes (Julia Louis-Dreyfus), and neighbor across the hall Cosmo Kramer (Michael Richards). \n",
    "\n",
    "This quick description just scratches the surface of what Seinfeld was and still is; an iconic creation that is frequently ranked by publications such as 'Rolling Stone' and 'Entertainment Weekly' as one of the best comnedies ever made and voted by the 'Writers Guild of America' the No. 2 Best Written TV Series of All Time. Seinfeld has become a cultural touchstone and deeply embedded piece of the cultural zeitgeist spawning words like 'close-talker', catch-phrases like \"It's gold, Jerry. Gold!\", the truly unique \"Elaine Dance\" and even a new holiday \"Festivus\"! Seinfeld had an immeasurable impact on the pop-culture landscape but in this notebook, I plan to use Exploratory Data Analysis and Deep Learning on the complete scripts from the show's entire run  and do just a little bit of measuring."
   ]
  },
  {
   "cell_type": "markdown",
   "metadata": {},
   "source": [
    "The dataset can be found on kaggle [here](https://www.kaggle.com/thec03u5/seinfeld-chronicles) and consists of 2 tables:\n",
    "- episode_info.csv\n",
    "- scripts.csv\n",
    "\n",
    "<b>episode_info</b> consists of meta-data for each episode, including the episode name and number original air-date\n",
    "\n",
    "<b>scripts</b> consists of the dialogue spoken by each character and the character that spoke it.\n",
    "\n",
    "Let's begin by loading the episode_info and scripts tables into a pandas DataFrame and learning a little more about the show!"
   ]
  },
  {
   "cell_type": "code",
   "execution_count": 200,
   "metadata": {},
   "outputs": [
    {
     "data": {
      "text/html": [
       "<div>\n",
       "<style scoped>\n",
       "    .dataframe tbody tr th:only-of-type {\n",
       "        vertical-align: middle;\n",
       "    }\n",
       "\n",
       "    .dataframe tbody tr th {\n",
       "        vertical-align: top;\n",
       "    }\n",
       "\n",
       "    .dataframe thead th {\n",
       "        text-align: right;\n",
       "    }\n",
       "</style>\n",
       "<table border=\"1\" class=\"dataframe\">\n",
       "  <thead>\n",
       "    <tr style=\"text-align: right;\">\n",
       "      <th></th>\n",
       "      <th>Season</th>\n",
       "      <th>EpisodeNo</th>\n",
       "      <th>Title</th>\n",
       "      <th>AirDate</th>\n",
       "      <th>Writers</th>\n",
       "      <th>Director</th>\n",
       "      <th>SEID</th>\n",
       "    </tr>\n",
       "  </thead>\n",
       "  <tbody>\n",
       "    <tr>\n",
       "      <th>0</th>\n",
       "      <td>1.0</td>\n",
       "      <td>1.0</td>\n",
       "      <td>Good News, Bad News</td>\n",
       "      <td>July 5, 1989</td>\n",
       "      <td>Larry David, Jerry Seinfeld</td>\n",
       "      <td>Art Wolff</td>\n",
       "      <td>S01E01</td>\n",
       "    </tr>\n",
       "    <tr>\n",
       "      <th>1</th>\n",
       "      <td>1.0</td>\n",
       "      <td>1.0</td>\n",
       "      <td>The Stakeout</td>\n",
       "      <td>May 31, 1990</td>\n",
       "      <td>Larry David, Jerry Seinfeld</td>\n",
       "      <td>Tom Cherones</td>\n",
       "      <td>S01E01</td>\n",
       "    </tr>\n",
       "    <tr>\n",
       "      <th>2</th>\n",
       "      <td>1.0</td>\n",
       "      <td>2.0</td>\n",
       "      <td>The Robbery</td>\n",
       "      <td>June 7, 1990</td>\n",
       "      <td>Matt Goldman</td>\n",
       "      <td>Tom Cherones</td>\n",
       "      <td>S01E02</td>\n",
       "    </tr>\n",
       "    <tr>\n",
       "      <th>3</th>\n",
       "      <td>1.0</td>\n",
       "      <td>3.0</td>\n",
       "      <td>Male Unbonding</td>\n",
       "      <td>June 14, 1990</td>\n",
       "      <td>Larry David, Jerry Seinfeld</td>\n",
       "      <td>Tom Cherones</td>\n",
       "      <td>S01E03</td>\n",
       "    </tr>\n",
       "    <tr>\n",
       "      <th>4</th>\n",
       "      <td>1.0</td>\n",
       "      <td>4.0</td>\n",
       "      <td>The Stock Tip</td>\n",
       "      <td>June 21, 1990</td>\n",
       "      <td>Larry David, Jerry Seinfeld</td>\n",
       "      <td>Tom Cherones</td>\n",
       "      <td>S01E04</td>\n",
       "    </tr>\n",
       "  </tbody>\n",
       "</table>\n",
       "</div>"
      ],
      "text/plain": [
       "   Season  EpisodeNo                Title        AirDate  \\\n",
       "0     1.0        1.0  Good News, Bad News   July 5, 1989   \n",
       "1     1.0        1.0         The Stakeout   May 31, 1990   \n",
       "2     1.0        2.0          The Robbery   June 7, 1990   \n",
       "3     1.0        3.0       Male Unbonding  June 14, 1990   \n",
       "4     1.0        4.0        The Stock Tip  June 21, 1990   \n",
       "\n",
       "                       Writers      Director    SEID  \n",
       "0  Larry David, Jerry Seinfeld     Art Wolff  S01E01  \n",
       "1  Larry David, Jerry Seinfeld  Tom Cherones  S01E01  \n",
       "2                 Matt Goldman  Tom Cherones  S01E02  \n",
       "3  Larry David, Jerry Seinfeld  Tom Cherones  S01E03  \n",
       "4  Larry David, Jerry Seinfeld  Tom Cherones  S01E04  "
      ]
     },
     "execution_count": 200,
     "metadata": {},
     "output_type": "execute_result"
    }
   ],
   "source": [
    "import pandas as pd\n",
    "import matplotlib.pyplot as plt\n",
    "import numpy as np\n",
    "episodes=pd.read_csv('episode_info.csv',index_col='Unnamed: 0')\n",
    "episodes.head()"
   ]
  },
  {
   "cell_type": "code",
   "execution_count": 201,
   "metadata": {},
   "outputs": [
    {
     "data": {
      "text/html": [
       "<div>\n",
       "<style scoped>\n",
       "    .dataframe tbody tr th:only-of-type {\n",
       "        vertical-align: middle;\n",
       "    }\n",
       "\n",
       "    .dataframe tbody tr th {\n",
       "        vertical-align: top;\n",
       "    }\n",
       "\n",
       "    .dataframe thead th {\n",
       "        text-align: right;\n",
       "    }\n",
       "</style>\n",
       "<table border=\"1\" class=\"dataframe\">\n",
       "  <thead>\n",
       "    <tr style=\"text-align: right;\">\n",
       "      <th></th>\n",
       "      <th>Character</th>\n",
       "      <th>Dialogue</th>\n",
       "      <th>EpisodeNo</th>\n",
       "      <th>SEID</th>\n",
       "      <th>Season</th>\n",
       "    </tr>\n",
       "  </thead>\n",
       "  <tbody>\n",
       "    <tr>\n",
       "      <th>0</th>\n",
       "      <td>JERRY</td>\n",
       "      <td>Do you know what this is all about? Do you kno...</td>\n",
       "      <td>1.0</td>\n",
       "      <td>S01E01</td>\n",
       "      <td>1.0</td>\n",
       "    </tr>\n",
       "    <tr>\n",
       "      <th>1</th>\n",
       "      <td>JERRY</td>\n",
       "      <td>(pointing at Georges shirt) See, to me, that b...</td>\n",
       "      <td>1.0</td>\n",
       "      <td>S01E01</td>\n",
       "      <td>1.0</td>\n",
       "    </tr>\n",
       "    <tr>\n",
       "      <th>2</th>\n",
       "      <td>GEORGE</td>\n",
       "      <td>Are you through?</td>\n",
       "      <td>1.0</td>\n",
       "      <td>S01E01</td>\n",
       "      <td>1.0</td>\n",
       "    </tr>\n",
       "    <tr>\n",
       "      <th>3</th>\n",
       "      <td>JERRY</td>\n",
       "      <td>You do of course try on, when you buy?</td>\n",
       "      <td>1.0</td>\n",
       "      <td>S01E01</td>\n",
       "      <td>1.0</td>\n",
       "    </tr>\n",
       "    <tr>\n",
       "      <th>4</th>\n",
       "      <td>GEORGE</td>\n",
       "      <td>Yes, it was purple, I liked it, I dont actuall...</td>\n",
       "      <td>1.0</td>\n",
       "      <td>S01E01</td>\n",
       "      <td>1.0</td>\n",
       "    </tr>\n",
       "  </tbody>\n",
       "</table>\n",
       "</div>"
      ],
      "text/plain": [
       "  Character                                           Dialogue  EpisodeNo  \\\n",
       "0     JERRY  Do you know what this is all about? Do you kno...        1.0   \n",
       "1     JERRY  (pointing at Georges shirt) See, to me, that b...        1.0   \n",
       "2    GEORGE                                   Are you through?        1.0   \n",
       "3     JERRY             You do of course try on, when you buy?        1.0   \n",
       "4    GEORGE  Yes, it was purple, I liked it, I dont actuall...        1.0   \n",
       "\n",
       "     SEID  Season  \n",
       "0  S01E01     1.0  \n",
       "1  S01E01     1.0  \n",
       "2  S01E01     1.0  \n",
       "3  S01E01     1.0  \n",
       "4  S01E01     1.0  "
      ]
     },
     "execution_count": 201,
     "metadata": {},
     "output_type": "execute_result"
    }
   ],
   "source": [
    "scripts=pd.read_csv('scripts.csv',index_col='Unnamed: 0')\n",
    "scripts.head()"
   ]
  },
  {
   "cell_type": "markdown",
   "metadata": {},
   "source": [
    "<b>Seinfeld Trivia!</b>\n",
    "The original pilot of Seinfeld (originally entitled 'The Seinfeld Chronicles') 'Good News, Bad News' was not picked up! NBC did eventually order 4 additional episodes that make up the first season, a record for smallest episode order in US TV history!\n",
    "    \n",
    "We can see this reflected in the data head dispalyed above. There are 2 entries both labelled Season 1, Episode 1 i.e S01E01\n",
    "To prevent any confusion later on, the pilot episode 'Good News, Bad News' will be re-numbered Season 1, Epsidoe 0 - S01E00"
   ]
  },
  {
   "cell_type": "code",
   "execution_count": 202,
   "metadata": {},
   "outputs": [
    {
     "name": "stderr",
     "output_type": "stream",
     "text": [
      "C:\\kosta\\Anaconda3\\lib\\site-packages\\ipykernel_launcher.py:1: SettingWithCopyWarning: \n",
      "A value is trying to be set on a copy of a slice from a DataFrame\n",
      "\n",
      "See the caveats in the documentation: http://pandas.pydata.org/pandas-docs/stable/indexing.html#indexing-view-versus-copy\n",
      "  \"\"\"Entry point for launching an IPython kernel.\n",
      "C:\\kosta\\Anaconda3\\lib\\site-packages\\ipykernel_launcher.py:2: SettingWithCopyWarning: \n",
      "A value is trying to be set on a copy of a slice from a DataFrame\n",
      "\n",
      "See the caveats in the documentation: http://pandas.pydata.org/pandas-docs/stable/indexing.html#indexing-view-versus-copy\n",
      "  \n"
     ]
    },
    {
     "data": {
      "text/html": [
       "<div>\n",
       "<style scoped>\n",
       "    .dataframe tbody tr th:only-of-type {\n",
       "        vertical-align: middle;\n",
       "    }\n",
       "\n",
       "    .dataframe tbody tr th {\n",
       "        vertical-align: top;\n",
       "    }\n",
       "\n",
       "    .dataframe thead th {\n",
       "        text-align: right;\n",
       "    }\n",
       "</style>\n",
       "<table border=\"1\" class=\"dataframe\">\n",
       "  <thead>\n",
       "    <tr style=\"text-align: right;\">\n",
       "      <th></th>\n",
       "      <th>Season</th>\n",
       "      <th>EpisodeNo</th>\n",
       "      <th>Title</th>\n",
       "      <th>AirDate</th>\n",
       "      <th>Writers</th>\n",
       "      <th>Director</th>\n",
       "      <th>SEID</th>\n",
       "    </tr>\n",
       "  </thead>\n",
       "  <tbody>\n",
       "    <tr>\n",
       "      <th>0</th>\n",
       "      <td>1.0</td>\n",
       "      <td>0.0</td>\n",
       "      <td>Good News, Bad News</td>\n",
       "      <td>July 5, 1989</td>\n",
       "      <td>Larry David, Jerry Seinfeld</td>\n",
       "      <td>Art Wolff</td>\n",
       "      <td>S01E00</td>\n",
       "    </tr>\n",
       "    <tr>\n",
       "      <th>1</th>\n",
       "      <td>1.0</td>\n",
       "      <td>1.0</td>\n",
       "      <td>The Stakeout</td>\n",
       "      <td>May 31, 1990</td>\n",
       "      <td>Larry David, Jerry Seinfeld</td>\n",
       "      <td>Tom Cherones</td>\n",
       "      <td>S01E01</td>\n",
       "    </tr>\n",
       "    <tr>\n",
       "      <th>2</th>\n",
       "      <td>1.0</td>\n",
       "      <td>2.0</td>\n",
       "      <td>The Robbery</td>\n",
       "      <td>June 7, 1990</td>\n",
       "      <td>Matt Goldman</td>\n",
       "      <td>Tom Cherones</td>\n",
       "      <td>S01E02</td>\n",
       "    </tr>\n",
       "    <tr>\n",
       "      <th>3</th>\n",
       "      <td>1.0</td>\n",
       "      <td>3.0</td>\n",
       "      <td>Male Unbonding</td>\n",
       "      <td>June 14, 1990</td>\n",
       "      <td>Larry David, Jerry Seinfeld</td>\n",
       "      <td>Tom Cherones</td>\n",
       "      <td>S01E03</td>\n",
       "    </tr>\n",
       "    <tr>\n",
       "      <th>4</th>\n",
       "      <td>1.0</td>\n",
       "      <td>4.0</td>\n",
       "      <td>The Stock Tip</td>\n",
       "      <td>June 21, 1990</td>\n",
       "      <td>Larry David, Jerry Seinfeld</td>\n",
       "      <td>Tom Cherones</td>\n",
       "      <td>S01E04</td>\n",
       "    </tr>\n",
       "  </tbody>\n",
       "</table>\n",
       "</div>"
      ],
      "text/plain": [
       "   Season  EpisodeNo                Title        AirDate  \\\n",
       "0     1.0        0.0  Good News, Bad News   July 5, 1989   \n",
       "1     1.0        1.0         The Stakeout   May 31, 1990   \n",
       "2     1.0        2.0          The Robbery   June 7, 1990   \n",
       "3     1.0        3.0       Male Unbonding  June 14, 1990   \n",
       "4     1.0        4.0        The Stock Tip  June 21, 1990   \n",
       "\n",
       "                       Writers      Director    SEID  \n",
       "0  Larry David, Jerry Seinfeld     Art Wolff  S01E00  \n",
       "1  Larry David, Jerry Seinfeld  Tom Cherones  S01E01  \n",
       "2                 Matt Goldman  Tom Cherones  S01E02  \n",
       "3  Larry David, Jerry Seinfeld  Tom Cherones  S01E03  \n",
       "4  Larry David, Jerry Seinfeld  Tom Cherones  S01E04  "
      ]
     },
     "execution_count": 202,
     "metadata": {},
     "output_type": "execute_result"
    }
   ],
   "source": [
    "episodes['EpisodeNo'][0]=0\n",
    "episodes['SEID'][0]='S01E00'\n",
    "episodes.head()"
   ]
  },
  {
   "cell_type": "code",
   "execution_count": 203,
   "metadata": {},
   "outputs": [
    {
     "name": "stderr",
     "output_type": "stream",
     "text": [
      "C:\\kosta\\Anaconda3\\lib\\site-packages\\ipykernel_launcher.py:1: SettingWithCopyWarning: \n",
      "A value is trying to be set on a copy of a slice from a DataFrame\n",
      "\n",
      "See the caveats in the documentation: http://pandas.pydata.org/pandas-docs/stable/indexing.html#indexing-view-versus-copy\n",
      "  \"\"\"Entry point for launching an IPython kernel.\n"
     ]
    },
    {
     "data": {
      "text/html": [
       "<div>\n",
       "<style scoped>\n",
       "    .dataframe tbody tr th:only-of-type {\n",
       "        vertical-align: middle;\n",
       "    }\n",
       "\n",
       "    .dataframe tbody tr th {\n",
       "        vertical-align: top;\n",
       "    }\n",
       "\n",
       "    .dataframe thead th {\n",
       "        text-align: right;\n",
       "    }\n",
       "</style>\n",
       "<table border=\"1\" class=\"dataframe\">\n",
       "  <thead>\n",
       "    <tr style=\"text-align: right;\">\n",
       "      <th></th>\n",
       "      <th>Character</th>\n",
       "      <th>Dialogue</th>\n",
       "      <th>EpisodeNo</th>\n",
       "      <th>SEID</th>\n",
       "      <th>Season</th>\n",
       "    </tr>\n",
       "  </thead>\n",
       "  <tbody>\n",
       "    <tr>\n",
       "      <th>210</th>\n",
       "      <td>JERRY</td>\n",
       "      <td>I swear, I have absolutely no idea what women ...</td>\n",
       "      <td>1.0</td>\n",
       "      <td>S01E00</td>\n",
       "      <td>1.0</td>\n",
       "    </tr>\n",
       "    <tr>\n",
       "      <th>211</th>\n",
       "      <td>JERRY</td>\n",
       "      <td>So, Im on line at the supermarket. Two women i...</td>\n",
       "      <td>1.0</td>\n",
       "      <td>S01E01</td>\n",
       "      <td>1.0</td>\n",
       "    </tr>\n",
       "  </tbody>\n",
       "</table>\n",
       "</div>"
      ],
      "text/plain": [
       "    Character                                           Dialogue  EpisodeNo  \\\n",
       "210     JERRY  I swear, I have absolutely no idea what women ...        1.0   \n",
       "211     JERRY  So, Im on line at the supermarket. Two women i...        1.0   \n",
       "\n",
       "       SEID  Season  \n",
       "210  S01E00     1.0  \n",
       "211  S01E01     1.0  "
      ]
     },
     "execution_count": 203,
     "metadata": {},
     "output_type": "execute_result"
    }
   ],
   "source": [
    "scripts['SEID'][:211]='S01E00'\n",
    "scripts[210:212]"
   ]
  },
  {
   "cell_type": "markdown",
   "metadata": {},
   "source": [
    "So lets confirm some basic info about the show for anyone who doesn't know"
   ]
  },
  {
   "cell_type": "code",
   "execution_count": 204,
   "metadata": {},
   "outputs": [
    {
     "name": "stdout",
     "output_type": "stream",
     "text": [
      "Seinfeld ran for 9 seasons consisting of 174 episodes\n",
      "The pilot episode aired on July 5, 1989 but the first full season began on May 31, 1990\n",
      "The final episode aired on May 14, 1998\n"
     ]
    }
   ],
   "source": [
    "print('Seinfeld ran for',len(episodes.Season.unique()),'seasons consisting of',len(episodes.index), 'episodes')\n",
    "print('The pilot episode aired on',episodes['AirDate'][0], 'but the first full season began on',episodes['AirDate'][1])\n",
    "print('The final episode aired on',episodes['AirDate'][173])"
   ]
  },
  {
   "cell_type": "markdown",
   "metadata": {},
   "source": [
    "With 174 episodes and 9 seasons, on average each season we would expect to consist of 174/9=19.33 episodes, is this the case?"
   ]
  },
  {
   "cell_type": "code",
   "execution_count": 205,
   "metadata": {},
   "outputs": [
    {
     "data": {
      "text/plain": [
       "Season\n",
       "1.0     5\n",
       "2.0    12\n",
       "3.0    23\n",
       "4.0    24\n",
       "5.0    21\n",
       "6.0    22\n",
       "7.0    24\n",
       "8.0    22\n",
       "9.0    21\n",
       "dtype: int64"
      ]
     },
     "execution_count": 205,
     "metadata": {},
     "output_type": "execute_result"
    }
   ],
   "source": [
    "season_size=episodes.groupby('Season').size()\n",
    "season_size"
   ]
  },
  {
   "cell_type": "markdown",
   "metadata": {},
   "source": [
    "Nope. As I stated before the first season consists of the pilot plus 4 episodes but the second season is also shorter at just 12 episodes. But is this exactly true?"
   ]
  },
  {
   "cell_type": "code",
   "execution_count": 206,
   "metadata": {},
   "outputs": [
    {
     "data": {
      "text/plain": [
       "Season\n",
       "1.0     4.0\n",
       "2.0    12.0\n",
       "3.0    23.0\n",
       "4.0    24.0\n",
       "5.0    22.0\n",
       "6.0    24.0\n",
       "7.0    24.0\n",
       "8.0    22.0\n",
       "9.0    23.0\n",
       "Name: EpisodeNo, dtype: float64"
      ]
     },
     "execution_count": 206,
     "metadata": {},
     "output_type": "execute_result"
    }
   ],
   "source": [
    "season_lastep= episodes.groupby('Season').max()['EpisodeNo']\n",
    "season_lastep"
   ]
  },
  {
   "cell_type": "markdown",
   "metadata": {},
   "source": [
    "These episode numbers are different! The final episode in each season does not match up with the length of each season.\n"
   ]
  },
  {
   "cell_type": "code",
   "execution_count": null,
   "metadata": {},
   "outputs": [],
   "source": []
  },
  {
   "cell_type": "code",
   "execution_count": 207,
   "metadata": {},
   "outputs": [
    {
     "name": "stdout",
     "output_type": "stream",
     "text": [
      "Season 1 has inconsistent season length and last episode number; inconsistency = -1.0\n",
      "Season 5 has inconsistent season length and last episode number; inconsistency = 1.0\n",
      "Season 6 has inconsistent season length and last episode number; inconsistency = 2.0\n",
      "Season 9 has inconsistent season length and last episode number; inconsistency = 2.0\n"
     ]
    }
   ],
   "source": [
    "for i in range(1,10):\n",
    "    if season_size[i]!=season_lastep[i]:\n",
    "        print('Season {} has inconsistent season length and last episode number; inconsistency = {}'.format(i,season_lastep[i]-season_size[i]))\n"
   ]
  },
  {
   "cell_type": "markdown",
   "metadata": {},
   "source": [
    "Season 1, as we know, has been given an episode 0 so this accounts for the difference but what about the other three seasons?"
   ]
  },
  {
   "cell_type": "code",
   "execution_count": 208,
   "metadata": {},
   "outputs": [
    {
     "data": {
      "text/html": [
       "<div>\n",
       "<style scoped>\n",
       "    .dataframe tbody tr th:only-of-type {\n",
       "        vertical-align: middle;\n",
       "    }\n",
       "\n",
       "    .dataframe tbody tr th {\n",
       "        vertical-align: top;\n",
       "    }\n",
       "\n",
       "    .dataframe thead th {\n",
       "        text-align: right;\n",
       "    }\n",
       "</style>\n",
       "<table border=\"1\" class=\"dataframe\">\n",
       "  <thead>\n",
       "    <tr style=\"text-align: right;\">\n",
       "      <th></th>\n",
       "      <th>Season</th>\n",
       "      <th>EpisodeNo</th>\n",
       "      <th>Title</th>\n",
       "    </tr>\n",
       "  </thead>\n",
       "  <tbody>\n",
       "    <tr>\n",
       "      <th>81</th>\n",
       "      <td>5.0</td>\n",
       "      <td>18.0</td>\n",
       "      <td>The Raincoats</td>\n",
       "    </tr>\n",
       "    <tr>\n",
       "      <th>82</th>\n",
       "      <td>5.0</td>\n",
       "      <td>20.0</td>\n",
       "      <td>The Fire</td>\n",
       "    </tr>\n",
       "  </tbody>\n",
       "</table>\n",
       "</div>"
      ],
      "text/plain": [
       "    Season  EpisodeNo          Title\n",
       "81     5.0       18.0  The Raincoats\n",
       "82     5.0       20.0       The Fire"
      ]
     },
     "execution_count": 208,
     "metadata": {},
     "output_type": "execute_result"
    }
   ],
   "source": [
    "episodes.iloc[81:83][['Season','EpisodeNo','Title']]"
   ]
  },
  {
   "cell_type": "markdown",
   "metadata": {},
   "source": [
    "There's no episdoe 19!\n",
    "Its ok though, season 2 episode 18 'The Raincoats' is actually a 2 part episode:<br>\n",
    "https://en.wikipedia.org/wiki/The_Raincoats_(Seinfeld)\n"
   ]
  },
  {
   "cell_type": "code",
   "execution_count": 209,
   "metadata": {},
   "outputs": [
    {
     "data": {
      "text/html": [
       "<div>\n",
       "<style scoped>\n",
       "    .dataframe tbody tr th:only-of-type {\n",
       "        vertical-align: middle;\n",
       "    }\n",
       "\n",
       "    .dataframe tbody tr th {\n",
       "        vertical-align: top;\n",
       "    }\n",
       "\n",
       "    .dataframe thead th {\n",
       "        text-align: right;\n",
       "    }\n",
       "</style>\n",
       "<table border=\"1\" class=\"dataframe\">\n",
       "  <thead>\n",
       "    <tr style=\"text-align: right;\">\n",
       "      <th></th>\n",
       "      <th>Season</th>\n",
       "      <th>EpisodeNo</th>\n",
       "      <th>Title</th>\n",
       "    </tr>\n",
       "  </thead>\n",
       "  <tbody>\n",
       "    <tr>\n",
       "      <th>97</th>\n",
       "      <td>6.0</td>\n",
       "      <td>13.0</td>\n",
       "      <td>The Scofflaw</td>\n",
       "    </tr>\n",
       "    <tr>\n",
       "      <th>98</th>\n",
       "      <td>6.0</td>\n",
       "      <td>16.0</td>\n",
       "      <td>The Beard</td>\n",
       "    </tr>\n",
       "  </tbody>\n",
       "</table>\n",
       "</div>"
      ],
      "text/plain": [
       "    Season  EpisodeNo         Title\n",
       "97     6.0       13.0  The Scofflaw\n",
       "98     6.0       16.0     The Beard"
      ]
     },
     "execution_count": 209,
     "metadata": {},
     "output_type": "execute_result"
    }
   ],
   "source": [
    "episodes.iloc[97:99][['Season','EpisodeNo','Title']]"
   ]
  },
  {
   "cell_type": "markdown",
   "metadata": {},
   "source": [
    "In season 6 there are 2 numbers missing, episodes 14 and 15.\n",
    "Again this is a 2 part episode but in this case the episode has been completely cut from the dataset as it is a clip episode and contains little or no new data. <br>\n",
    "https://en.wikipedia.org/wiki/The_Highlights_of_100"
   ]
  },
  {
   "cell_type": "code",
   "execution_count": 210,
   "metadata": {},
   "outputs": [
    {
     "data": {
      "text/html": [
       "<div>\n",
       "<style scoped>\n",
       "    .dataframe tbody tr th:only-of-type {\n",
       "        vertical-align: middle;\n",
       "    }\n",
       "\n",
       "    .dataframe tbody tr th {\n",
       "        vertical-align: top;\n",
       "    }\n",
       "\n",
       "    .dataframe thead th {\n",
       "        text-align: right;\n",
       "    }\n",
       "</style>\n",
       "<table border=\"1\" class=\"dataframe\">\n",
       "  <thead>\n",
       "    <tr style=\"text-align: right;\">\n",
       "      <th></th>\n",
       "      <th>Season</th>\n",
       "      <th>EpisodeNo</th>\n",
       "      <th>Title</th>\n",
       "    </tr>\n",
       "  </thead>\n",
       "  <tbody>\n",
       "    <tr>\n",
       "      <th>172</th>\n",
       "      <td>9.0</td>\n",
       "      <td>20.0</td>\n",
       "      <td>The Puerto Rican Day</td>\n",
       "    </tr>\n",
       "    <tr>\n",
       "      <th>173</th>\n",
       "      <td>9.0</td>\n",
       "      <td>23.0</td>\n",
       "      <td>The Finale</td>\n",
       "    </tr>\n",
       "  </tbody>\n",
       "</table>\n",
       "</div>"
      ],
      "text/plain": [
       "     Season  EpisodeNo                 Title\n",
       "172     9.0       20.0  The Puerto Rican Day\n",
       "173     9.0       23.0            The Finale"
      ]
     },
     "execution_count": 210,
     "metadata": {},
     "output_type": "execute_result"
    }
   ],
   "source": [
    "episodes.iloc[172:][['Season','EpisodeNo','Title']]"
   ]
  },
  {
   "cell_type": "markdown",
   "metadata": {},
   "source": [
    "Episodes 21 and 22 are missing. Again this is a clip episode that has been cut from the dataset already<br>\n",
    "https://en.wikipedia.org/wiki/The_Chronicle_(Seinfeld)<br>\n",
    "Episode 23 'The Finale' is also a double episode."
   ]
  },
  {
   "cell_type": "markdown",
   "metadata": {},
   "source": [
    "I *know* there are other 2 part episodes, but these appear to have been treated differently to 'The Raincoats' in season 5"
   ]
  },
  {
   "cell_type": "code",
   "execution_count": 211,
   "metadata": {
    "scrolled": true
   },
   "outputs": [
    {
     "data": {
      "text/html": [
       "<div>\n",
       "<style scoped>\n",
       "    .dataframe tbody tr th:only-of-type {\n",
       "        vertical-align: middle;\n",
       "    }\n",
       "\n",
       "    .dataframe tbody tr th {\n",
       "        vertical-align: top;\n",
       "    }\n",
       "\n",
       "    .dataframe thead th {\n",
       "        text-align: right;\n",
       "    }\n",
       "</style>\n",
       "<table border=\"1\" class=\"dataframe\">\n",
       "  <thead>\n",
       "    <tr style=\"text-align: right;\">\n",
       "      <th></th>\n",
       "      <th>Season</th>\n",
       "      <th>EpisodeNo</th>\n",
       "      <th>Title</th>\n",
       "    </tr>\n",
       "  </thead>\n",
       "  <tbody>\n",
       "    <tr>\n",
       "      <th>119</th>\n",
       "      <td>7.0</td>\n",
       "      <td>13.0</td>\n",
       "      <td>The Seven</td>\n",
       "    </tr>\n",
       "    <tr>\n",
       "      <th>120</th>\n",
       "      <td>7.0</td>\n",
       "      <td>14.0</td>\n",
       "      <td>The Cadillac (1)</td>\n",
       "    </tr>\n",
       "    <tr>\n",
       "      <th>121</th>\n",
       "      <td>7.0</td>\n",
       "      <td>15.0</td>\n",
       "      <td>The Cadillac (2)</td>\n",
       "    </tr>\n",
       "    <tr>\n",
       "      <th>122</th>\n",
       "      <td>7.0</td>\n",
       "      <td>16.0</td>\n",
       "      <td>The Shower Head</td>\n",
       "    </tr>\n",
       "    <tr>\n",
       "      <th>123</th>\n",
       "      <td>7.0</td>\n",
       "      <td>17.0</td>\n",
       "      <td>The Doll</td>\n",
       "    </tr>\n",
       "    <tr>\n",
       "      <th>124</th>\n",
       "      <td>7.0</td>\n",
       "      <td>18.0</td>\n",
       "      <td>The Friars Club (a.k.a. The Gypsies)</td>\n",
       "    </tr>\n",
       "    <tr>\n",
       "      <th>125</th>\n",
       "      <td>7.0</td>\n",
       "      <td>19.0</td>\n",
       "      <td>The Wig Master</td>\n",
       "    </tr>\n",
       "    <tr>\n",
       "      <th>126</th>\n",
       "      <td>7.0</td>\n",
       "      <td>20.0</td>\n",
       "      <td>The Calzone</td>\n",
       "    </tr>\n",
       "    <tr>\n",
       "      <th>127</th>\n",
       "      <td>7.0</td>\n",
       "      <td>21.0</td>\n",
       "      <td>The Bottle Deposit (1)</td>\n",
       "    </tr>\n",
       "    <tr>\n",
       "      <th>128</th>\n",
       "      <td>7.0</td>\n",
       "      <td>22.0</td>\n",
       "      <td>The Bottle Deposit (2)</td>\n",
       "    </tr>\n",
       "    <tr>\n",
       "      <th>129</th>\n",
       "      <td>7.0</td>\n",
       "      <td>23.0</td>\n",
       "      <td>The Wait Out</td>\n",
       "    </tr>\n",
       "  </tbody>\n",
       "</table>\n",
       "</div>"
      ],
      "text/plain": [
       "     Season  EpisodeNo                                 Title\n",
       "119     7.0       13.0                             The Seven\n",
       "120     7.0       14.0                      The Cadillac (1)\n",
       "121     7.0       15.0                      The Cadillac (2)\n",
       "122     7.0       16.0                       The Shower Head\n",
       "123     7.0       17.0                              The Doll\n",
       "124     7.0       18.0  The Friars Club (a.k.a. The Gypsies)\n",
       "125     7.0       19.0                        The Wig Master\n",
       "126     7.0       20.0                           The Calzone\n",
       "127     7.0       21.0                The Bottle Deposit (1)\n",
       "128     7.0       22.0                The Bottle Deposit (2)\n",
       "129     7.0       23.0                          The Wait Out"
      ]
     },
     "execution_count": 211,
     "metadata": {},
     "output_type": "execute_result"
    }
   ],
   "source": [
    "episodes.iloc[119:130][['Season','EpisodeNo','Title']]"
   ]
  },
  {
   "cell_type": "code",
   "execution_count": 212,
   "metadata": {},
   "outputs": [
    {
     "data": {
      "text/html": [
       "<div>\n",
       "<style scoped>\n",
       "    .dataframe tbody tr th:only-of-type {\n",
       "        vertical-align: middle;\n",
       "    }\n",
       "\n",
       "    .dataframe tbody tr th {\n",
       "        vertical-align: top;\n",
       "    }\n",
       "\n",
       "    .dataframe thead th {\n",
       "        text-align: right;\n",
       "    }\n",
       "</style>\n",
       "<table border=\"1\" class=\"dataframe\">\n",
       "  <thead>\n",
       "    <tr style=\"text-align: right;\">\n",
       "      <th></th>\n",
       "      <th>Season</th>\n",
       "      <th>EpisodeNo</th>\n",
       "      <th>Title</th>\n",
       "      <th>AirDate</th>\n",
       "      <th>Writers</th>\n",
       "      <th>Director</th>\n",
       "      <th>SEID</th>\n",
       "    </tr>\n",
       "  </thead>\n",
       "  <tbody>\n",
       "    <tr>\n",
       "      <th>33</th>\n",
       "      <td>3.0</td>\n",
       "      <td>17.0</td>\n",
       "      <td>The Boyfriend (1)</td>\n",
       "      <td>February 12, 1992</td>\n",
       "      <td>Larry David and Larry Levin</td>\n",
       "      <td>Tom Cherones</td>\n",
       "      <td>S03E17</td>\n",
       "    </tr>\n",
       "    <tr>\n",
       "      <th>40</th>\n",
       "      <td>4.0</td>\n",
       "      <td>1.0</td>\n",
       "      <td>The Trip (1)</td>\n",
       "      <td>August 12, 1992</td>\n",
       "      <td>Larry Charles</td>\n",
       "      <td>Tom Cherones</td>\n",
       "      <td>S04E01</td>\n",
       "    </tr>\n",
       "    <tr>\n",
       "      <th>44</th>\n",
       "      <td>4.0</td>\n",
       "      <td>5.0</td>\n",
       "      <td>The Wallet (1)</td>\n",
       "      <td>September 23, 1992</td>\n",
       "      <td>Larry David</td>\n",
       "      <td>Tom Cherones</td>\n",
       "      <td>S04E05</td>\n",
       "    </tr>\n",
       "    <tr>\n",
       "      <th>62</th>\n",
       "      <td>4.0</td>\n",
       "      <td>23.0</td>\n",
       "      <td>The Pilot (1)</td>\n",
       "      <td>May 20, 1993</td>\n",
       "      <td>Larry David</td>\n",
       "      <td>Tom Cherones</td>\n",
       "      <td>S04E23</td>\n",
       "    </tr>\n",
       "    <tr>\n",
       "      <th>120</th>\n",
       "      <td>7.0</td>\n",
       "      <td>14.0</td>\n",
       "      <td>The Cadillac (1)</td>\n",
       "      <td>February 8, 1996</td>\n",
       "      <td>Larry David, Jerry Seinfeld</td>\n",
       "      <td>Andy Ackerman</td>\n",
       "      <td>S07E14</td>\n",
       "    </tr>\n",
       "    <tr>\n",
       "      <th>127</th>\n",
       "      <td>7.0</td>\n",
       "      <td>21.0</td>\n",
       "      <td>The Bottle Deposit (1)</td>\n",
       "      <td>May 2, 1996</td>\n",
       "      <td>Gregg Kavet, Andy Robin</td>\n",
       "      <td>Andy Ackerman</td>\n",
       "      <td>S07E21</td>\n",
       "    </tr>\n",
       "  </tbody>\n",
       "</table>\n",
       "</div>"
      ],
      "text/plain": [
       "     Season  EpisodeNo                   Title             AirDate  \\\n",
       "33      3.0       17.0       The Boyfriend (1)   February 12, 1992   \n",
       "40      4.0        1.0            The Trip (1)     August 12, 1992   \n",
       "44      4.0        5.0          The Wallet (1)  September 23, 1992   \n",
       "62      4.0       23.0           The Pilot (1)        May 20, 1993   \n",
       "120     7.0       14.0        The Cadillac (1)    February 8, 1996   \n",
       "127     7.0       21.0  The Bottle Deposit (1)         May 2, 1996   \n",
       "\n",
       "                         Writers       Director    SEID  \n",
       "33   Larry David and Larry Levin   Tom Cherones  S03E17  \n",
       "40                 Larry Charles   Tom Cherones  S04E01  \n",
       "44                   Larry David   Tom Cherones  S04E05  \n",
       "62                   Larry David   Tom Cherones  S04E23  \n",
       "120  Larry David, Jerry Seinfeld  Andy Ackerman  S07E14  \n",
       "127      Gregg Kavet, Andy Robin  Andy Ackerman  S07E21  "
      ]
     },
     "execution_count": 212,
     "metadata": {},
     "output_type": "execute_result"
    }
   ],
   "source": [
    "episodes[episodes['Title'].str.contains(\"1\")]"
   ]
  },
  {
   "cell_type": "code",
   "execution_count": 213,
   "metadata": {},
   "outputs": [
    {
     "data": {
      "text/html": [
       "<div>\n",
       "<style scoped>\n",
       "    .dataframe tbody tr th:only-of-type {\n",
       "        vertical-align: middle;\n",
       "    }\n",
       "\n",
       "    .dataframe tbody tr th {\n",
       "        vertical-align: top;\n",
       "    }\n",
       "\n",
       "    .dataframe thead th {\n",
       "        text-align: right;\n",
       "    }\n",
       "</style>\n",
       "<table border=\"1\" class=\"dataframe\">\n",
       "  <thead>\n",
       "    <tr style=\"text-align: right;\">\n",
       "      <th></th>\n",
       "      <th>Season</th>\n",
       "      <th>EpisodeNo</th>\n",
       "      <th>Title</th>\n",
       "      <th>AirDate</th>\n",
       "      <th>Writers</th>\n",
       "      <th>Director</th>\n",
       "      <th>SEID</th>\n",
       "    </tr>\n",
       "  </thead>\n",
       "  <tbody>\n",
       "    <tr>\n",
       "      <th>34</th>\n",
       "      <td>3.0</td>\n",
       "      <td>18.0</td>\n",
       "      <td>The Boyfriend (2)</td>\n",
       "      <td>February 12, 1992</td>\n",
       "      <td>Larry David and Larry Levin</td>\n",
       "      <td>Tom Cherones</td>\n",
       "      <td>S03E18</td>\n",
       "    </tr>\n",
       "    <tr>\n",
       "      <th>41</th>\n",
       "      <td>4.0</td>\n",
       "      <td>2.0</td>\n",
       "      <td>The Trip (2)</td>\n",
       "      <td>August 19, 1992</td>\n",
       "      <td>Larry Charles</td>\n",
       "      <td>Tom Cherones</td>\n",
       "      <td>S04E02</td>\n",
       "    </tr>\n",
       "    <tr>\n",
       "      <th>45</th>\n",
       "      <td>4.0</td>\n",
       "      <td>6.0</td>\n",
       "      <td>The Watch (2)</td>\n",
       "      <td>September 30, 1992</td>\n",
       "      <td>Larry David</td>\n",
       "      <td>Tom Cherones</td>\n",
       "      <td>S04E06</td>\n",
       "    </tr>\n",
       "    <tr>\n",
       "      <th>63</th>\n",
       "      <td>4.0</td>\n",
       "      <td>24.0</td>\n",
       "      <td>The Pilot (2)</td>\n",
       "      <td>May 20, 1993</td>\n",
       "      <td>Larry David</td>\n",
       "      <td>Tom Cherones</td>\n",
       "      <td>S04E24</td>\n",
       "    </tr>\n",
       "    <tr>\n",
       "      <th>121</th>\n",
       "      <td>7.0</td>\n",
       "      <td>15.0</td>\n",
       "      <td>The Cadillac (2)</td>\n",
       "      <td>February 8, 1996</td>\n",
       "      <td>Larry David, Jerry Seinfeld</td>\n",
       "      <td>Andy Ackerman</td>\n",
       "      <td>S07E15</td>\n",
       "    </tr>\n",
       "    <tr>\n",
       "      <th>128</th>\n",
       "      <td>7.0</td>\n",
       "      <td>22.0</td>\n",
       "      <td>The Bottle Deposit (2)</td>\n",
       "      <td>May 2, 1996</td>\n",
       "      <td>Gregg Kavet, Andy Robin</td>\n",
       "      <td>Andy Ackerman</td>\n",
       "      <td>S07E22</td>\n",
       "    </tr>\n",
       "  </tbody>\n",
       "</table>\n",
       "</div>"
      ],
      "text/plain": [
       "     Season  EpisodeNo                   Title             AirDate  \\\n",
       "34      3.0       18.0       The Boyfriend (2)   February 12, 1992   \n",
       "41      4.0        2.0            The Trip (2)     August 19, 1992   \n",
       "45      4.0        6.0           The Watch (2)  September 30, 1992   \n",
       "63      4.0       24.0           The Pilot (2)        May 20, 1993   \n",
       "121     7.0       15.0        The Cadillac (2)    February 8, 1996   \n",
       "128     7.0       22.0  The Bottle Deposit (2)         May 2, 1996   \n",
       "\n",
       "                         Writers       Director    SEID  \n",
       "34   Larry David and Larry Levin   Tom Cherones  S03E18  \n",
       "41                 Larry Charles   Tom Cherones  S04E02  \n",
       "45                   Larry David   Tom Cherones  S04E06  \n",
       "63                   Larry David   Tom Cherones  S04E24  \n",
       "121  Larry David, Jerry Seinfeld  Andy Ackerman  S07E15  \n",
       "128      Gregg Kavet, Andy Robin  Andy Ackerman  S07E22  "
      ]
     },
     "execution_count": 213,
     "metadata": {},
     "output_type": "execute_result"
    }
   ],
   "source": [
    "episodes[episodes['Title'].str.contains(\"2\")]"
   ]
  },
  {
   "cell_type": "markdown",
   "metadata": {},
   "source": [
    "Most of the double episodes have been marked with a '1' and '2' but not 'The Raincoats' or 'The Finale' which are considered as though they were single episodes"
   ]
  },
  {
   "cell_type": "code",
   "execution_count": 214,
   "metadata": {},
   "outputs": [
    {
     "name": "stdout",
     "output_type": "stream",
     "text": [
      "Good News, Bad News\n",
      "Male Unbonding\n"
     ]
    }
   ],
   "source": [
    "for i in episodes['Title']:\n",
    "    if i.startswith('The')==False:\n",
    "        print(i)"
   ]
  },
  {
   "cell_type": "markdown",
   "metadata": {},
   "source": [
    "There are just 2 episodes that do not have a title starting with the word 'The' both of these are in the first season. After this it became something of convention for the writers"
   ]
  },
  {
   "cell_type": "code",
   "execution_count": 215,
   "metadata": {},
   "outputs": [
    {
     "data": {
      "text/plain": [
       "{'Alec Berg',\n",
       " 'Andy Cowan',\n",
       " 'Andy Robin',\n",
       " 'Bill Masters',\n",
       " 'Bob Shaw',\n",
       " 'Bruce Eric Kaplan',\n",
       " 'Bruce Kirschbaum',\n",
       " 'Buck Dancer (Larry David pseudonym)',\n",
       " 'Carol Leifer',\n",
       " 'Charlie Rubin',\n",
       " \"Dan O'Keefe\",\n",
       " 'Darin Henry',\n",
       " 'David Mandel',\n",
       " 'Don McEnery',\n",
       " 'Elaine Pope',\n",
       " 'Fred Stoller',\n",
       " 'Greg Daniels',\n",
       " 'Gregg Kavet',\n",
       " 'Jeff Schaffer',\n",
       " 'Jennifer Crittenden',\n",
       " 'Jerry Seinfeld',\n",
       " 'Jill Franklyn',\n",
       " 'Jon Hayman',\n",
       " 'Larry Charles',\n",
       " 'Larry Charles / Story By Marc Jaffe',\n",
       " 'Larry David',\n",
       " 'Larry Levin',\n",
       " 'Lawrence H. Levy',\n",
       " 'Marjorie Gross',\n",
       " 'Matt Goldman',\n",
       " 'Max Pross',\n",
       " 'Peter Mehlman',\n",
       " 'Ron Hague',\n",
       " 'Sam Kass',\n",
       " 'Spike Feresten',\n",
       " 'Steve Koren',\n",
       " 'Steve Lookner',\n",
       " \"Steve O'Donnell\",\n",
       " 'Steve Skrovan',\n",
       " 'Tom Gammill',\n",
       " 'Tom Leopold'}"
      ]
     },
     "execution_count": 215,
     "metadata": {},
     "output_type": "execute_result"
    }
   ],
   "source": [
    "names=[]\n",
    "for i in episodes['Writers'].unique():\n",
    "    names.append(i.replace(' and ',',').rstrip('.').split(','))\n",
    "names\n",
    "\n",
    "writers=set(([item.strip() for sublist in names for item in sublist]))\n",
    "writers"
   ]
  },
  {
   "cell_type": "code",
   "execution_count": 216,
   "metadata": {},
   "outputs": [
    {
     "data": {
      "text/plain": [
       "41"
      ]
     },
     "execution_count": 216,
     "metadata": {},
     "output_type": "execute_result"
    }
   ],
   "source": [
    "len(writers)"
   ]
  },
  {
   "cell_type": "markdown",
   "metadata": {},
   "source": [
    "39 different writers worked on the various episodes not  including Marc Jaffe who has only a story credit and Buck Dancer, which is a psuedonym for Larry David"
   ]
  },
  {
   "cell_type": "code",
   "execution_count": 228,
   "metadata": {},
   "outputs": [
    {
     "data": {
      "text/plain": [
       "{'Jerry Seinfeld': 18,\n",
       " 'Alec Berg': 14,\n",
       " 'Jon Hayman': 1,\n",
       " 'Bob Shaw': 2,\n",
       " 'Max Pross': 13,\n",
       " 'Greg Daniels': 1,\n",
       " 'Don McEnery': 1,\n",
       " 'David Mandel': 9,\n",
       " 'Carol Leifer': 6,\n",
       " 'Lawrence H. Levy': 1,\n",
       " 'Sam Kass': 1,\n",
       " 'Fred Stoller': 1,\n",
       " 'Bruce Kirschbaum': 3,\n",
       " 'Steve Koren': 5,\n",
       " 'Andy Robin': 13,\n",
       " 'Steve Skrovan': 1,\n",
       " 'Bill Masters': 3,\n",
       " 'Ron Hague': 1,\n",
       " \"Dan O'Keefe\": 5,\n",
       " 'Tom Gammill': 13,\n",
       " 'Marjorie Gross': 4,\n",
       " 'Darin Henry': 1,\n",
       " 'Jeff Schaffer': 14,\n",
       " \"Steve O'Donnell\": 2,\n",
       " 'Andy Cowan': 1,\n",
       " 'Bruce Eric Kaplan': 3,\n",
       " 'Spike Feresten': 9,\n",
       " 'Larry Levin': 2,\n",
       " 'Steve Lookner': 1,\n",
       " 'Tom Leopold': 2,\n",
       " 'Larry David': 58,\n",
       " 'Matt Goldman': 2,\n",
       " 'Jennifer Crittenden': 6,\n",
       " 'Elaine Pope': 2,\n",
       " 'Gregg Kavet': 11,\n",
       " 'Larry Charles': 19,\n",
       " 'Peter Mehlman': 19,\n",
       " 'Charlie Rubin': 1,\n",
       " 'Jill Franklyn': 1}"
      ]
     },
     "execution_count": 228,
     "metadata": {},
     "output_type": "execute_result"
    }
   ],
   "source": [
    "episodes=episodes.replace('Larry Charles / Story By Marc Jaffe','Larry Charles')\n",
    "episodes=episodes.replace('Lawrence H. Levy, Buck Dancer (Larry David pseudonym)','Lawrence H. Levy, Larry David')\n",
    "\n",
    "names=[]\n",
    "for i in episodes['Writers'].unique():\n",
    "    names.append(i.replace(' and ',',').rstrip('.').split(','))\n",
    "names\n",
    "\n",
    "writers=set(([item.strip() for sublist in names for item in sublist]))\n",
    "# writers\n",
    "\n",
    "writers_episodes=dict()\n",
    "for writer in writers:\n",
    "    writers_episodes[writer]=0\n",
    "for writer in writers:\n",
    "    for ep in episodes.Writers:\n",
    "        if writer in ep:\n",
    "            writers_episodes[writer]+=1\n",
    "            \n",
    "\n",
    "writers_episodes"
   ]
  },
  {
   "cell_type": "code",
   "execution_count": 225,
   "metadata": {},
   "outputs": [
    {
     "data": {
      "image/png": "[encoded data removed]",
      "text/plain": [
       "<Figure size 864x432 with 1 Axes>"
      ]
     },
     "metadata": {
      "needs_background": "light"
     },
     "output_type": "display_data"
    }
   ],
   "source": [
    "plt.figure(figsize=(12,6))\n",
    "plt.bar(writers_episodes.keys(),writers_episodes.values())\n",
    "plt.xlabel('Writer',size=15)\n",
    "plt.ylabel('No.Episodes written for',size=15)\n",
    "plt.title('Number of Episodes for each Writer',size=20)\n",
    "plt.xticks(rotation=90)\n",
    "plt.show()"
   ]
  },
  {
   "cell_type": "code",
   "execution_count": 226,
   "metadata": {},
   "outputs": [
    {
     "data": {
      "text/plain": [
       "Text(0.5, 1.0, 'Seinfeld Writers wordcloud')"
      ]
     },
     "execution_count": 226,
     "metadata": {},
     "output_type": "execute_result"
    },
    {
     "data": {
      "image/png": "[encoded data removed]",
      "text/plain": [
       "<Figure size 720x432 with 1 Axes>"
      ]
     },
     "metadata": {
      "needs_background": "light"
     },
     "output_type": "display_data"
    }
   ],
   "source": [
    "import wordcloud as wc\n",
    "\n",
    "wordcloud=wc.WordCloud()\n",
    "wordcloud.fit_words(writers_episodes)\n",
    "\n",
    "plt.figure(figsize=(10,6))\n",
    "plt.imshow(wordcloud)\n",
    "plt.axis('off')\n",
    "plt.title('Seinfeld Writers wordcloud',size=20)"
   ]
  },
  {
   "cell_type": "code",
   "execution_count": 254,
   "metadata": {},
   "outputs": [
    {
     "data": {
      "text/html": [
       "<div>\n",
       "<style scoped>\n",
       "    .dataframe tbody tr th:only-of-type {\n",
       "        vertical-align: middle;\n",
       "    }\n",
       "\n",
       "    .dataframe tbody tr th {\n",
       "        vertical-align: top;\n",
       "    }\n",
       "\n",
       "    .dataframe thead th {\n",
       "        text-align: right;\n",
       "    }\n",
       "</style>\n",
       "<table border=\"1\" class=\"dataframe\">\n",
       "  <thead>\n",
       "    <tr style=\"text-align: right;\">\n",
       "      <th></th>\n",
       "      <th>Writers</th>\n",
       "      <th>No_Episodes</th>\n",
       "    </tr>\n",
       "  </thead>\n",
       "  <tbody>\n",
       "    <tr>\n",
       "      <th>30</th>\n",
       "      <td>Larry David</td>\n",
       "      <td>58</td>\n",
       "    </tr>\n",
       "    <tr>\n",
       "      <th>36</th>\n",
       "      <td>Peter Mehlman</td>\n",
       "      <td>19</td>\n",
       "    </tr>\n",
       "    <tr>\n",
       "      <th>35</th>\n",
       "      <td>Larry Charles</td>\n",
       "      <td>19</td>\n",
       "    </tr>\n",
       "    <tr>\n",
       "      <th>0</th>\n",
       "      <td>Jerry Seinfeld</td>\n",
       "      <td>18</td>\n",
       "    </tr>\n",
       "    <tr>\n",
       "      <th>22</th>\n",
       "      <td>Jeff Schaffer</td>\n",
       "      <td>14</td>\n",
       "    </tr>\n",
       "    <tr>\n",
       "      <th>1</th>\n",
       "      <td>Alec Berg</td>\n",
       "      <td>14</td>\n",
       "    </tr>\n",
       "    <tr>\n",
       "      <th>14</th>\n",
       "      <td>Andy Robin</td>\n",
       "      <td>13</td>\n",
       "    </tr>\n",
       "    <tr>\n",
       "      <th>19</th>\n",
       "      <td>Tom Gammill</td>\n",
       "      <td>13</td>\n",
       "    </tr>\n",
       "    <tr>\n",
       "      <th>4</th>\n",
       "      <td>Max Pross</td>\n",
       "      <td>13</td>\n",
       "    </tr>\n",
       "    <tr>\n",
       "      <th>34</th>\n",
       "      <td>Gregg Kavet</td>\n",
       "      <td>11</td>\n",
       "    </tr>\n",
       "    <tr>\n",
       "      <th>26</th>\n",
       "      <td>Spike Feresten</td>\n",
       "      <td>9</td>\n",
       "    </tr>\n",
       "    <tr>\n",
       "      <th>7</th>\n",
       "      <td>David Mandel</td>\n",
       "      <td>9</td>\n",
       "    </tr>\n",
       "    <tr>\n",
       "      <th>32</th>\n",
       "      <td>Jennifer Crittenden</td>\n",
       "      <td>6</td>\n",
       "    </tr>\n",
       "    <tr>\n",
       "      <th>8</th>\n",
       "      <td>Carol Leifer</td>\n",
       "      <td>6</td>\n",
       "    </tr>\n",
       "    <tr>\n",
       "      <th>13</th>\n",
       "      <td>Steve Koren</td>\n",
       "      <td>5</td>\n",
       "    </tr>\n",
       "    <tr>\n",
       "      <th>18</th>\n",
       "      <td>Dan O'Keefe</td>\n",
       "      <td>5</td>\n",
       "    </tr>\n",
       "    <tr>\n",
       "      <th>20</th>\n",
       "      <td>Marjorie Gross</td>\n",
       "      <td>4</td>\n",
       "    </tr>\n",
       "    <tr>\n",
       "      <th>25</th>\n",
       "      <td>Bruce Eric Kaplan</td>\n",
       "      <td>3</td>\n",
       "    </tr>\n",
       "    <tr>\n",
       "      <th>12</th>\n",
       "      <td>Bruce Kirschbaum</td>\n",
       "      <td>3</td>\n",
       "    </tr>\n",
       "    <tr>\n",
       "      <th>16</th>\n",
       "      <td>Bill Masters</td>\n",
       "      <td>3</td>\n",
       "    </tr>\n",
       "    <tr>\n",
       "      <th>33</th>\n",
       "      <td>Elaine Pope</td>\n",
       "      <td>2</td>\n",
       "    </tr>\n",
       "    <tr>\n",
       "      <th>31</th>\n",
       "      <td>Matt Goldman</td>\n",
       "      <td>2</td>\n",
       "    </tr>\n",
       "    <tr>\n",
       "      <th>3</th>\n",
       "      <td>Bob Shaw</td>\n",
       "      <td>2</td>\n",
       "    </tr>\n",
       "    <tr>\n",
       "      <th>29</th>\n",
       "      <td>Tom Leopold</td>\n",
       "      <td>2</td>\n",
       "    </tr>\n",
       "    <tr>\n",
       "      <th>27</th>\n",
       "      <td>Larry Levin</td>\n",
       "      <td>2</td>\n",
       "    </tr>\n",
       "    <tr>\n",
       "      <th>23</th>\n",
       "      <td>Steve O'Donnell</td>\n",
       "      <td>2</td>\n",
       "    </tr>\n",
       "    <tr>\n",
       "      <th>24</th>\n",
       "      <td>Andy Cowan</td>\n",
       "      <td>1</td>\n",
       "    </tr>\n",
       "    <tr>\n",
       "      <th>9</th>\n",
       "      <td>Lawrence H. Levy</td>\n",
       "      <td>1</td>\n",
       "    </tr>\n",
       "    <tr>\n",
       "      <th>28</th>\n",
       "      <td>Steve Lookner</td>\n",
       "      <td>1</td>\n",
       "    </tr>\n",
       "    <tr>\n",
       "      <th>5</th>\n",
       "      <td>Greg Daniels</td>\n",
       "      <td>1</td>\n",
       "    </tr>\n",
       "    <tr>\n",
       "      <th>21</th>\n",
       "      <td>Darin Henry</td>\n",
       "      <td>1</td>\n",
       "    </tr>\n",
       "    <tr>\n",
       "      <th>6</th>\n",
       "      <td>Don McEnery</td>\n",
       "      <td>1</td>\n",
       "    </tr>\n",
       "    <tr>\n",
       "      <th>17</th>\n",
       "      <td>Ron Hague</td>\n",
       "      <td>1</td>\n",
       "    </tr>\n",
       "    <tr>\n",
       "      <th>15</th>\n",
       "      <td>Steve Skrovan</td>\n",
       "      <td>1</td>\n",
       "    </tr>\n",
       "    <tr>\n",
       "      <th>11</th>\n",
       "      <td>Fred Stoller</td>\n",
       "      <td>1</td>\n",
       "    </tr>\n",
       "    <tr>\n",
       "      <th>10</th>\n",
       "      <td>Sam Kass</td>\n",
       "      <td>1</td>\n",
       "    </tr>\n",
       "    <tr>\n",
       "      <th>2</th>\n",
       "      <td>Jon Hayman</td>\n",
       "      <td>1</td>\n",
       "    </tr>\n",
       "    <tr>\n",
       "      <th>37</th>\n",
       "      <td>Charlie Rubin</td>\n",
       "      <td>1</td>\n",
       "    </tr>\n",
       "    <tr>\n",
       "      <th>38</th>\n",
       "      <td>Jill Franklyn</td>\n",
       "      <td>1</td>\n",
       "    </tr>\n",
       "  </tbody>\n",
       "</table>\n",
       "</div>"
      ],
      "text/plain": [
       "                Writers No_Episodes\n",
       "30          Larry David          58\n",
       "36        Peter Mehlman          19\n",
       "35        Larry Charles          19\n",
       "0        Jerry Seinfeld          18\n",
       "22        Jeff Schaffer          14\n",
       "1             Alec Berg          14\n",
       "14           Andy Robin          13\n",
       "19          Tom Gammill          13\n",
       "4             Max Pross          13\n",
       "34          Gregg Kavet          11\n",
       "26       Spike Feresten           9\n",
       "7          David Mandel           9\n",
       "32  Jennifer Crittenden           6\n",
       "8          Carol Leifer           6\n",
       "13          Steve Koren           5\n",
       "18          Dan O'Keefe           5\n",
       "20       Marjorie Gross           4\n",
       "25    Bruce Eric Kaplan           3\n",
       "12     Bruce Kirschbaum           3\n",
       "16         Bill Masters           3\n",
       "33          Elaine Pope           2\n",
       "31         Matt Goldman           2\n",
       "3              Bob Shaw           2\n",
       "29          Tom Leopold           2\n",
       "27          Larry Levin           2\n",
       "23      Steve O'Donnell           2\n",
       "24           Andy Cowan           1\n",
       "9      Lawrence H. Levy           1\n",
       "28        Steve Lookner           1\n",
       "5          Greg Daniels           1\n",
       "21          Darin Henry           1\n",
       "6           Don McEnery           1\n",
       "17            Ron Hague           1\n",
       "15        Steve Skrovan           1\n",
       "11         Fred Stoller           1\n",
       "10             Sam Kass           1\n",
       "2            Jon Hayman           1\n",
       "37        Charlie Rubin           1\n",
       "38        Jill Franklyn           1"
      ]
     },
     "execution_count": 254,
     "metadata": {},
     "output_type": "execute_result"
    }
   ],
   "source": [
    "writers_df=pd.DataFrame([writers_episodes.keys(),writers_episodes.values()],index=['Writers','No_Episodes'])\n",
    "writers_df=writers_df.transpose()\n",
    "\n",
    "\n",
    "# writers_df.set_index('Writers',inplace=True)\n",
    "writers_df\n",
    "\n",
    "writers_df.sort_values('No_Episodes',ascending=False)"
   ]
  },
  {
   "cell_type": "code",
   "execution_count": 251,
   "metadata": {},
   "outputs": [
    {
     "ename": "ValueError",
     "evalue": "Cannot set a frame with no defined index and a value that cannot be converted to a Series",
     "output_type": "error",
     "traceback": [
      "\u001b[1;31m---------------------------------------------------------------------------\u001b[0m",
      "\u001b[1;31mTypeError\u001b[0m                                 Traceback (most recent call last)",
      "\u001b[1;32mC:\\kosta\\Anaconda3\\lib\\site-packages\\pandas\\core\\frame.py\u001b[0m in \u001b[0;36m_ensure_valid_index\u001b[1;34m(self, value)\u001b[0m\n\u001b[0;32m   3172\u001b[0m             \u001b[1;32mtry\u001b[0m\u001b[1;33m:\u001b[0m\u001b[1;33m\u001b[0m\u001b[1;33m\u001b[0m\u001b[0m\n\u001b[1;32m-> 3173\u001b[1;33m                 \u001b[0mvalue\u001b[0m \u001b[1;33m=\u001b[0m \u001b[0mSeries\u001b[0m\u001b[1;33m(\u001b[0m\u001b[0mvalue\u001b[0m\u001b[1;33m)\u001b[0m\u001b[1;33m\u001b[0m\u001b[1;33m\u001b[0m\u001b[0m\n\u001b[0m\u001b[0;32m   3174\u001b[0m             \u001b[1;32mexcept\u001b[0m\u001b[1;33m:\u001b[0m\u001b[1;33m\u001b[0m\u001b[1;33m\u001b[0m\u001b[0m\n",
      "\u001b[1;32mC:\\kosta\\Anaconda3\\lib\\site-packages\\pandas\\core\\series.py\u001b[0m in \u001b[0;36m__init__\u001b[1;34m(self, data, index, dtype, name, copy, fastpath)\u001b[0m\n\u001b[0;32m    241\u001b[0m                 raise TypeError(\"{0!r} type is unordered\"\n\u001b[1;32m--> 242\u001b[1;33m                                 \"\".format(data.__class__.__name__))\n\u001b[0m\u001b[0;32m    243\u001b[0m             \u001b[1;32melse\u001b[0m\u001b[1;33m:\u001b[0m\u001b[1;33m\u001b[0m\u001b[1;33m\u001b[0m\u001b[0m\n",
      "\u001b[1;31mTypeError\u001b[0m: 'set' type is unordered",
      "\nDuring handling of the above exception, another exception occurred:\n",
      "\u001b[1;31mValueError\u001b[0m                                Traceback (most recent call last)",
      "\u001b[1;32m<ipython-input-251-d5917e451f45>\u001b[0m in \u001b[0;36m<module>\u001b[1;34m\u001b[0m\n\u001b[0;32m      1\u001b[0m \u001b[0mwriters_df\u001b[0m\u001b[1;33m=\u001b[0m\u001b[0mpd\u001b[0m\u001b[1;33m.\u001b[0m\u001b[0mDataFrame\u001b[0m\u001b[1;33m(\u001b[0m\u001b[1;33m)\u001b[0m\u001b[1;33m\u001b[0m\u001b[1;33m\u001b[0m\u001b[0m\n\u001b[1;32m----> 2\u001b[1;33m \u001b[0mwriters_df\u001b[0m\u001b[1;33m[\u001b[0m\u001b[1;34m'Writer'\u001b[0m\u001b[1;33m]\u001b[0m\u001b[1;33m=\u001b[0m\u001b[0mwriters\u001b[0m\u001b[1;33m\u001b[0m\u001b[1;33m\u001b[0m\u001b[0m\n\u001b[0m\u001b[0;32m      3\u001b[0m \u001b[0mwriters_df\u001b[0m\u001b[1;33m\u001b[0m\u001b[1;33m\u001b[0m\u001b[0m\n",
      "\u001b[1;32mC:\\kosta\\Anaconda3\\lib\\site-packages\\pandas\\core\\frame.py\u001b[0m in \u001b[0;36m__setitem__\u001b[1;34m(self, key, value)\u001b[0m\n\u001b[0;32m   3117\u001b[0m         \u001b[1;32melse\u001b[0m\u001b[1;33m:\u001b[0m\u001b[1;33m\u001b[0m\u001b[1;33m\u001b[0m\u001b[0m\n\u001b[0;32m   3118\u001b[0m             \u001b[1;31m# set column\u001b[0m\u001b[1;33m\u001b[0m\u001b[1;33m\u001b[0m\u001b[1;33m\u001b[0m\u001b[0m\n\u001b[1;32m-> 3119\u001b[1;33m             \u001b[0mself\u001b[0m\u001b[1;33m.\u001b[0m\u001b[0m_set_item\u001b[0m\u001b[1;33m(\u001b[0m\u001b[0mkey\u001b[0m\u001b[1;33m,\u001b[0m \u001b[0mvalue\u001b[0m\u001b[1;33m)\u001b[0m\u001b[1;33m\u001b[0m\u001b[1;33m\u001b[0m\u001b[0m\n\u001b[0m\u001b[0;32m   3120\u001b[0m \u001b[1;33m\u001b[0m\u001b[0m\n\u001b[0;32m   3121\u001b[0m     \u001b[1;32mdef\u001b[0m \u001b[0m_setitem_slice\u001b[0m\u001b[1;33m(\u001b[0m\u001b[0mself\u001b[0m\u001b[1;33m,\u001b[0m \u001b[0mkey\u001b[0m\u001b[1;33m,\u001b[0m \u001b[0mvalue\u001b[0m\u001b[1;33m)\u001b[0m\u001b[1;33m:\u001b[0m\u001b[1;33m\u001b[0m\u001b[1;33m\u001b[0m\u001b[0m\n",
      "\u001b[1;32mC:\\kosta\\Anaconda3\\lib\\site-packages\\pandas\\core\\frame.py\u001b[0m in \u001b[0;36m_set_item\u001b[1;34m(self, key, value)\u001b[0m\n\u001b[0;32m   3191\u001b[0m         \"\"\"\n\u001b[0;32m   3192\u001b[0m \u001b[1;33m\u001b[0m\u001b[0m\n\u001b[1;32m-> 3193\u001b[1;33m         \u001b[0mself\u001b[0m\u001b[1;33m.\u001b[0m\u001b[0m_ensure_valid_index\u001b[0m\u001b[1;33m(\u001b[0m\u001b[0mvalue\u001b[0m\u001b[1;33m)\u001b[0m\u001b[1;33m\u001b[0m\u001b[1;33m\u001b[0m\u001b[0m\n\u001b[0m\u001b[0;32m   3194\u001b[0m         \u001b[0mvalue\u001b[0m \u001b[1;33m=\u001b[0m \u001b[0mself\u001b[0m\u001b[1;33m.\u001b[0m\u001b[0m_sanitize_column\u001b[0m\u001b[1;33m(\u001b[0m\u001b[0mkey\u001b[0m\u001b[1;33m,\u001b[0m \u001b[0mvalue\u001b[0m\u001b[1;33m)\u001b[0m\u001b[1;33m\u001b[0m\u001b[1;33m\u001b[0m\u001b[0m\n\u001b[0;32m   3195\u001b[0m         \u001b[0mNDFrame\u001b[0m\u001b[1;33m.\u001b[0m\u001b[0m_set_item\u001b[0m\u001b[1;33m(\u001b[0m\u001b[0mself\u001b[0m\u001b[1;33m,\u001b[0m \u001b[0mkey\u001b[0m\u001b[1;33m,\u001b[0m \u001b[0mvalue\u001b[0m\u001b[1;33m)\u001b[0m\u001b[1;33m\u001b[0m\u001b[1;33m\u001b[0m\u001b[0m\n",
      "\u001b[1;32mC:\\kosta\\Anaconda3\\lib\\site-packages\\pandas\\core\\frame.py\u001b[0m in \u001b[0;36m_ensure_valid_index\u001b[1;34m(self, value)\u001b[0m\n\u001b[0;32m   3173\u001b[0m                 \u001b[0mvalue\u001b[0m \u001b[1;33m=\u001b[0m \u001b[0mSeries\u001b[0m\u001b[1;33m(\u001b[0m\u001b[0mvalue\u001b[0m\u001b[1;33m)\u001b[0m\u001b[1;33m\u001b[0m\u001b[1;33m\u001b[0m\u001b[0m\n\u001b[0;32m   3174\u001b[0m             \u001b[1;32mexcept\u001b[0m\u001b[1;33m:\u001b[0m\u001b[1;33m\u001b[0m\u001b[1;33m\u001b[0m\u001b[0m\n\u001b[1;32m-> 3175\u001b[1;33m                 raise ValueError('Cannot set a frame with no defined index '\n\u001b[0m\u001b[0;32m   3176\u001b[0m                                  \u001b[1;34m'and a value that cannot be converted to a '\u001b[0m\u001b[1;33m\u001b[0m\u001b[1;33m\u001b[0m\u001b[0m\n\u001b[0;32m   3177\u001b[0m                                  'Series')\n",
      "\u001b[1;31mValueError\u001b[0m: Cannot set a frame with no defined index and a value that cannot be converted to a Series"
     ]
    }
   ],
   "source": [
    "writers_df=pd.DataFrame()\n",
    "writers_df['Writer']=writers\n",
    "writers_df"
   ]
  },
  {
   "cell_type": "code",
   "execution_count": 248,
   "metadata": {},
   "outputs": [
    {
     "data": {
      "text/plain": [
       "Jerry Seinfeld         0\n",
       "Alec Berg              0\n",
       "Jon Hayman             0\n",
       "Bob Shaw               0\n",
       "Max Pross              0\n",
       "Greg Daniels           0\n",
       "Don McEnery            0\n",
       "David Mandel           0\n",
       "Carol Leifer           0\n",
       "Lawrence H. Levy       0\n",
       "Sam Kass               0\n",
       "Fred Stoller           0\n",
       "Bruce Kirschbaum       0\n",
       "Steve Koren            0\n",
       "Andy Robin             0\n",
       "Steve Skrovan          0\n",
       "Bill Masters           0\n",
       "Ron Hague              0\n",
       "Dan O'Keefe            0\n",
       "Tom Gammill            0\n",
       "Marjorie Gross         0\n",
       "Darin Henry            0\n",
       "Jeff Schaffer          0\n",
       "Steve O'Donnell        0\n",
       "Andy Cowan             0\n",
       "Bruce Eric Kaplan      0\n",
       "Spike Feresten         0\n",
       "Larry Levin            0\n",
       "Steve Lookner          0\n",
       "Tom Leopold            0\n",
       "Larry David            0\n",
       "Matt Goldman           0\n",
       "Jennifer Crittenden    0\n",
       "Elaine Pope            0\n",
       "Gregg Kavet            0\n",
       "Larry Charles          0\n",
       "Peter Mehlman          0\n",
       "Charlie Rubin          0\n",
       "Jill Franklyn          0\n",
       "Name: Episodes, dtype: int64"
      ]
     },
     "execution_count": 248,
     "metadata": {},
     "output_type": "execute_result"
    }
   ],
   "source": [
    "writers_df['Episodes']=0\n",
    "# for writer in writers:\n",
    "#     for ep in episodes.Writers:\n",
    "#         if writer in ep:\n",
    "#             writers_df[writer,'Episodes']+=1\n"
   ]
  },
  {
   "cell_type": "code",
   "execution_count": 241,
   "metadata": {},
   "outputs": [
    {
     "data": {
      "text/plain": [
       "{'Jerry Seinfeld': 'mostly_male',\n",
       " 'Alec Berg': 'male',\n",
       " 'Jon Hayman': 'male',\n",
       " 'Bob Shaw': 'male',\n",
       " 'Max Pross': 'mostly_male',\n",
       " 'Greg Daniels': 'male',\n",
       " 'Don McEnery': 'male',\n",
       " 'David Mandel': 'male',\n",
       " 'Carol Leifer': 'mostly_female',\n",
       " 'Lawrence H. Levy': 'male',\n",
       " 'Sam Kass': 'mostly_male',\n",
       " 'Fred Stoller': 'male',\n",
       " 'Bruce Kirschbaum': 'male',\n",
       " 'Steve Koren': 'male',\n",
       " 'Andy Robin': 'mostly_male',\n",
       " 'Steve Skrovan': 'male',\n",
       " 'Bill Masters': 'male',\n",
       " 'Ron Hague': 'male',\n",
       " \"Dan O'Keefe\": 'male',\n",
       " 'Tom Gammill': 'male',\n",
       " 'Marjorie Gross': 'female',\n",
       " 'Darin Henry': 'male',\n",
       " 'Jeff Schaffer': 'male',\n",
       " \"Steve O'Donnell\": 'male',\n",
       " 'Andy Cowan': 'mostly_male',\n",
       " 'Bruce Eric Kaplan': 'male',\n",
       " 'Spike Feresten': 'unknown',\n",
       " 'Larry Levin': 'male',\n",
       " 'Steve Lookner': 'male',\n",
       " 'Tom Leopold': 'male',\n",
       " 'Larry David': 'male',\n",
       " 'Matt Goldman': 'male',\n",
       " 'Jennifer Crittenden': 'female',\n",
       " 'Elaine Pope': 'female',\n",
       " 'Gregg Kavet': 'male',\n",
       " 'Larry Charles': 'male',\n",
       " 'Peter Mehlman': 'male',\n",
       " 'Charlie Rubin': 'mostly_male',\n",
       " 'Jill Franklyn': 'female'}"
      ]
     },
     "execution_count": 241,
     "metadata": {},
     "output_type": "execute_result"
    }
   ],
   "source": [
    "import gender_guesser.detector as gender\n",
    "gend = gender.Detector()\n",
    "writer_gender=dict()\n",
    "for writer in writers:\n",
    "    writer_gender[writer]=gend.get_gender(writer.split()[0],country='usa')\n",
    "writer_gender"
   ]
  },
  {
   "cell_type": "code",
   "execution_count": null,
   "metadata": {},
   "outputs": [],
   "source": []
  }
 ],
 "metadata": {
  "kernelspec": {
   "display_name": "Python 3",
   "language": "python",
   "name": "python3"
  },
  "language_info": {
   "codemirror_mode": {
    "name": "ipython",
    "version": 3
   },
   "file_extension": ".py",
   "mimetype": "text/x-python",
   "name": "python",
   "nbconvert_exporter": "python",
   "pygments_lexer": "ipython3",
   "version": "3.7.1"
  }
 },
 "nbformat": 4,
 "nbformat_minor": 2
}
