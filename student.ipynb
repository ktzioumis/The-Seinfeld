{
 "cells": [
  {
   "cell_type": "markdown",
   "metadata": {},
   "source": [
    "## Final Project Submission\n",
    "\n",
    "Please fill out:\n",
    "* Student name: \n",
    "* Student pace: self paced / part time / full time\n",
    "* Scheduled project review date/time: \n",
    "* Instructor name: \n",
    "* Blog post URL:\n"
   ]
  },
  {
   "cell_type": "markdown",
   "metadata": {},
   "source": [
    "# Seinfeld!\n",
    "Arguably the greatest sitcom ever made and certainly my most favourite show ever.\n",
    "\n",
    "[From Wikipedia](https://en.wikipedia.org/wiki/Seinfeld):\n",
    "> Seinfeld is an American live-action sitcom created by Larry David and Jerry Seinfeld for NBC. Set predominantly in an apartment building in Manhattan's Upper West Side in New York City, the show features a handful of Jerry Seinfeld's (as a fictionalized version of himself) friends and acquaintances, including best friend George Costanza (Jason Alexander), friend and former girlfriend Elaine Benes (Julia Louis-Dreyfus), and neighbor across the hall Cosmo Kramer (Michael Richards). \n",
    "\n",
    "This quick description just scratches the surface of what Seinfeld was and still is; an iconic creation that is frequently ranked by publications such as 'Rolling Stone' and 'Entertainment Weekly' as one of the best comnedies ever made and voted by the 'Writers Guild of America' the No. 2 Best Written TV Series of All Time. Seinfeld has become a cultural touchstone and deeply embedded piece of the cultural zeitgeist spawning words like 'close-talker', catch-phrases like \"It's gold, Jerry. Gold!\", the truly unique \"Elaine Dance\" and even a new holiday \"Festivus\"! Seinfeld had an immeasurable impact on the pop-culture landscape but in this notebook, I plan to use Exploratory Data Analysis and Deep Learning on the complete scripts from the show's entire run  and do just a little bit of measuring."
   ]
  },
  {
   "cell_type": "markdown",
   "metadata": {},
   "source": [
    "The dataset can be found on kaggle [here](https://www.kaggle.com/thec03u5/seinfeld-chronicles) and consists of 2 tables:\n",
    "- episode_info.csv\n",
    "- scripts.csv\n",
    "\n",
    "<b>episode_info</b> consists of meta-data for each episode, including the episode name and number original air-date\n",
    "\n",
    "<b>scripts</b> consists of the dialogue spoken by each character and the character that spoke it.\n",
    "\n",
    "Let's begin by loading the episode_info table into a pandas DataFrame and learning a little more about the show!"
   ]
  },
  {
   "cell_type": "code",
   "execution_count": 5,
   "metadata": {},
   "outputs": [
    {
     "data": {
      "text/html": [
       "<div>\n",
       "<style scoped>\n",
       "    .dataframe tbody tr th:only-of-type {\n",
       "        vertical-align: middle;\n",
       "    }\n",
       "\n",
       "    .dataframe tbody tr th {\n",
       "        vertical-align: top;\n",
       "    }\n",
       "\n",
       "    .dataframe thead th {\n",
       "        text-align: right;\n",
       "    }\n",
       "</style>\n",
       "<table border=\"1\" class=\"dataframe\">\n",
       "  <thead>\n",
       "    <tr style=\"text-align: right;\">\n",
       "      <th></th>\n",
       "      <th>Season</th>\n",
       "      <th>EpisodeNo</th>\n",
       "      <th>Title</th>\n",
       "      <th>AirDate</th>\n",
       "      <th>Writers</th>\n",
       "      <th>Director</th>\n",
       "      <th>SEID</th>\n",
       "    </tr>\n",
       "  </thead>\n",
       "  <tbody>\n",
       "    <tr>\n",
       "      <th>0</th>\n",
       "      <td>1.0</td>\n",
       "      <td>1.0</td>\n",
       "      <td>Good News, Bad News</td>\n",
       "      <td>July 5, 1989</td>\n",
       "      <td>Larry David, Jerry Seinfeld</td>\n",
       "      <td>Art Wolff</td>\n",
       "      <td>S01E01</td>\n",
       "    </tr>\n",
       "    <tr>\n",
       "      <th>1</th>\n",
       "      <td>1.0</td>\n",
       "      <td>1.0</td>\n",
       "      <td>The Stakeout</td>\n",
       "      <td>May 31, 1990</td>\n",
       "      <td>Larry David, Jerry Seinfeld</td>\n",
       "      <td>Tom Cherones</td>\n",
       "      <td>S01E01</td>\n",
       "    </tr>\n",
       "    <tr>\n",
       "      <th>2</th>\n",
       "      <td>1.0</td>\n",
       "      <td>2.0</td>\n",
       "      <td>The Robbery</td>\n",
       "      <td>June 7, 1990</td>\n",
       "      <td>Matt Goldman</td>\n",
       "      <td>Tom Cherones</td>\n",
       "      <td>S01E02</td>\n",
       "    </tr>\n",
       "    <tr>\n",
       "      <th>3</th>\n",
       "      <td>1.0</td>\n",
       "      <td>3.0</td>\n",
       "      <td>Male Unbonding</td>\n",
       "      <td>June 14, 1990</td>\n",
       "      <td>Larry David, Jerry Seinfeld</td>\n",
       "      <td>Tom Cherones</td>\n",
       "      <td>S01E03</td>\n",
       "    </tr>\n",
       "    <tr>\n",
       "      <th>4</th>\n",
       "      <td>1.0</td>\n",
       "      <td>4.0</td>\n",
       "      <td>The Stock Tip</td>\n",
       "      <td>June 21, 1990</td>\n",
       "      <td>Larry David, Jerry Seinfeld</td>\n",
       "      <td>Tom Cherones</td>\n",
       "      <td>S01E04</td>\n",
       "    </tr>\n",
       "  </tbody>\n",
       "</table>\n",
       "</div>"
      ],
      "text/plain": [
       "   Season  EpisodeNo                Title        AirDate  \\\n",
       "0     1.0        1.0  Good News, Bad News   July 5, 1989   \n",
       "1     1.0        1.0         The Stakeout   May 31, 1990   \n",
       "2     1.0        2.0          The Robbery   June 7, 1990   \n",
       "3     1.0        3.0       Male Unbonding  June 14, 1990   \n",
       "4     1.0        4.0        The Stock Tip  June 21, 1990   \n",
       "\n",
       "                       Writers      Director    SEID  \n",
       "0  Larry David, Jerry Seinfeld     Art Wolff  S01E01  \n",
       "1  Larry David, Jerry Seinfeld  Tom Cherones  S01E01  \n",
       "2                 Matt Goldman  Tom Cherones  S01E02  \n",
       "3  Larry David, Jerry Seinfeld  Tom Cherones  S01E03  \n",
       "4  Larry David, Jerry Seinfeld  Tom Cherones  S01E04  "
      ]
     },
     "execution_count": 5,
     "metadata": {},
     "output_type": "execute_result"
    }
   ],
   "source": [
    "import pandas as pd\n",
    "import matplotlib.pyplot as plt\n",
    "import numpy as np\n",
    "episodes=pd.read_csv('episode_info.csv',index_col='Unnamed: 0')\n",
    "episodes.head()"
   ]
  },
  {
   "cell_type": "markdown",
   "metadata": {},
   "source": [
    "<b>Seinfeld Trivia!</b>\n",
    "The original pilot of Seinfeld (originally entitled 'The Seinfeld Chronicles') 'Good News, Bad News' was not picked up! NBC did eventually order 4 additional episodes that make up the first season, a record for smallest episode order in US TV history!\n",
    "    \n",
    "We can see this reflected in the data head dispalyed above. There are 2 entries both labelled Season 1, Episode 1 i.e S01E01\n",
    "To prevent any confusion later on, the pilot episode 'Good News, Bad News' will be re-numbered Season 1, Epsidoe 0 - S01E00"
   ]
  },
  {
   "cell_type": "code",
   "execution_count": 6,
   "metadata": {},
   "outputs": [
    {
     "name": "stderr",
     "output_type": "stream",
     "text": [
      "C:\\kosta\\Anaconda3\\lib\\site-packages\\ipykernel_launcher.py:1: SettingWithCopyWarning: \n",
      "A value is trying to be set on a copy of a slice from a DataFrame\n",
      "\n",
      "See the caveats in the documentation: http://pandas.pydata.org/pandas-docs/stable/indexing.html#indexing-view-versus-copy\n",
      "  \"\"\"Entry point for launching an IPython kernel.\n",
      "C:\\kosta\\Anaconda3\\lib\\site-packages\\ipykernel_launcher.py:2: SettingWithCopyWarning: \n",
      "A value is trying to be set on a copy of a slice from a DataFrame\n",
      "\n",
      "See the caveats in the documentation: http://pandas.pydata.org/pandas-docs/stable/indexing.html#indexing-view-versus-copy\n",
      "  \n"
     ]
    },
    {
     "data": {
      "text/html": [
       "<div>\n",
       "<style scoped>\n",
       "    .dataframe tbody tr th:only-of-type {\n",
       "        vertical-align: middle;\n",
       "    }\n",
       "\n",
       "    .dataframe tbody tr th {\n",
       "        vertical-align: top;\n",
       "    }\n",
       "\n",
       "    .dataframe thead th {\n",
       "        text-align: right;\n",
       "    }\n",
       "</style>\n",
       "<table border=\"1\" class=\"dataframe\">\n",
       "  <thead>\n",
       "    <tr style=\"text-align: right;\">\n",
       "      <th></th>\n",
       "      <th>Season</th>\n",
       "      <th>EpisodeNo</th>\n",
       "      <th>Title</th>\n",
       "      <th>AirDate</th>\n",
       "      <th>Writers</th>\n",
       "      <th>Director</th>\n",
       "      <th>SEID</th>\n",
       "    </tr>\n",
       "  </thead>\n",
       "  <tbody>\n",
       "    <tr>\n",
       "      <th>0</th>\n",
       "      <td>1.0</td>\n",
       "      <td>0.0</td>\n",
       "      <td>Good News, Bad News</td>\n",
       "      <td>July 5, 1989</td>\n",
       "      <td>Larry David, Jerry Seinfeld</td>\n",
       "      <td>Art Wolff</td>\n",
       "      <td>S01E00</td>\n",
       "    </tr>\n",
       "    <tr>\n",
       "      <th>1</th>\n",
       "      <td>1.0</td>\n",
       "      <td>1.0</td>\n",
       "      <td>The Stakeout</td>\n",
       "      <td>May 31, 1990</td>\n",
       "      <td>Larry David, Jerry Seinfeld</td>\n",
       "      <td>Tom Cherones</td>\n",
       "      <td>S01E01</td>\n",
       "    </tr>\n",
       "    <tr>\n",
       "      <th>2</th>\n",
       "      <td>1.0</td>\n",
       "      <td>2.0</td>\n",
       "      <td>The Robbery</td>\n",
       "      <td>June 7, 1990</td>\n",
       "      <td>Matt Goldman</td>\n",
       "      <td>Tom Cherones</td>\n",
       "      <td>S01E02</td>\n",
       "    </tr>\n",
       "    <tr>\n",
       "      <th>3</th>\n",
       "      <td>1.0</td>\n",
       "      <td>3.0</td>\n",
       "      <td>Male Unbonding</td>\n",
       "      <td>June 14, 1990</td>\n",
       "      <td>Larry David, Jerry Seinfeld</td>\n",
       "      <td>Tom Cherones</td>\n",
       "      <td>S01E03</td>\n",
       "    </tr>\n",
       "    <tr>\n",
       "      <th>4</th>\n",
       "      <td>1.0</td>\n",
       "      <td>4.0</td>\n",
       "      <td>The Stock Tip</td>\n",
       "      <td>June 21, 1990</td>\n",
       "      <td>Larry David, Jerry Seinfeld</td>\n",
       "      <td>Tom Cherones</td>\n",
       "      <td>S01E04</td>\n",
       "    </tr>\n",
       "  </tbody>\n",
       "</table>\n",
       "</div>"
      ],
      "text/plain": [
       "   Season  EpisodeNo                Title        AirDate  \\\n",
       "0     1.0        0.0  Good News, Bad News   July 5, 1989   \n",
       "1     1.0        1.0         The Stakeout   May 31, 1990   \n",
       "2     1.0        2.0          The Robbery   June 7, 1990   \n",
       "3     1.0        3.0       Male Unbonding  June 14, 1990   \n",
       "4     1.0        4.0        The Stock Tip  June 21, 1990   \n",
       "\n",
       "                       Writers      Director    SEID  \n",
       "0  Larry David, Jerry Seinfeld     Art Wolff  S01E00  \n",
       "1  Larry David, Jerry Seinfeld  Tom Cherones  S01E01  \n",
       "2                 Matt Goldman  Tom Cherones  S01E02  \n",
       "3  Larry David, Jerry Seinfeld  Tom Cherones  S01E03  \n",
       "4  Larry David, Jerry Seinfeld  Tom Cherones  S01E04  "
      ]
     },
     "execution_count": 6,
     "metadata": {},
     "output_type": "execute_result"
    }
   ],
   "source": [
    "episodes['EpisodeNo'][0]=0\n",
    "episodes['SEID'][0]='S01E00'\n",
    "episodes.head()"
   ]
  },
  {
   "cell_type": "markdown",
   "metadata": {},
   "source": [
    "So lets confirm some basic info about the show for anyone who doesn't know"
   ]
  },
  {
   "cell_type": "code",
   "execution_count": 7,
   "metadata": {},
   "outputs": [
    {
     "name": "stdout",
     "output_type": "stream",
     "text": [
      "Seinfeld ran for 9 seasons consisting of 174 episodes\n",
      "The pilot episode aired on July 5, 1989 but the first full season began on May 31, 1990\n",
      "The final episode aired on May 14, 1998\n"
     ]
    }
   ],
   "source": [
    "print('Seinfeld ran for',len(episodes.Season.unique()),'seasons consisting of',len(episodes.index), 'episodes')\n",
    "print('The pilot episode aired on',episodes['AirDate'][0], 'but the first full season began on',episodes['AirDate'][1])\n",
    "print('The final episode aired on',episodes['AirDate'][173])"
   ]
  },
  {
   "cell_type": "markdown",
   "metadata": {},
   "source": [
    "With 174 episodes and 9 seasons, on average each season we would expect to consist of 174/9=19.33 episodes, is this the case?"
   ]
  },
  {
   "cell_type": "code",
   "execution_count": 8,
   "metadata": {},
   "outputs": [
    {
     "data": {
      "text/plain": [
       "Season\n",
       "1.0     5\n",
       "2.0    12\n",
       "3.0    23\n",
       "4.0    24\n",
       "5.0    21\n",
       "6.0    22\n",
       "7.0    24\n",
       "8.0    22\n",
       "9.0    21\n",
       "dtype: int64"
      ]
     },
     "execution_count": 8,
     "metadata": {},
     "output_type": "execute_result"
    }
   ],
   "source": [
    "season_size=episodes.groupby('Season').size()\n",
    "season_size"
   ]
  },
  {
   "cell_type": "markdown",
   "metadata": {},
   "source": [
    "Nope. As I stated before the first season consists of the pilot plus 4 episodes but the second season is also shorter at just 12 episodes. But is this exactly true?"
   ]
  },
  {
   "cell_type": "code",
   "execution_count": 9,
   "metadata": {},
   "outputs": [
    {
     "data": {
      "text/plain": [
       "Season\n",
       "1.0     4.0\n",
       "2.0    12.0\n",
       "3.0    23.0\n",
       "4.0    24.0\n",
       "5.0    22.0\n",
       "6.0    24.0\n",
       "7.0    24.0\n",
       "8.0    22.0\n",
       "9.0    23.0\n",
       "Name: EpisodeNo, dtype: float64"
      ]
     },
     "execution_count": 9,
     "metadata": {},
     "output_type": "execute_result"
    }
   ],
   "source": [
    "season_lastep= episodes.groupby('Season').max()['EpisodeNo']\n",
    "season_lastep"
   ]
  },
  {
   "cell_type": "markdown",
   "metadata": {},
   "source": [
    "These episode numbers are different! The final episode in each season does not match up with the length of each season.\n"
   ]
  },
  {
   "cell_type": "code",
   "execution_count": null,
   "metadata": {},
   "outputs": [],
   "source": []
  },
  {
   "cell_type": "code",
   "execution_count": 10,
   "metadata": {},
   "outputs": [
    {
     "name": "stdout",
     "output_type": "stream",
     "text": [
      "Season 1 has inconsistent season length and last episode number; inconsistency = -1.0\n",
      "Season 5 has inconsistent season length and last episode number; inconsistency = 1.0\n",
      "Season 6 has inconsistent season length and last episode number; inconsistency = 2.0\n",
      "Season 9 has inconsistent season length and last episode number; inconsistency = 2.0\n"
     ]
    }
   ],
   "source": [
    "for i in range(1,10):\n",
    "    if season_size[i]!=season_lastep[i]:\n",
    "        print('Season {} has inconsistent season length and last episode number; inconsistency = {}'.format(i,season_lastep[i]-season_size[i]))\n"
   ]
  },
  {
   "cell_type": "markdown",
   "metadata": {},
   "source": [
    "Season 1, as we know, has been given an episode 0 so this accounts for the difference but what about the other three seasons?"
   ]
  },
  {
   "cell_type": "code",
   "execution_count": 86,
   "metadata": {},
   "outputs": [
    {
     "data": {
      "text/html": [
       "<div>\n",
       "<style scoped>\n",
       "    .dataframe tbody tr th:only-of-type {\n",
       "        vertical-align: middle;\n",
       "    }\n",
       "\n",
       "    .dataframe tbody tr th {\n",
       "        vertical-align: top;\n",
       "    }\n",
       "\n",
       "    .dataframe thead th {\n",
       "        text-align: right;\n",
       "    }\n",
       "</style>\n",
       "<table border=\"1\" class=\"dataframe\">\n",
       "  <thead>\n",
       "    <tr style=\"text-align: right;\">\n",
       "      <th></th>\n",
       "      <th>Season</th>\n",
       "      <th>EpisodeNo</th>\n",
       "      <th>Title</th>\n",
       "    </tr>\n",
       "  </thead>\n",
       "  <tbody>\n",
       "    <tr>\n",
       "      <th>81</th>\n",
       "      <td>5.0</td>\n",
       "      <td>18.0</td>\n",
       "      <td>The Raincoats</td>\n",
       "    </tr>\n",
       "    <tr>\n",
       "      <th>82</th>\n",
       "      <td>5.0</td>\n",
       "      <td>20.0</td>\n",
       "      <td>The Fire</td>\n",
       "    </tr>\n",
       "  </tbody>\n",
       "</table>\n",
       "</div>"
      ],
      "text/plain": [
       "    Season  EpisodeNo          Title\n",
       "81     5.0       18.0  The Raincoats\n",
       "82     5.0       20.0       The Fire"
      ]
     },
     "execution_count": 86,
     "metadata": {},
     "output_type": "execute_result"
    }
   ],
   "source": [
    "episodes.iloc[81:83][['Season','EpisodeNo','Title']]"
   ]
  },
  {
   "cell_type": "markdown",
   "metadata": {},
   "source": [
    "There's no episdoe 19!\n",
    "Its ok though, season 2 episode 18 'The Raincoats' is actually a 2 part episode:<br>\n",
    "https://en.wikipedia.org/wiki/The_Raincoats_(Seinfeld)\n"
   ]
  },
  {
   "cell_type": "code",
   "execution_count": 90,
   "metadata": {},
   "outputs": [
    {
     "data": {
      "text/html": [
       "<div>\n",
       "<style scoped>\n",
       "    .dataframe tbody tr th:only-of-type {\n",
       "        vertical-align: middle;\n",
       "    }\n",
       "\n",
       "    .dataframe tbody tr th {\n",
       "        vertical-align: top;\n",
       "    }\n",
       "\n",
       "    .dataframe thead th {\n",
       "        text-align: right;\n",
       "    }\n",
       "</style>\n",
       "<table border=\"1\" class=\"dataframe\">\n",
       "  <thead>\n",
       "    <tr style=\"text-align: right;\">\n",
       "      <th></th>\n",
       "      <th>Season</th>\n",
       "      <th>EpisodeNo</th>\n",
       "      <th>Title</th>\n",
       "    </tr>\n",
       "  </thead>\n",
       "  <tbody>\n",
       "    <tr>\n",
       "      <th>97</th>\n",
       "      <td>6.0</td>\n",
       "      <td>13.0</td>\n",
       "      <td>The Scofflaw</td>\n",
       "    </tr>\n",
       "    <tr>\n",
       "      <th>98</th>\n",
       "      <td>6.0</td>\n",
       "      <td>16.0</td>\n",
       "      <td>The Beard</td>\n",
       "    </tr>\n",
       "  </tbody>\n",
       "</table>\n",
       "</div>"
      ],
      "text/plain": [
       "    Season  EpisodeNo         Title\n",
       "97     6.0       13.0  The Scofflaw\n",
       "98     6.0       16.0     The Beard"
      ]
     },
     "execution_count": 90,
     "metadata": {},
     "output_type": "execute_result"
    }
   ],
   "source": [
    "episodes.iloc[97:99][['Season','EpisodeNo','Title']]"
   ]
  },
  {
   "cell_type": "markdown",
   "metadata": {},
   "source": [
    "In season 6 there are 2 numbers missing, episodes 14 and 15.\n",
    "Again this is a 2 part episode but in this case the episode has been completely cut from the dataset as it is a clip episode and contains little or no new data. <br>\n",
    "https://en.wikipedia.org/wiki/The_Highlights_of_100"
   ]
  },
  {
   "cell_type": "code",
   "execution_count": 92,
   "metadata": {},
   "outputs": [
    {
     "data": {
      "text/html": [
       "<div>\n",
       "<style scoped>\n",
       "    .dataframe tbody tr th:only-of-type {\n",
       "        vertical-align: middle;\n",
       "    }\n",
       "\n",
       "    .dataframe tbody tr th {\n",
       "        vertical-align: top;\n",
       "    }\n",
       "\n",
       "    .dataframe thead th {\n",
       "        text-align: right;\n",
       "    }\n",
       "</style>\n",
       "<table border=\"1\" class=\"dataframe\">\n",
       "  <thead>\n",
       "    <tr style=\"text-align: right;\">\n",
       "      <th></th>\n",
       "      <th>Season</th>\n",
       "      <th>EpisodeNo</th>\n",
       "      <th>Title</th>\n",
       "    </tr>\n",
       "  </thead>\n",
       "  <tbody>\n",
       "    <tr>\n",
       "      <th>172</th>\n",
       "      <td>9.0</td>\n",
       "      <td>20.0</td>\n",
       "      <td>The Puerto Rican Day</td>\n",
       "    </tr>\n",
       "    <tr>\n",
       "      <th>173</th>\n",
       "      <td>9.0</td>\n",
       "      <td>23.0</td>\n",
       "      <td>The Finale</td>\n",
       "    </tr>\n",
       "  </tbody>\n",
       "</table>\n",
       "</div>"
      ],
      "text/plain": [
       "     Season  EpisodeNo                 Title\n",
       "172     9.0       20.0  The Puerto Rican Day\n",
       "173     9.0       23.0            The Finale"
      ]
     },
     "execution_count": 92,
     "metadata": {},
     "output_type": "execute_result"
    }
   ],
   "source": [
    "episodes.iloc[172:][['Season','EpisodeNo','Title']]"
   ]
  },
  {
   "cell_type": "markdown",
   "metadata": {},
   "source": [
    "Episodes 21 and 22 are missing. Again this is a clip episode that has been cut from the dataset already<br>\n",
    "https://en.wikipedia.org/wiki/The_Chronicle_(Seinfeld)<br>\n",
    "Episode 23 'The Finale' is also a double episode."
   ]
  },
  {
   "cell_type": "markdown",
   "metadata": {},
   "source": [
    "I *know* there are other 2 part episodes, but these appear to have been treated differently to 'The Raincoats' in season 5"
   ]
  },
  {
   "cell_type": "code",
   "execution_count": 93,
   "metadata": {},
   "outputs": [
    {
     "data": {
      "text/html": [
       "<div>\n",
       "<style scoped>\n",
       "    .dataframe tbody tr th:only-of-type {\n",
       "        vertical-align: middle;\n",
       "    }\n",
       "\n",
       "    .dataframe tbody tr th {\n",
       "        vertical-align: top;\n",
       "    }\n",
       "\n",
       "    .dataframe thead th {\n",
       "        text-align: right;\n",
       "    }\n",
       "</style>\n",
       "<table border=\"1\" class=\"dataframe\">\n",
       "  <thead>\n",
       "    <tr style=\"text-align: right;\">\n",
       "      <th></th>\n",
       "      <th>Season</th>\n",
       "      <th>EpisodeNo</th>\n",
       "      <th>Title</th>\n",
       "    </tr>\n",
       "  </thead>\n",
       "  <tbody>\n",
       "    <tr>\n",
       "      <th>119</th>\n",
       "      <td>7.0</td>\n",
       "      <td>13.0</td>\n",
       "      <td>The Seven</td>\n",
       "    </tr>\n",
       "    <tr>\n",
       "      <th>120</th>\n",
       "      <td>7.0</td>\n",
       "      <td>14.0</td>\n",
       "      <td>The Cadillac (1)</td>\n",
       "    </tr>\n",
       "    <tr>\n",
       "      <th>121</th>\n",
       "      <td>7.0</td>\n",
       "      <td>15.0</td>\n",
       "      <td>The Cadillac (2)</td>\n",
       "    </tr>\n",
       "    <tr>\n",
       "      <th>122</th>\n",
       "      <td>7.0</td>\n",
       "      <td>16.0</td>\n",
       "      <td>The Shower Head</td>\n",
       "    </tr>\n",
       "    <tr>\n",
       "      <th>123</th>\n",
       "      <td>7.0</td>\n",
       "      <td>17.0</td>\n",
       "      <td>The Doll</td>\n",
       "    </tr>\n",
       "    <tr>\n",
       "      <th>124</th>\n",
       "      <td>7.0</td>\n",
       "      <td>18.0</td>\n",
       "      <td>The Friars Club (a.k.a. The Gypsies)</td>\n",
       "    </tr>\n",
       "    <tr>\n",
       "      <th>125</th>\n",
       "      <td>7.0</td>\n",
       "      <td>19.0</td>\n",
       "      <td>The Wig Master</td>\n",
       "    </tr>\n",
       "    <tr>\n",
       "      <th>126</th>\n",
       "      <td>7.0</td>\n",
       "      <td>20.0</td>\n",
       "      <td>The Calzone</td>\n",
       "    </tr>\n",
       "    <tr>\n",
       "      <th>127</th>\n",
       "      <td>7.0</td>\n",
       "      <td>21.0</td>\n",
       "      <td>The Bottle Deposit (1)</td>\n",
       "    </tr>\n",
       "    <tr>\n",
       "      <th>128</th>\n",
       "      <td>7.0</td>\n",
       "      <td>22.0</td>\n",
       "      <td>The Bottle Deposit (2)</td>\n",
       "    </tr>\n",
       "    <tr>\n",
       "      <th>129</th>\n",
       "      <td>7.0</td>\n",
       "      <td>23.0</td>\n",
       "      <td>The Wait Out</td>\n",
       "    </tr>\n",
       "  </tbody>\n",
       "</table>\n",
       "</div>"
      ],
      "text/plain": [
       "     Season  EpisodeNo                                 Title\n",
       "119     7.0       13.0                             The Seven\n",
       "120     7.0       14.0                      The Cadillac (1)\n",
       "121     7.0       15.0                      The Cadillac (2)\n",
       "122     7.0       16.0                       The Shower Head\n",
       "123     7.0       17.0                              The Doll\n",
       "124     7.0       18.0  The Friars Club (a.k.a. The Gypsies)\n",
       "125     7.0       19.0                        The Wig Master\n",
       "126     7.0       20.0                           The Calzone\n",
       "127     7.0       21.0                The Bottle Deposit (1)\n",
       "128     7.0       22.0                The Bottle Deposit (2)\n",
       "129     7.0       23.0                          The Wait Out"
      ]
     },
     "execution_count": 93,
     "metadata": {},
     "output_type": "execute_result"
    }
   ],
   "source": [
    "episodes.iloc[119:130][['Season','EpisodeNo','Title']]"
   ]
  },
  {
   "cell_type": "markdown",
   "metadata": {},
   "source": [
    "This list  of episodes in Season 7 makes it clear, these two-part episodes here are given annotations to their titles. I don't know why 'The Raincoats' in season 5 is treated differently than the 2 two-part episodes in season 7 but this can be addressed in the corpus of the script texts as needed"
   ]
  },
  {
   "cell_type": "code",
   "execution_count": 15,
   "metadata": {},
   "outputs": [
    {
     "name": "stdout",
     "output_type": "stream",
     "text": [
      "Good News, Bad News\n",
      "Male Unbonding\n"
     ]
    }
   ],
   "source": [
    "for i in episodes['Title']:\n",
    "    if i.startswith('The')==False:\n",
    "        print(i)"
   ]
  },
  {
   "cell_type": "markdown",
   "metadata": {},
   "source": [
    "There are just 2 episodes that do not have a title starting with the word 'The' both of these are in the first season. After this it became something of convention for the writers"
   ]
  },
  {
   "cell_type": "code",
   "execution_count": 96,
   "metadata": {},
   "outputs": [
    {
     "data": {
      "text/plain": [
       "{'Alec Berg',\n",
       " 'Andy Cowan',\n",
       " 'Andy Robin',\n",
       " 'Bill Masters',\n",
       " 'Bob Shaw',\n",
       " 'Bruce Eric Kaplan',\n",
       " 'Bruce Kirschbaum',\n",
       " 'Buck Dancer (Larry David pseudonym)',\n",
       " 'Carol Leifer',\n",
       " 'Charlie Rubin',\n",
       " \"Dan O'Keefe\",\n",
       " 'Darin Henry',\n",
       " 'David Mandel',\n",
       " 'Don McEnery',\n",
       " 'Elaine Pope',\n",
       " 'Fred Stoller',\n",
       " 'Greg Daniels',\n",
       " 'Gregg Kavet',\n",
       " 'Jeff Schaffer',\n",
       " 'Jennifer Crittenden',\n",
       " 'Jerry Seinfeld',\n",
       " 'Jill Franklyn',\n",
       " 'Jon Hayman',\n",
       " 'Larry Charles',\n",
       " 'Larry Charles / Story By Marc Jaffe',\n",
       " 'Larry David',\n",
       " 'Larry Levin',\n",
       " 'Lawrence H. Levy',\n",
       " 'Marjorie Gross',\n",
       " 'Matt Goldman',\n",
       " 'Max Pross',\n",
       " 'Peter Mehlman',\n",
       " 'Ron Hague',\n",
       " 'Sam Kass',\n",
       " 'Spike Feresten',\n",
       " 'Steve Koren',\n",
       " 'Steve Lookner',\n",
       " \"Steve O'Donnell\",\n",
       " 'Steve Skrovan',\n",
       " 'Tom Gammill',\n",
       " 'Tom Leopold'}"
      ]
     },
     "execution_count": 96,
     "metadata": {},
     "output_type": "execute_result"
    }
   ],
   "source": [
    "names=[]\n",
    "for i in episodes['Writers'].unique():\n",
    "    names.append(i.replace(' and ',',').rstrip('.').split(','))\n",
    "names\n",
    "\n",
    "writers=set(([item.strip() for sublist in names for item in sublist]))\n",
    "writers"
   ]
  },
  {
   "cell_type": "code",
   "execution_count": 104,
   "metadata": {},
   "outputs": [
    {
     "data": {
      "text/plain": [
       "41"
      ]
     },
     "execution_count": 104,
     "metadata": {},
     "output_type": "execute_result"
    }
   ],
   "source": [
    "len(writers)"
   ]
  },
  {
   "cell_type": "markdown",
   "metadata": {},
   "source": [
    "39 different writers worked on the various episodes not  including Marc Jaffe who has only a story credit and Buck Dancer, which is a psuedonym for Larry David"
   ]
  },
  {
   "cell_type": "code",
   "execution_count": 98,
   "metadata": {},
   "outputs": [
    {
     "data": {
      "text/plain": [
       "{'Jerry Seinfeld': 18,\n",
       " 'Alec Berg': 14,\n",
       " 'Jon Hayman': 1,\n",
       " 'Bob Shaw': 2,\n",
       " 'Max Pross': 13,\n",
       " 'Greg Daniels': 1,\n",
       " 'Don McEnery': 1,\n",
       " 'David Mandel': 9,\n",
       " 'Carol Leifer': 6,\n",
       " 'Lawrence H. Levy': 1,\n",
       " 'Sam Kass': 1,\n",
       " 'Fred Stoller': 1,\n",
       " 'Bruce Kirschbaum': 3,\n",
       " 'Steve Koren': 5,\n",
       " 'Andy Robin': 13,\n",
       " 'Steve Skrovan': 1,\n",
       " 'Bill Masters': 3,\n",
       " 'Ron Hague': 1,\n",
       " \"Dan O'Keefe\": 5,\n",
       " 'Tom Gammill': 13,\n",
       " 'Marjorie Gross': 4,\n",
       " 'Darin Henry': 1,\n",
       " 'Jeff Schaffer': 14,\n",
       " \"Steve O'Donnell\": 2,\n",
       " 'Andy Cowan': 1,\n",
       " 'Bruce Eric Kaplan': 3,\n",
       " 'Spike Feresten': 9,\n",
       " 'Larry Levin': 2,\n",
       " 'Steve Lookner': 1,\n",
       " 'Tom Leopold': 2,\n",
       " 'Larry David': 59,\n",
       " 'Matt Goldman': 2,\n",
       " 'Jennifer Crittenden': 6,\n",
       " 'Elaine Pope': 2,\n",
       " 'Gregg Kavet': 11,\n",
       " 'Larry Charles': 20,\n",
       " 'Peter Mehlman': 19,\n",
       " 'Charlie Rubin': 1,\n",
       " 'Jill Franklyn': 1}"
      ]
     },
     "execution_count": 98,
     "metadata": {},
     "output_type": "execute_result"
    }
   ],
   "source": [
    "writers_episodes=dict()\n",
    "for writer in writers:\n",
    "    writers_episodes[writer]=0\n",
    "for writer in writers:\n",
    "    for ep in episodes.Writers:\n",
    "        if writer in ep:\n",
    "            writers_episodes[writer]+=1\n",
    "            \n",
    "#Manual Corrections:\n",
    "#'Larry David' and 'Larry Charles' get one more episode credit each, 'Buck Dancer' and 'Marc Jaffe' are removed\n",
    "writers_episodes['Larry David']+=1\n",
    "writers_episodes['Larry Charles']+=1\n",
    "del writers_episodes['Larry Charles / Story By Marc Jaffe']\n",
    "del writers_episodes['Buck Dancer (Larry David pseudonym)']\n",
    "writers_episodes"
   ]
  },
  {
   "cell_type": "code",
   "execution_count": 99,
   "metadata": {},
   "outputs": [
    {
     "data": {
      "image/png": "[encoded data removed]",
      "text/plain": [
       "<Figure size 864x432 with 1 Axes>"
      ]
     },
     "metadata": {
      "needs_background": "light"
     },
     "output_type": "display_data"
    }
   ],
   "source": [
    "plt.figure(figsize=(12,6))\n",
    "plt.bar(writers_episodes.keys(),writers_episodes.values())\n",
    "plt.xlabel('Writer',size=15)\n",
    "plt.ylabel('No.Episodes written for',size=15)\n",
    "plt.title('Number of Episodes for each Writer',size=20)\n",
    "plt.xticks(rotation=90)\n",
    "plt.show()"
   ]
  },
  {
   "cell_type": "code",
   "execution_count": 56,
   "metadata": {},
   "outputs": [
    {
     "data": {
      "text/plain": [
       "Text(0.5, 1.0, 'Seinfeld Writers wordcloud')"
      ]
     },
     "execution_count": 56,
     "metadata": {},
     "output_type": "execute_result"
    },
    {
     "data": {
      "image/png": "[encoded data removed]",
      "text/plain": [
       "<Figure size 720x432 with 1 Axes>"
      ]
     },
     "metadata": {
      "needs_background": "light"
     },
     "output_type": "display_data"
    }
   ],
   "source": [
    "import wordcloud as wc\n",
    "\n",
    "wordcloud=wc.WordCloud()\n",
    "wordcloud.fit_words(writers_episodes)\n",
    "\n",
    "plt.figure(figsize=(10,6))\n",
    "plt.imshow(wordcloud)\n",
    "plt.axis('off')\n",
    "plt.title('Seinfeld Writers wordcloud',size=20)"
   ]
  },
  {
   "cell_type": "code",
   "execution_count": 100,
   "metadata": {},
   "outputs": [],
   "source": [
    "writers_df=pd.DataFrame([writers_episodes.keys(),writers_episodes.values()],index=['Writers','No_Episodes'])\n",
    "writers_df=writers_df.transpose()\n"
   ]
  },
  {
   "cell_type": "code",
   "execution_count": 101,
   "metadata": {},
   "outputs": [
    {
     "data": {
      "text/html": [
       "<div>\n",
       "<style scoped>\n",
       "    .dataframe tbody tr th:only-of-type {\n",
       "        vertical-align: middle;\n",
       "    }\n",
       "\n",
       "    .dataframe tbody tr th {\n",
       "        vertical-align: top;\n",
       "    }\n",
       "\n",
       "    .dataframe thead th {\n",
       "        text-align: right;\n",
       "    }\n",
       "</style>\n",
       "<table border=\"1\" class=\"dataframe\">\n",
       "  <thead>\n",
       "    <tr style=\"text-align: right;\">\n",
       "      <th></th>\n",
       "      <th>No_Episodes</th>\n",
       "    </tr>\n",
       "    <tr>\n",
       "      <th>Writers</th>\n",
       "      <th></th>\n",
       "    </tr>\n",
       "  </thead>\n",
       "  <tbody>\n",
       "    <tr>\n",
       "      <th>Jerry Seinfeld</th>\n",
       "      <td>18</td>\n",
       "    </tr>\n",
       "    <tr>\n",
       "      <th>Alec Berg</th>\n",
       "      <td>14</td>\n",
       "    </tr>\n",
       "    <tr>\n",
       "      <th>Jon Hayman</th>\n",
       "      <td>1</td>\n",
       "    </tr>\n",
       "    <tr>\n",
       "      <th>Bob Shaw</th>\n",
       "      <td>2</td>\n",
       "    </tr>\n",
       "    <tr>\n",
       "      <th>Max Pross</th>\n",
       "      <td>13</td>\n",
       "    </tr>\n",
       "    <tr>\n",
       "      <th>Greg Daniels</th>\n",
       "      <td>1</td>\n",
       "    </tr>\n",
       "    <tr>\n",
       "      <th>Don McEnery</th>\n",
       "      <td>1</td>\n",
       "    </tr>\n",
       "    <tr>\n",
       "      <th>David Mandel</th>\n",
       "      <td>9</td>\n",
       "    </tr>\n",
       "    <tr>\n",
       "      <th>Carol Leifer</th>\n",
       "      <td>6</td>\n",
       "    </tr>\n",
       "    <tr>\n",
       "      <th>Lawrence H. Levy</th>\n",
       "      <td>1</td>\n",
       "    </tr>\n",
       "    <tr>\n",
       "      <th>Sam Kass</th>\n",
       "      <td>1</td>\n",
       "    </tr>\n",
       "    <tr>\n",
       "      <th>Fred Stoller</th>\n",
       "      <td>1</td>\n",
       "    </tr>\n",
       "    <tr>\n",
       "      <th>Bruce Kirschbaum</th>\n",
       "      <td>3</td>\n",
       "    </tr>\n",
       "    <tr>\n",
       "      <th>Steve Koren</th>\n",
       "      <td>5</td>\n",
       "    </tr>\n",
       "    <tr>\n",
       "      <th>Andy Robin</th>\n",
       "      <td>13</td>\n",
       "    </tr>\n",
       "    <tr>\n",
       "      <th>Steve Skrovan</th>\n",
       "      <td>1</td>\n",
       "    </tr>\n",
       "    <tr>\n",
       "      <th>Bill Masters</th>\n",
       "      <td>3</td>\n",
       "    </tr>\n",
       "    <tr>\n",
       "      <th>Ron Hague</th>\n",
       "      <td>1</td>\n",
       "    </tr>\n",
       "    <tr>\n",
       "      <th>Dan O'Keefe</th>\n",
       "      <td>5</td>\n",
       "    </tr>\n",
       "    <tr>\n",
       "      <th>Tom Gammill</th>\n",
       "      <td>13</td>\n",
       "    </tr>\n",
       "    <tr>\n",
       "      <th>Marjorie Gross</th>\n",
       "      <td>4</td>\n",
       "    </tr>\n",
       "    <tr>\n",
       "      <th>Darin Henry</th>\n",
       "      <td>1</td>\n",
       "    </tr>\n",
       "    <tr>\n",
       "      <th>Jeff Schaffer</th>\n",
       "      <td>14</td>\n",
       "    </tr>\n",
       "    <tr>\n",
       "      <th>Steve O'Donnell</th>\n",
       "      <td>2</td>\n",
       "    </tr>\n",
       "    <tr>\n",
       "      <th>Andy Cowan</th>\n",
       "      <td>1</td>\n",
       "    </tr>\n",
       "    <tr>\n",
       "      <th>Bruce Eric Kaplan</th>\n",
       "      <td>3</td>\n",
       "    </tr>\n",
       "    <tr>\n",
       "      <th>Spike Feresten</th>\n",
       "      <td>9</td>\n",
       "    </tr>\n",
       "    <tr>\n",
       "      <th>Larry Levin</th>\n",
       "      <td>2</td>\n",
       "    </tr>\n",
       "    <tr>\n",
       "      <th>Steve Lookner</th>\n",
       "      <td>1</td>\n",
       "    </tr>\n",
       "    <tr>\n",
       "      <th>Tom Leopold</th>\n",
       "      <td>2</td>\n",
       "    </tr>\n",
       "    <tr>\n",
       "      <th>Larry David</th>\n",
       "      <td>59</td>\n",
       "    </tr>\n",
       "    <tr>\n",
       "      <th>Matt Goldman</th>\n",
       "      <td>2</td>\n",
       "    </tr>\n",
       "    <tr>\n",
       "      <th>Jennifer Crittenden</th>\n",
       "      <td>6</td>\n",
       "    </tr>\n",
       "    <tr>\n",
       "      <th>Elaine Pope</th>\n",
       "      <td>2</td>\n",
       "    </tr>\n",
       "    <tr>\n",
       "      <th>Gregg Kavet</th>\n",
       "      <td>11</td>\n",
       "    </tr>\n",
       "    <tr>\n",
       "      <th>Larry Charles</th>\n",
       "      <td>20</td>\n",
       "    </tr>\n",
       "    <tr>\n",
       "      <th>Peter Mehlman</th>\n",
       "      <td>19</td>\n",
       "    </tr>\n",
       "    <tr>\n",
       "      <th>Charlie Rubin</th>\n",
       "      <td>1</td>\n",
       "    </tr>\n",
       "    <tr>\n",
       "      <th>Jill Franklyn</th>\n",
       "      <td>1</td>\n",
       "    </tr>\n",
       "  </tbody>\n",
       "</table>\n",
       "</div>"
      ],
      "text/plain": [
       "                    No_Episodes\n",
       "Writers                        \n",
       "Jerry Seinfeld               18\n",
       "Alec Berg                    14\n",
       "Jon Hayman                    1\n",
       "Bob Shaw                      2\n",
       "Max Pross                    13\n",
       "Greg Daniels                  1\n",
       "Don McEnery                   1\n",
       "David Mandel                  9\n",
       "Carol Leifer                  6\n",
       "Lawrence H. Levy              1\n",
       "Sam Kass                      1\n",
       "Fred Stoller                  1\n",
       "Bruce Kirschbaum              3\n",
       "Steve Koren                   5\n",
       "Andy Robin                   13\n",
       "Steve Skrovan                 1\n",
       "Bill Masters                  3\n",
       "Ron Hague                     1\n",
       "Dan O'Keefe                   5\n",
       "Tom Gammill                  13\n",
       "Marjorie Gross                4\n",
       "Darin Henry                   1\n",
       "Jeff Schaffer                14\n",
       "Steve O'Donnell               2\n",
       "Andy Cowan                    1\n",
       "Bruce Eric Kaplan             3\n",
       "Spike Feresten                9\n",
       "Larry Levin                   2\n",
       "Steve Lookner                 1\n",
       "Tom Leopold                   2\n",
       "Larry David                  59\n",
       "Matt Goldman                  2\n",
       "Jennifer Crittenden           6\n",
       "Elaine Pope                   2\n",
       "Gregg Kavet                  11\n",
       "Larry Charles                20\n",
       "Peter Mehlman                19\n",
       "Charlie Rubin                 1\n",
       "Jill Franklyn                 1"
      ]
     },
     "execution_count": 101,
     "metadata": {},
     "output_type": "execute_result"
    }
   ],
   "source": [
    "writers_df.set_index('Writers',inplace=True)\n",
    "writers_df"
   ]
  },
  {
   "cell_type": "code",
   "execution_count": 102,
   "metadata": {},
   "outputs": [
    {
     "data": {
      "text/html": [
       "<div>\n",
       "<style scoped>\n",
       "    .dataframe tbody tr th:only-of-type {\n",
       "        vertical-align: middle;\n",
       "    }\n",
       "\n",
       "    .dataframe tbody tr th {\n",
       "        vertical-align: top;\n",
       "    }\n",
       "\n",
       "    .dataframe thead th {\n",
       "        text-align: right;\n",
       "    }\n",
       "</style>\n",
       "<table border=\"1\" class=\"dataframe\">\n",
       "  <thead>\n",
       "    <tr style=\"text-align: right;\">\n",
       "      <th></th>\n",
       "      <th>No_Episodes</th>\n",
       "    </tr>\n",
       "    <tr>\n",
       "      <th>Writers</th>\n",
       "      <th></th>\n",
       "    </tr>\n",
       "  </thead>\n",
       "  <tbody>\n",
       "    <tr>\n",
       "      <th>Larry David</th>\n",
       "      <td>59</td>\n",
       "    </tr>\n",
       "    <tr>\n",
       "      <th>Larry Charles</th>\n",
       "      <td>20</td>\n",
       "    </tr>\n",
       "    <tr>\n",
       "      <th>Peter Mehlman</th>\n",
       "      <td>19</td>\n",
       "    </tr>\n",
       "    <tr>\n",
       "      <th>Jerry Seinfeld</th>\n",
       "      <td>18</td>\n",
       "    </tr>\n",
       "    <tr>\n",
       "      <th>Jeff Schaffer</th>\n",
       "      <td>14</td>\n",
       "    </tr>\n",
       "    <tr>\n",
       "      <th>Alec Berg</th>\n",
       "      <td>14</td>\n",
       "    </tr>\n",
       "    <tr>\n",
       "      <th>Andy Robin</th>\n",
       "      <td>13</td>\n",
       "    </tr>\n",
       "    <tr>\n",
       "      <th>Tom Gammill</th>\n",
       "      <td>13</td>\n",
       "    </tr>\n",
       "    <tr>\n",
       "      <th>Max Pross</th>\n",
       "      <td>13</td>\n",
       "    </tr>\n",
       "    <tr>\n",
       "      <th>Gregg Kavet</th>\n",
       "      <td>11</td>\n",
       "    </tr>\n",
       "    <tr>\n",
       "      <th>Spike Feresten</th>\n",
       "      <td>9</td>\n",
       "    </tr>\n",
       "    <tr>\n",
       "      <th>David Mandel</th>\n",
       "      <td>9</td>\n",
       "    </tr>\n",
       "    <tr>\n",
       "      <th>Jennifer Crittenden</th>\n",
       "      <td>6</td>\n",
       "    </tr>\n",
       "    <tr>\n",
       "      <th>Carol Leifer</th>\n",
       "      <td>6</td>\n",
       "    </tr>\n",
       "    <tr>\n",
       "      <th>Steve Koren</th>\n",
       "      <td>5</td>\n",
       "    </tr>\n",
       "    <tr>\n",
       "      <th>Dan O'Keefe</th>\n",
       "      <td>5</td>\n",
       "    </tr>\n",
       "    <tr>\n",
       "      <th>Marjorie Gross</th>\n",
       "      <td>4</td>\n",
       "    </tr>\n",
       "    <tr>\n",
       "      <th>Bruce Eric Kaplan</th>\n",
       "      <td>3</td>\n",
       "    </tr>\n",
       "    <tr>\n",
       "      <th>Bruce Kirschbaum</th>\n",
       "      <td>3</td>\n",
       "    </tr>\n",
       "    <tr>\n",
       "      <th>Bill Masters</th>\n",
       "      <td>3</td>\n",
       "    </tr>\n",
       "    <tr>\n",
       "      <th>Elaine Pope</th>\n",
       "      <td>2</td>\n",
       "    </tr>\n",
       "    <tr>\n",
       "      <th>Matt Goldman</th>\n",
       "      <td>2</td>\n",
       "    </tr>\n",
       "    <tr>\n",
       "      <th>Bob Shaw</th>\n",
       "      <td>2</td>\n",
       "    </tr>\n",
       "    <tr>\n",
       "      <th>Tom Leopold</th>\n",
       "      <td>2</td>\n",
       "    </tr>\n",
       "    <tr>\n",
       "      <th>Larry Levin</th>\n",
       "      <td>2</td>\n",
       "    </tr>\n",
       "    <tr>\n",
       "      <th>Steve O'Donnell</th>\n",
       "      <td>2</td>\n",
       "    </tr>\n",
       "    <tr>\n",
       "      <th>Andy Cowan</th>\n",
       "      <td>1</td>\n",
       "    </tr>\n",
       "    <tr>\n",
       "      <th>Lawrence H. Levy</th>\n",
       "      <td>1</td>\n",
       "    </tr>\n",
       "    <tr>\n",
       "      <th>Steve Lookner</th>\n",
       "      <td>1</td>\n",
       "    </tr>\n",
       "    <tr>\n",
       "      <th>Greg Daniels</th>\n",
       "      <td>1</td>\n",
       "    </tr>\n",
       "    <tr>\n",
       "      <th>Darin Henry</th>\n",
       "      <td>1</td>\n",
       "    </tr>\n",
       "    <tr>\n",
       "      <th>Don McEnery</th>\n",
       "      <td>1</td>\n",
       "    </tr>\n",
       "    <tr>\n",
       "      <th>Ron Hague</th>\n",
       "      <td>1</td>\n",
       "    </tr>\n",
       "    <tr>\n",
       "      <th>Steve Skrovan</th>\n",
       "      <td>1</td>\n",
       "    </tr>\n",
       "    <tr>\n",
       "      <th>Fred Stoller</th>\n",
       "      <td>1</td>\n",
       "    </tr>\n",
       "    <tr>\n",
       "      <th>Sam Kass</th>\n",
       "      <td>1</td>\n",
       "    </tr>\n",
       "    <tr>\n",
       "      <th>Jon Hayman</th>\n",
       "      <td>1</td>\n",
       "    </tr>\n",
       "    <tr>\n",
       "      <th>Charlie Rubin</th>\n",
       "      <td>1</td>\n",
       "    </tr>\n",
       "    <tr>\n",
       "      <th>Jill Franklyn</th>\n",
       "      <td>1</td>\n",
       "    </tr>\n",
       "  </tbody>\n",
       "</table>\n",
       "</div>"
      ],
      "text/plain": [
       "                    No_Episodes\n",
       "Writers                        \n",
       "Larry David                  59\n",
       "Larry Charles                20\n",
       "Peter Mehlman                19\n",
       "Jerry Seinfeld               18\n",
       "Jeff Schaffer                14\n",
       "Alec Berg                    14\n",
       "Andy Robin                   13\n",
       "Tom Gammill                  13\n",
       "Max Pross                    13\n",
       "Gregg Kavet                  11\n",
       "Spike Feresten                9\n",
       "David Mandel                  9\n",
       "Jennifer Crittenden           6\n",
       "Carol Leifer                  6\n",
       "Steve Koren                   5\n",
       "Dan O'Keefe                   5\n",
       "Marjorie Gross                4\n",
       "Bruce Eric Kaplan             3\n",
       "Bruce Kirschbaum              3\n",
       "Bill Masters                  3\n",
       "Elaine Pope                   2\n",
       "Matt Goldman                  2\n",
       "Bob Shaw                      2\n",
       "Tom Leopold                   2\n",
       "Larry Levin                   2\n",
       "Steve O'Donnell               2\n",
       "Andy Cowan                    1\n",
       "Lawrence H. Levy              1\n",
       "Steve Lookner                 1\n",
       "Greg Daniels                  1\n",
       "Darin Henry                   1\n",
       "Don McEnery                   1\n",
       "Ron Hague                     1\n",
       "Steve Skrovan                 1\n",
       "Fred Stoller                  1\n",
       "Sam Kass                      1\n",
       "Jon Hayman                    1\n",
       "Charlie Rubin                 1\n",
       "Jill Franklyn                 1"
      ]
     },
     "execution_count": 102,
     "metadata": {},
     "output_type": "execute_result"
    }
   ],
   "source": [
    "writers_df.sort_values('No_Episodes',ascending=False)"
   ]
  },
  {
   "cell_type": "code",
   "execution_count": null,
   "metadata": {},
   "outputs": [],
   "source": []
  }
 ],
 "metadata": {
  "kernelspec": {
   "display_name": "Python 3",
   "language": "python",
   "name": "python3"
  },
  "language_info": {
   "codemirror_mode": {
    "name": "ipython",
    "version": 3
   },
   "file_extension": ".py",
   "mimetype": "text/x-python",
   "name": "python",
   "nbconvert_exporter": "python",
   "pygments_lexer": "ipython3",
   "version": "3.7.1"
  }
 },
 "nbformat": 4,
 "nbformat_minor": 2
}
